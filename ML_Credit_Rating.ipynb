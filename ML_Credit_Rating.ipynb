{
 "cells": [
  {
   "cell_type": "markdown",
   "id": "921bea9f",
   "metadata": {},
   "source": [
    "# ML Project : Credit Risk"
   ]
  },
  {
   "cell_type": "markdown",
   "id": "0056a7ff",
   "metadata": {},
   "source": [
    "### Table of contents :\n",
    "\n",
    "- Utils\n",
    " - Libraries\n",
    " - Data Import\n",
    "- Exploratory Data Analysis\n",
    " - Global Analysis\n",
    " - Feature Analysis\n",
    " - Visuals and graphics\n",
    "- Preprocessing\n",
    " - Categorical Encoding\n",
    " - Feature Engineering\n",
    " - Scaling\n",
    " - Over Sampling (Adasyn)\n",
    " - Train Test Split\n",
    "- Modeling\n",
    " - Logistic Regression\n",
    " - Random Forest\n",
    " - XGB\n",
    " - Catboost\n",
    "- Model Comparison\n",
    " - Cross validation\n",
    " - Visuals\n",
    "- Model Explainability\n",
    " - In-design Tree explainability \n",
    " - SHAP"
   ]
  },
  {
   "cell_type": "markdown",
   "id": "b00740de",
   "metadata": {},
   "source": [
    "Importation des librairies"
   ]
  },
  {
   "cell_type": "code",
   "execution_count": 11,
   "id": "625b8fd6",
   "metadata": {},
   "outputs": [],
   "source": [
    "# Utils\n",
    "## System\n",
    "import os\n",
    "from joblib import dump, load\n",
    "import multiprocessing\n",
    "\n",
    "# Data Manipulation\n",
    "import pandas as pd\n",
    "import numpy as np\n",
    "\n",
    "# EDA\n",
    "import seaborn as sns\n",
    "import matplotlib.pyplot as plt\n",
    "\n",
    "# Preprocessing\n",
    "## Split data\n",
    "from sklearn.model_selection import train_test_split\n",
    "## Scaling\n",
    "from sklearn.preprocessing import StandardScaler\n",
    "## Categorical encoding\n",
    "from sklearn.preprocessing import LabelEncoder, LabelBinarizer\n",
    "## TSNE\n",
    "from sklearn.manifold import TSNE\n",
    "\n",
    "\n",
    "# Modeling\n",
    "## Logistic \n",
    "from sklearn.linear_model import LogisticRegression\n",
    "## Random forest\n",
    "from sklearn.ensemble import RandomForestClassifier\n",
    "## XGBoost\n",
    "import xgboost as xgb\n",
    "## Catboost\n",
    "from catboost import CatBoostClassifier, Pool, cv\n",
    "##Tuning hyperparameters\n",
    "from sklearn.model_selection import GridSearchCV, cross_validate\n",
    "\n",
    "# Metrics\n",
    "from sklearn.metrics import accuracy_score, auc, log_loss\n",
    "from sklearn.model_selection import cross_val_score, cross_validate\n",
    "\n",
    "# Explainability\n",
    "import shap\n",
    "\n",
    "# Over Sampling\n",
    "from imblearn.over_sampling import SMOTE, ADASYN"
   ]
  },
  {
   "cell_type": "code",
   "execution_count": 12,
   "id": "386df1a1",
   "metadata": {},
   "outputs": [],
   "source": [
    "seed = 42"
   ]
  },
  {
   "cell_type": "code",
   "execution_count": 127,
   "id": "e315a26e",
   "metadata": {},
   "outputs": [],
   "source": [
    "def plot_feature_importance(importance,names,model_type):\n",
    "\n",
    "#Create arrays from feature importance and feature names\n",
    "    feature_importance = np.array(importance)\n",
    "    feature_names = np.array(names)\n",
    "\n",
    "#Create a DataFrame using a Dictionary\n",
    "    data={'feature_names':feature_names,'feature_importance':feature_importance}\n",
    "    fi_df = pd.DataFrame(data)\n",
    "\n",
    "#Sort the DataFrame in order decreasing feature importance\n",
    "    fi_df.sort_values(by=['feature_importance'], ascending=False,inplace=True)\n",
    "\n",
    "#Define size of bar plot\n",
    "    plt.figure(figsize=(10,8))\n",
    "#Plot Searborn bar chart\n",
    "    sns.barplot(x=fi_df['feature_importance'], y=fi_df['feature_names'])\n",
    "#Add chart labels\n",
    "    plt.title(model_type + \" \" + 'FEATURE IMPORTANCE')\n",
    "    plt.xlabel('FEATURE IMPORTANCE')\n",
    "    plt.ylabel('FEATURE NAMES')\n"
   ]
  },
  {
   "cell_type": "markdown",
   "id": "904e57e5",
   "metadata": {},
   "source": [
    "#### Navigation simplifiée entre les fichiers"
   ]
  },
  {
   "cell_type": "code",
   "execution_count": 13,
   "id": "0c3b2e0d",
   "metadata": {},
   "outputs": [],
   "source": [
    "code_path = os.path.dirname(os.path.abspath(\"__file__\"))\n",
    "data_path = code_path + \"\\\\data\""
   ]
  },
  {
   "cell_type": "markdown",
   "id": "670624d2",
   "metadata": {},
   "source": [
    "#### Importation des données"
   ]
  },
  {
   "cell_type": "code",
   "execution_count": 14,
   "id": "85e6f854",
   "metadata": {},
   "outputs": [],
   "source": [
    "raw_credit = pd.read_csv(\"data/raw.csv\")"
   ]
  },
  {
   "cell_type": "markdown",
   "id": "4bd891a9",
   "metadata": {},
   "source": [
    "# Exploratory Data Analysis"
   ]
  },
  {
   "cell_type": "markdown",
   "id": "df4f0e25",
   "metadata": {},
   "source": [
    "### Global Analysis"
   ]
  },
  {
   "cell_type": "code",
   "execution_count": 15,
   "id": "655430ab",
   "metadata": {
    "scrolled": true
   },
   "outputs": [
    {
     "data": {
      "text/html": [
       "<div>\n",
       "<style scoped>\n",
       "    .dataframe tbody tr th:only-of-type {\n",
       "        vertical-align: middle;\n",
       "    }\n",
       "\n",
       "    .dataframe tbody tr th {\n",
       "        vertical-align: top;\n",
       "    }\n",
       "\n",
       "    .dataframe thead th {\n",
       "        text-align: right;\n",
       "    }\n",
       "</style>\n",
       "<table border=\"1\" class=\"dataframe\">\n",
       "  <thead>\n",
       "    <tr style=\"text-align: right;\">\n",
       "      <th></th>\n",
       "      <th>checking_status</th>\n",
       "      <th>duration</th>\n",
       "      <th>credit_history</th>\n",
       "      <th>purpose</th>\n",
       "      <th>credit_amount</th>\n",
       "      <th>savings_status</th>\n",
       "      <th>employment</th>\n",
       "      <th>installment_commitment</th>\n",
       "      <th>personal_status</th>\n",
       "      <th>other_parties</th>\n",
       "      <th>...</th>\n",
       "      <th>property_magnitude</th>\n",
       "      <th>age</th>\n",
       "      <th>other_payment_plans</th>\n",
       "      <th>housing</th>\n",
       "      <th>existing_credits</th>\n",
       "      <th>job</th>\n",
       "      <th>num_dependents</th>\n",
       "      <th>own_telephone</th>\n",
       "      <th>foreign_worker</th>\n",
       "      <th>class</th>\n",
       "    </tr>\n",
       "  </thead>\n",
       "  <tbody>\n",
       "    <tr>\n",
       "      <th>0</th>\n",
       "      <td>&lt;0</td>\n",
       "      <td>6</td>\n",
       "      <td>critical/other existing credit</td>\n",
       "      <td>radio/tv</td>\n",
       "      <td>1169</td>\n",
       "      <td>no known savings</td>\n",
       "      <td>&gt;=7</td>\n",
       "      <td>4</td>\n",
       "      <td>male single</td>\n",
       "      <td>none</td>\n",
       "      <td>...</td>\n",
       "      <td>real estate</td>\n",
       "      <td>67</td>\n",
       "      <td>none</td>\n",
       "      <td>own</td>\n",
       "      <td>2</td>\n",
       "      <td>skilled</td>\n",
       "      <td>1</td>\n",
       "      <td>yes</td>\n",
       "      <td>yes</td>\n",
       "      <td>good</td>\n",
       "    </tr>\n",
       "    <tr>\n",
       "      <th>1</th>\n",
       "      <td>0&lt;=X&lt;200</td>\n",
       "      <td>48</td>\n",
       "      <td>existing paid</td>\n",
       "      <td>radio/tv</td>\n",
       "      <td>5951</td>\n",
       "      <td>&lt;100</td>\n",
       "      <td>1&lt;=X&lt;4</td>\n",
       "      <td>2</td>\n",
       "      <td>female div/dep/mar</td>\n",
       "      <td>none</td>\n",
       "      <td>...</td>\n",
       "      <td>real estate</td>\n",
       "      <td>22</td>\n",
       "      <td>none</td>\n",
       "      <td>own</td>\n",
       "      <td>1</td>\n",
       "      <td>skilled</td>\n",
       "      <td>1</td>\n",
       "      <td>none</td>\n",
       "      <td>yes</td>\n",
       "      <td>bad</td>\n",
       "    </tr>\n",
       "    <tr>\n",
       "      <th>2</th>\n",
       "      <td>no checking</td>\n",
       "      <td>12</td>\n",
       "      <td>critical/other existing credit</td>\n",
       "      <td>education</td>\n",
       "      <td>2096</td>\n",
       "      <td>&lt;100</td>\n",
       "      <td>4&lt;=X&lt;7</td>\n",
       "      <td>2</td>\n",
       "      <td>male single</td>\n",
       "      <td>none</td>\n",
       "      <td>...</td>\n",
       "      <td>real estate</td>\n",
       "      <td>49</td>\n",
       "      <td>none</td>\n",
       "      <td>own</td>\n",
       "      <td>1</td>\n",
       "      <td>unskilled resident</td>\n",
       "      <td>2</td>\n",
       "      <td>none</td>\n",
       "      <td>yes</td>\n",
       "      <td>good</td>\n",
       "    </tr>\n",
       "    <tr>\n",
       "      <th>3</th>\n",
       "      <td>&lt;0</td>\n",
       "      <td>42</td>\n",
       "      <td>existing paid</td>\n",
       "      <td>furniture/equipment</td>\n",
       "      <td>7882</td>\n",
       "      <td>&lt;100</td>\n",
       "      <td>4&lt;=X&lt;7</td>\n",
       "      <td>2</td>\n",
       "      <td>male single</td>\n",
       "      <td>guarantor</td>\n",
       "      <td>...</td>\n",
       "      <td>life insurance</td>\n",
       "      <td>45</td>\n",
       "      <td>none</td>\n",
       "      <td>for free</td>\n",
       "      <td>1</td>\n",
       "      <td>skilled</td>\n",
       "      <td>2</td>\n",
       "      <td>none</td>\n",
       "      <td>yes</td>\n",
       "      <td>good</td>\n",
       "    </tr>\n",
       "    <tr>\n",
       "      <th>4</th>\n",
       "      <td>&lt;0</td>\n",
       "      <td>24</td>\n",
       "      <td>delayed previously</td>\n",
       "      <td>new car</td>\n",
       "      <td>4870</td>\n",
       "      <td>&lt;100</td>\n",
       "      <td>1&lt;=X&lt;4</td>\n",
       "      <td>3</td>\n",
       "      <td>male single</td>\n",
       "      <td>none</td>\n",
       "      <td>...</td>\n",
       "      <td>no known property</td>\n",
       "      <td>53</td>\n",
       "      <td>none</td>\n",
       "      <td>for free</td>\n",
       "      <td>2</td>\n",
       "      <td>skilled</td>\n",
       "      <td>2</td>\n",
       "      <td>none</td>\n",
       "      <td>yes</td>\n",
       "      <td>bad</td>\n",
       "    </tr>\n",
       "  </tbody>\n",
       "</table>\n",
       "<p>5 rows × 21 columns</p>\n",
       "</div>"
      ],
      "text/plain": [
       "  checking_status  duration                  credit_history  \\\n",
       "0              <0         6  critical/other existing credit   \n",
       "1        0<=X<200        48                   existing paid   \n",
       "2     no checking        12  critical/other existing credit   \n",
       "3              <0        42                   existing paid   \n",
       "4              <0        24              delayed previously   \n",
       "\n",
       "               purpose  credit_amount    savings_status employment  \\\n",
       "0             radio/tv           1169  no known savings        >=7   \n",
       "1             radio/tv           5951              <100     1<=X<4   \n",
       "2            education           2096              <100     4<=X<7   \n",
       "3  furniture/equipment           7882              <100     4<=X<7   \n",
       "4              new car           4870              <100     1<=X<4   \n",
       "\n",
       "   installment_commitment     personal_status other_parties  ...  \\\n",
       "0                       4         male single          none  ...   \n",
       "1                       2  female div/dep/mar          none  ...   \n",
       "2                       2         male single          none  ...   \n",
       "3                       2         male single     guarantor  ...   \n",
       "4                       3         male single          none  ...   \n",
       "\n",
       "   property_magnitude age  other_payment_plans   housing existing_credits  \\\n",
       "0         real estate  67                 none       own                2   \n",
       "1         real estate  22                 none       own                1   \n",
       "2         real estate  49                 none       own                1   \n",
       "3      life insurance  45                 none  for free                1   \n",
       "4   no known property  53                 none  for free                2   \n",
       "\n",
       "                  job num_dependents  own_telephone foreign_worker class  \n",
       "0             skilled              1            yes            yes  good  \n",
       "1             skilled              1           none            yes   bad  \n",
       "2  unskilled resident              2           none            yes  good  \n",
       "3             skilled              2           none            yes  good  \n",
       "4             skilled              2           none            yes   bad  \n",
       "\n",
       "[5 rows x 21 columns]"
      ]
     },
     "execution_count": 15,
     "metadata": {},
     "output_type": "execute_result"
    }
   ],
   "source": [
    "raw_credit.head()"
   ]
  },
  {
   "cell_type": "markdown",
   "id": "e935f381",
   "metadata": {},
   "source": []
  },
  {
   "cell_type": "code",
   "execution_count": 16,
   "id": "d8689c18",
   "metadata": {},
   "outputs": [
    {
     "data": {
      "text/plain": [
       "Index(['checking_status', 'duration', 'credit_history', 'purpose',\n",
       "       'credit_amount', 'savings_status', 'employment',\n",
       "       'installment_commitment', 'personal_status', 'other_parties',\n",
       "       'residence_since', 'property_magnitude', 'age', 'other_payment_plans',\n",
       "       'housing', 'existing_credits', 'job', 'num_dependents', 'own_telephone',\n",
       "       'foreign_worker', 'class'],\n",
       "      dtype='object')"
      ]
     },
     "execution_count": 16,
     "metadata": {},
     "output_type": "execute_result"
    }
   ],
   "source": [
    "raw_credit.columns"
   ]
  },
  {
   "cell_type": "code",
   "execution_count": 17,
   "id": "7b3b9ba6",
   "metadata": {},
   "outputs": [
    {
     "data": {
      "text/html": [
       "<div>\n",
       "<style scoped>\n",
       "    .dataframe tbody tr th:only-of-type {\n",
       "        vertical-align: middle;\n",
       "    }\n",
       "\n",
       "    .dataframe tbody tr th {\n",
       "        vertical-align: top;\n",
       "    }\n",
       "\n",
       "    .dataframe thead th {\n",
       "        text-align: right;\n",
       "    }\n",
       "</style>\n",
       "<table border=\"1\" class=\"dataframe\">\n",
       "  <thead>\n",
       "    <tr style=\"text-align: right;\">\n",
       "      <th></th>\n",
       "      <th>duration</th>\n",
       "      <th>credit_amount</th>\n",
       "      <th>installment_commitment</th>\n",
       "      <th>residence_since</th>\n",
       "      <th>age</th>\n",
       "      <th>existing_credits</th>\n",
       "      <th>num_dependents</th>\n",
       "    </tr>\n",
       "  </thead>\n",
       "  <tbody>\n",
       "    <tr>\n",
       "      <th>count</th>\n",
       "      <td>1000.000000</td>\n",
       "      <td>1000.000000</td>\n",
       "      <td>1000.000000</td>\n",
       "      <td>1000.000000</td>\n",
       "      <td>1000.000000</td>\n",
       "      <td>1000.000000</td>\n",
       "      <td>1000.000000</td>\n",
       "    </tr>\n",
       "    <tr>\n",
       "      <th>mean</th>\n",
       "      <td>20.903000</td>\n",
       "      <td>3271.258000</td>\n",
       "      <td>2.973000</td>\n",
       "      <td>2.845000</td>\n",
       "      <td>35.546000</td>\n",
       "      <td>1.407000</td>\n",
       "      <td>1.155000</td>\n",
       "    </tr>\n",
       "    <tr>\n",
       "      <th>std</th>\n",
       "      <td>12.058814</td>\n",
       "      <td>2822.736876</td>\n",
       "      <td>1.118715</td>\n",
       "      <td>1.103718</td>\n",
       "      <td>11.375469</td>\n",
       "      <td>0.577654</td>\n",
       "      <td>0.362086</td>\n",
       "    </tr>\n",
       "    <tr>\n",
       "      <th>min</th>\n",
       "      <td>4.000000</td>\n",
       "      <td>250.000000</td>\n",
       "      <td>1.000000</td>\n",
       "      <td>1.000000</td>\n",
       "      <td>19.000000</td>\n",
       "      <td>1.000000</td>\n",
       "      <td>1.000000</td>\n",
       "    </tr>\n",
       "    <tr>\n",
       "      <th>25%</th>\n",
       "      <td>12.000000</td>\n",
       "      <td>1365.500000</td>\n",
       "      <td>2.000000</td>\n",
       "      <td>2.000000</td>\n",
       "      <td>27.000000</td>\n",
       "      <td>1.000000</td>\n",
       "      <td>1.000000</td>\n",
       "    </tr>\n",
       "    <tr>\n",
       "      <th>50%</th>\n",
       "      <td>18.000000</td>\n",
       "      <td>2319.500000</td>\n",
       "      <td>3.000000</td>\n",
       "      <td>3.000000</td>\n",
       "      <td>33.000000</td>\n",
       "      <td>1.000000</td>\n",
       "      <td>1.000000</td>\n",
       "    </tr>\n",
       "    <tr>\n",
       "      <th>75%</th>\n",
       "      <td>24.000000</td>\n",
       "      <td>3972.250000</td>\n",
       "      <td>4.000000</td>\n",
       "      <td>4.000000</td>\n",
       "      <td>42.000000</td>\n",
       "      <td>2.000000</td>\n",
       "      <td>1.000000</td>\n",
       "    </tr>\n",
       "    <tr>\n",
       "      <th>max</th>\n",
       "      <td>72.000000</td>\n",
       "      <td>18424.000000</td>\n",
       "      <td>4.000000</td>\n",
       "      <td>4.000000</td>\n",
       "      <td>75.000000</td>\n",
       "      <td>4.000000</td>\n",
       "      <td>2.000000</td>\n",
       "    </tr>\n",
       "  </tbody>\n",
       "</table>\n",
       "</div>"
      ],
      "text/plain": [
       "          duration  credit_amount  installment_commitment  residence_since  \\\n",
       "count  1000.000000    1000.000000             1000.000000      1000.000000   \n",
       "mean     20.903000    3271.258000                2.973000         2.845000   \n",
       "std      12.058814    2822.736876                1.118715         1.103718   \n",
       "min       4.000000     250.000000                1.000000         1.000000   \n",
       "25%      12.000000    1365.500000                2.000000         2.000000   \n",
       "50%      18.000000    2319.500000                3.000000         3.000000   \n",
       "75%      24.000000    3972.250000                4.000000         4.000000   \n",
       "max      72.000000   18424.000000                4.000000         4.000000   \n",
       "\n",
       "               age  existing_credits  num_dependents  \n",
       "count  1000.000000       1000.000000     1000.000000  \n",
       "mean     35.546000          1.407000        1.155000  \n",
       "std      11.375469          0.577654        0.362086  \n",
       "min      19.000000          1.000000        1.000000  \n",
       "25%      27.000000          1.000000        1.000000  \n",
       "50%      33.000000          1.000000        1.000000  \n",
       "75%      42.000000          2.000000        1.000000  \n",
       "max      75.000000          4.000000        2.000000  "
      ]
     },
     "execution_count": 17,
     "metadata": {},
     "output_type": "execute_result"
    }
   ],
   "source": [
    "raw_credit.describe()"
   ]
  },
  {
   "cell_type": "markdown",
   "id": "9fe41e9d",
   "metadata": {},
   "source": [
    "<div class=\"alert alert-block alert-info\"><b>Tip: </b> Nos variables numériques ne semblent pas avoir de valeurs aberrantes   </div>"
   ]
  },
  {
   "cell_type": "markdown",
   "id": "fff23186",
   "metadata": {},
   "source": [
    "### Feature Analysis"
   ]
  },
  {
   "cell_type": "code",
   "execution_count": 18,
   "id": "fa21bfb3",
   "metadata": {
    "scrolled": true
   },
   "outputs": [
    {
     "name": "stdout",
     "output_type": "stream",
     "text": [
      "<class 'pandas.core.frame.DataFrame'>\n",
      "RangeIndex: 1000 entries, 0 to 999\n",
      "Data columns (total 21 columns):\n",
      " #   Column                  Non-Null Count  Dtype \n",
      "---  ------                  --------------  ----- \n",
      " 0   checking_status         1000 non-null   object\n",
      " 1   duration                1000 non-null   int64 \n",
      " 2   credit_history          1000 non-null   object\n",
      " 3   purpose                 1000 non-null   object\n",
      " 4   credit_amount           1000 non-null   int64 \n",
      " 5   savings_status          1000 non-null   object\n",
      " 6   employment              1000 non-null   object\n",
      " 7   installment_commitment  1000 non-null   int64 \n",
      " 8   personal_status         1000 non-null   object\n",
      " 9   other_parties           1000 non-null   object\n",
      " 10  residence_since         1000 non-null   int64 \n",
      " 11  property_magnitude      1000 non-null   object\n",
      " 12  age                     1000 non-null   int64 \n",
      " 13  other_payment_plans     1000 non-null   object\n",
      " 14  housing                 1000 non-null   object\n",
      " 15  existing_credits        1000 non-null   int64 \n",
      " 16  job                     1000 non-null   object\n",
      " 17  num_dependents          1000 non-null   int64 \n",
      " 18  own_telephone           1000 non-null   object\n",
      " 19  foreign_worker          1000 non-null   object\n",
      " 20  class                   1000 non-null   object\n",
      "dtypes: int64(7), object(14)\n",
      "memory usage: 164.2+ KB\n"
     ]
    }
   ],
   "source": [
    "raw_credit.info()"
   ]
  },
  {
   "cell_type": "markdown",
   "id": "4fdaf7af",
   "metadata": {},
   "source": [
    "<div class=\"alert alert-block alert-info\"><b>Tip: </b> On peut voir que nous n'avons aucun NA pour chacune de nos features \n",
    "Sinon, nous aurions du utiliser une méthode d'imputation car les seuls algorithmes qui sont capables de comprendre les NA sont de type boosting, et nous aimerions bien en essayer d'autres pour mieux comparer les performances et choisir le meilleur</div> "
   ]
  },
  {
   "cell_type": "code",
   "execution_count": null,
   "id": "d6b7756f",
   "metadata": {},
   "outputs": [],
   "source": [
    "### expliquer les types de variables manquantes et les methodes d'imputations qui correspondent"
   ]
  },
  {
   "cell_type": "markdown",
   "id": "6df1e06f",
   "metadata": {},
   "source": [
    "# Feature Engineering"
   ]
  },
  {
   "cell_type": "code",
   "execution_count": 19,
   "id": "9f65f7fa",
   "metadata": {},
   "outputs": [],
   "source": [
    "cat_raw_credit = raw_credit.copy()"
   ]
  },
  {
   "cell_type": "markdown",
   "id": "b3e72641",
   "metadata": {},
   "source": [
    "#### Text to Category"
   ]
  },
  {
   "cell_type": "code",
   "execution_count": 20,
   "id": "c8db7cae",
   "metadata": {
    "scrolled": true
   },
   "outputs": [],
   "source": [
    " cat_raw_credit[[\"checking_status\",\"credit_history\", \"purpose\", \"savings_status\", \"employment\", \"personal_status\", \"other_parties\", \"property_magnitude\", \"other_payment_plans\", \"housing\", \"job\", \"own_telephone\", \"foreign_worker\", \"class\"]] \\\n",
    "    = raw_credit[[\"checking_status\",\"credit_history\", \"purpose\", \"savings_status\", \"employment\", \"personal_status\", \"other_parties\", \"property_magnitude\", \"other_payment_plans\", \"housing\", \"job\", \"own_telephone\", \"foreign_worker\", \"class\"]]\\\n",
    "    .astype(\"category\")"
   ]
  },
  {
   "cell_type": "markdown",
   "id": "9ef1efd9",
   "metadata": {},
   "source": [
    "On enregistre nos données modifiées"
   ]
  },
  {
   "cell_type": "code",
   "execution_count": 21,
   "id": "6b47b2aa",
   "metadata": {},
   "outputs": [],
   "source": [
    "#cat_raw_credit.info()\n",
    "#cat_raw_credit.to_csv(data/cat_raw.csv)\n",
    "cat_raw_credit.to_csv(data_path + \"\\\\cat_raw.csv\")"
   ]
  },
  {
   "cell_type": "markdown",
   "id": "5d9f3b55",
   "metadata": {},
   "source": [
    "<div class=\"alert alert-block alert-info\"><b>Tip: </b> On enregistre deja ce dataset. Il est deja finalisé pour notre algorithme de catboost, qui comprend les variables categorielles </div>"
   ]
  },
  {
   "cell_type": "code",
   "execution_count": 22,
   "id": "5b3b9f0d",
   "metadata": {
    "scrolled": true
   },
   "outputs": [
    {
     "name": "stdout",
     "output_type": "stream",
     "text": [
      "<class 'pandas.core.frame.DataFrame'>\n",
      "RangeIndex: 1000 entries, 0 to 999\n",
      "Data columns (total 21 columns):\n",
      " #   Column                  Non-Null Count  Dtype   \n",
      "---  ------                  --------------  -----   \n",
      " 0   checking_status         1000 non-null   category\n",
      " 1   duration                1000 non-null   int64   \n",
      " 2   credit_history          1000 non-null   category\n",
      " 3   purpose                 1000 non-null   category\n",
      " 4   credit_amount           1000 non-null   int64   \n",
      " 5   savings_status          1000 non-null   category\n",
      " 6   employment              1000 non-null   category\n",
      " 7   installment_commitment  1000 non-null   int64   \n",
      " 8   personal_status         1000 non-null   category\n",
      " 9   other_parties           1000 non-null   category\n",
      " 10  residence_since         1000 non-null   int64   \n",
      " 11  property_magnitude      1000 non-null   category\n",
      " 12  age                     1000 non-null   int64   \n",
      " 13  other_payment_plans     1000 non-null   category\n",
      " 14  housing                 1000 non-null   category\n",
      " 15  existing_credits        1000 non-null   int64   \n",
      " 16  job                     1000 non-null   category\n",
      " 17  num_dependents          1000 non-null   int64   \n",
      " 18  own_telephone           1000 non-null   category\n",
      " 19  foreign_worker          1000 non-null   category\n",
      " 20  class                   1000 non-null   category\n",
      "dtypes: category(14), int64(7)\n",
      "memory usage: 71.0 KB\n"
     ]
    }
   ],
   "source": [
    "cat_raw_credit.info()"
   ]
  },
  {
   "cell_type": "markdown",
   "id": "aab0a1f8",
   "metadata": {},
   "source": [
    "### Feature Engineering"
   ]
  },
  {
   "cell_type": "markdown",
   "id": "0ba4e79d",
   "metadata": {},
   "source": [
    "#### Un FE simple a metre en place et qui souvent nous permet d'acquérir de l'information est de segmenter les ages"
   ]
  },
  {
   "cell_type": "code",
   "execution_count": 23,
   "id": "45a9570e",
   "metadata": {},
   "outputs": [
    {
     "name": "stdout",
     "output_type": "stream",
     "text": [
      "<class 'pandas.core.frame.DataFrame'>\n",
      "RangeIndex: 1000 entries, 0 to 999\n",
      "Data columns (total 21 columns):\n",
      " #   Column                  Non-Null Count  Dtype   \n",
      "---  ------                  --------------  -----   \n",
      " 0   checking_status         1000 non-null   category\n",
      " 1   duration                1000 non-null   int64   \n",
      " 2   credit_history          1000 non-null   category\n",
      " 3   purpose                 1000 non-null   category\n",
      " 4   credit_amount           1000 non-null   int64   \n",
      " 5   savings_status          1000 non-null   category\n",
      " 6   employment              1000 non-null   category\n",
      " 7   installment_commitment  1000 non-null   int64   \n",
      " 8   personal_status         1000 non-null   category\n",
      " 9   other_parties           1000 non-null   category\n",
      " 10  residence_since         1000 non-null   int64   \n",
      " 11  property_magnitude      1000 non-null   category\n",
      " 12  other_payment_plans     1000 non-null   category\n",
      " 13  housing                 1000 non-null   category\n",
      " 14  existing_credits        1000 non-null   int64   \n",
      " 15  job                     1000 non-null   category\n",
      " 16  num_dependents          1000 non-null   int64   \n",
      " 17  own_telephone           1000 non-null   category\n",
      " 18  foreign_worker          1000 non-null   category\n",
      " 19  class                   1000 non-null   category\n",
      " 20  age_cat                 1000 non-null   category\n",
      "dtypes: category(15), int64(6)\n",
      "memory usage: 64.4 KB\n"
     ]
    }
   ],
   "source": [
    "inter = (18, 25, 35, 55, 75)\n",
    "\n",
    "age_cat = [\"Student\", \"Young_Adult\", \"Adult\", \"Senior\"]\n",
    "feat_age = cat_raw_credit.copy()\n",
    "feat_age[\"age_cat\"] = pd.cut(cat_raw_credit[\"age\"], inter, labels = age_cat).astype(\"category\")\n",
    "\n",
    "del feat_age[\"age\"]\n",
    "\n",
    "feat_age.info()"
   ]
  },
  {
   "cell_type": "markdown",
   "id": "68863759",
   "metadata": {},
   "source": [
    "# Visuals and Graphics"
   ]
  },
  {
   "cell_type": "code",
   "execution_count": 24,
   "id": "f8216a2c",
   "metadata": {},
   "outputs": [
    {
     "data": {
      "text/plain": [
       "<AxesSubplot:xlabel='class', ylabel='Percent'>"
      ]
     },
     "execution_count": 24,
     "metadata": {},
     "output_type": "execute_result"
    },
    {
     "data": {
      "image/png": "[encoded data removed]",
      "text/plain": [
       "<Figure size 432x288 with 1 Axes>"
      ]
     },
     "metadata": {
      "needs_background": "light"
     },
     "output_type": "display_data"
    }
   ],
   "source": [
    "sns.histplot(data = raw_credit, x = \"class\", hue = \"class\", stat = \"percent\")"
   ]
  },
  {
   "cell_type": "markdown",
   "id": "ab28dfc1",
   "metadata": {},
   "source": [
    "On peut voir que notre dataset a une repartition binaire 70-30. L'accuracy de nos modeles devra donc forcement etre au minimum supérieure 70%"
   ]
  },
  {
   "cell_type": "markdown",
   "id": "1575893b",
   "metadata": {},
   "source": [
    "<div class=\"alert alert-block alert-danger\"><b>Important: </b>On peut voir que la variabale répponse de notre dataset a une repartition binaire 70-30. L'accuracy de nos modeles devra donc forcement etre au minimum supérieure 70% </div>"
   ]
  },
  {
   "cell_type": "code",
   "execution_count": 25,
   "id": "c6cbffa6",
   "metadata": {},
   "outputs": [
    {
     "data": {
      "text/plain": [
       "<AxesSubplot:xlabel='age', ylabel='Count'>"
      ]
     },
     "execution_count": 25,
     "metadata": {},
     "output_type": "execute_result"
    },
    {
     "data": {
      "image/png": "[encoded data removed]",
      "text/plain": [
       "<Figure size 432x288 with 1 Axes>"
      ]
     },
     "metadata": {
      "needs_background": "light"
     },
     "output_type": "display_data"
    }
   ],
   "source": [
    "sns.histplot(data = raw_credit, x = \"age\", hue = \"class\", multiple = \"stack\" )"
   ]
  },
  {
   "cell_type": "code",
   "execution_count": 26,
   "id": "b40c6ec0",
   "metadata": {},
   "outputs": [
    {
     "data": {
      "text/plain": [
       "<AxesSubplot:xlabel='credit_amount', ylabel='age_cat'>"
      ]
     },
     "execution_count": 26,
     "metadata": {},
     "output_type": "execute_result"
    },
    {
     "data": {
      "image/png": "[encoded data removed]",
      "text/plain": [
       "<Figure size 432x288 with 1 Axes>"
      ]
     },
     "metadata": {
      "needs_background": "light"
     },
     "output_type": "display_data"
    }
   ],
   "source": [
    "sns.boxplot(data = feat_age, x = \"credit_amount\", y = \"age_cat\", hue = \"class\")"
   ]
  },
  {
   "cell_type": "markdown",
   "id": "a354dd48",
   "metadata": {},
   "source": [
    "On peut voir que les adultes et les seniors ont une distribution de credit plus eleves"
   ]
  },
  {
   "cell_type": "code",
   "execution_count": 27,
   "id": "c076e546",
   "metadata": {},
   "outputs": [
    {
     "data": {
      "text/html": [
       "<div>\n",
       "<style scoped>\n",
       "    .dataframe tbody tr th:only-of-type {\n",
       "        vertical-align: middle;\n",
       "    }\n",
       "\n",
       "    .dataframe tbody tr th {\n",
       "        vertical-align: top;\n",
       "    }\n",
       "\n",
       "    .dataframe thead th {\n",
       "        text-align: right;\n",
       "    }\n",
       "</style>\n",
       "<table border=\"1\" class=\"dataframe\">\n",
       "  <thead>\n",
       "    <tr style=\"text-align: right;\">\n",
       "      <th></th>\n",
       "      <th>checking_status</th>\n",
       "      <th>duration</th>\n",
       "      <th>credit_history</th>\n",
       "      <th>purpose</th>\n",
       "      <th>credit_amount</th>\n",
       "      <th>savings_status</th>\n",
       "      <th>employment</th>\n",
       "      <th>installment_commitment</th>\n",
       "      <th>personal_status</th>\n",
       "      <th>other_parties</th>\n",
       "      <th>...</th>\n",
       "      <th>property_magnitude</th>\n",
       "      <th>other_payment_plans</th>\n",
       "      <th>housing</th>\n",
       "      <th>existing_credits</th>\n",
       "      <th>job</th>\n",
       "      <th>num_dependents</th>\n",
       "      <th>own_telephone</th>\n",
       "      <th>foreign_worker</th>\n",
       "      <th>class</th>\n",
       "      <th>age_cat</th>\n",
       "    </tr>\n",
       "  </thead>\n",
       "  <tbody>\n",
       "    <tr>\n",
       "      <th>0</th>\n",
       "      <td>&lt;0</td>\n",
       "      <td>6</td>\n",
       "      <td>critical/other existing credit</td>\n",
       "      <td>radio/tv</td>\n",
       "      <td>1169</td>\n",
       "      <td>no known savings</td>\n",
       "      <td>&gt;=7</td>\n",
       "      <td>4</td>\n",
       "      <td>male single</td>\n",
       "      <td>none</td>\n",
       "      <td>...</td>\n",
       "      <td>real estate</td>\n",
       "      <td>none</td>\n",
       "      <td>own</td>\n",
       "      <td>2</td>\n",
       "      <td>skilled</td>\n",
       "      <td>1</td>\n",
       "      <td>yes</td>\n",
       "      <td>yes</td>\n",
       "      <td>good</td>\n",
       "      <td>Senior</td>\n",
       "    </tr>\n",
       "    <tr>\n",
       "      <th>1</th>\n",
       "      <td>0&lt;=X&lt;200</td>\n",
       "      <td>48</td>\n",
       "      <td>existing paid</td>\n",
       "      <td>radio/tv</td>\n",
       "      <td>5951</td>\n",
       "      <td>&lt;100</td>\n",
       "      <td>1&lt;=X&lt;4</td>\n",
       "      <td>2</td>\n",
       "      <td>female div/dep/mar</td>\n",
       "      <td>none</td>\n",
       "      <td>...</td>\n",
       "      <td>real estate</td>\n",
       "      <td>none</td>\n",
       "      <td>own</td>\n",
       "      <td>1</td>\n",
       "      <td>skilled</td>\n",
       "      <td>1</td>\n",
       "      <td>none</td>\n",
       "      <td>yes</td>\n",
       "      <td>bad</td>\n",
       "      <td>Student</td>\n",
       "    </tr>\n",
       "    <tr>\n",
       "      <th>2</th>\n",
       "      <td>no checking</td>\n",
       "      <td>12</td>\n",
       "      <td>critical/other existing credit</td>\n",
       "      <td>education</td>\n",
       "      <td>2096</td>\n",
       "      <td>&lt;100</td>\n",
       "      <td>4&lt;=X&lt;7</td>\n",
       "      <td>2</td>\n",
       "      <td>male single</td>\n",
       "      <td>none</td>\n",
       "      <td>...</td>\n",
       "      <td>real estate</td>\n",
       "      <td>none</td>\n",
       "      <td>own</td>\n",
       "      <td>1</td>\n",
       "      <td>unskilled resident</td>\n",
       "      <td>2</td>\n",
       "      <td>none</td>\n",
       "      <td>yes</td>\n",
       "      <td>good</td>\n",
       "      <td>Adult</td>\n",
       "    </tr>\n",
       "    <tr>\n",
       "      <th>3</th>\n",
       "      <td>&lt;0</td>\n",
       "      <td>42</td>\n",
       "      <td>existing paid</td>\n",
       "      <td>furniture/equipment</td>\n",
       "      <td>7882</td>\n",
       "      <td>&lt;100</td>\n",
       "      <td>4&lt;=X&lt;7</td>\n",
       "      <td>2</td>\n",
       "      <td>male single</td>\n",
       "      <td>guarantor</td>\n",
       "      <td>...</td>\n",
       "      <td>life insurance</td>\n",
       "      <td>none</td>\n",
       "      <td>for free</td>\n",
       "      <td>1</td>\n",
       "      <td>skilled</td>\n",
       "      <td>2</td>\n",
       "      <td>none</td>\n",
       "      <td>yes</td>\n",
       "      <td>good</td>\n",
       "      <td>Adult</td>\n",
       "    </tr>\n",
       "    <tr>\n",
       "      <th>4</th>\n",
       "      <td>&lt;0</td>\n",
       "      <td>24</td>\n",
       "      <td>delayed previously</td>\n",
       "      <td>new car</td>\n",
       "      <td>4870</td>\n",
       "      <td>&lt;100</td>\n",
       "      <td>1&lt;=X&lt;4</td>\n",
       "      <td>3</td>\n",
       "      <td>male single</td>\n",
       "      <td>none</td>\n",
       "      <td>...</td>\n",
       "      <td>no known property</td>\n",
       "      <td>none</td>\n",
       "      <td>for free</td>\n",
       "      <td>2</td>\n",
       "      <td>skilled</td>\n",
       "      <td>2</td>\n",
       "      <td>none</td>\n",
       "      <td>yes</td>\n",
       "      <td>bad</td>\n",
       "      <td>Adult</td>\n",
       "    </tr>\n",
       "    <tr>\n",
       "      <th>5</th>\n",
       "      <td>no checking</td>\n",
       "      <td>36</td>\n",
       "      <td>existing paid</td>\n",
       "      <td>education</td>\n",
       "      <td>9055</td>\n",
       "      <td>no known savings</td>\n",
       "      <td>1&lt;=X&lt;4</td>\n",
       "      <td>2</td>\n",
       "      <td>male single</td>\n",
       "      <td>none</td>\n",
       "      <td>...</td>\n",
       "      <td>no known property</td>\n",
       "      <td>none</td>\n",
       "      <td>for free</td>\n",
       "      <td>1</td>\n",
       "      <td>unskilled resident</td>\n",
       "      <td>2</td>\n",
       "      <td>yes</td>\n",
       "      <td>yes</td>\n",
       "      <td>good</td>\n",
       "      <td>Young_Adult</td>\n",
       "    </tr>\n",
       "    <tr>\n",
       "      <th>6</th>\n",
       "      <td>no checking</td>\n",
       "      <td>24</td>\n",
       "      <td>existing paid</td>\n",
       "      <td>furniture/equipment</td>\n",
       "      <td>2835</td>\n",
       "      <td>500&lt;=X&lt;1000</td>\n",
       "      <td>&gt;=7</td>\n",
       "      <td>3</td>\n",
       "      <td>male single</td>\n",
       "      <td>none</td>\n",
       "      <td>...</td>\n",
       "      <td>life insurance</td>\n",
       "      <td>none</td>\n",
       "      <td>own</td>\n",
       "      <td>1</td>\n",
       "      <td>skilled</td>\n",
       "      <td>1</td>\n",
       "      <td>none</td>\n",
       "      <td>yes</td>\n",
       "      <td>good</td>\n",
       "      <td>Adult</td>\n",
       "    </tr>\n",
       "    <tr>\n",
       "      <th>7</th>\n",
       "      <td>0&lt;=X&lt;200</td>\n",
       "      <td>36</td>\n",
       "      <td>existing paid</td>\n",
       "      <td>used car</td>\n",
       "      <td>6948</td>\n",
       "      <td>&lt;100</td>\n",
       "      <td>1&lt;=X&lt;4</td>\n",
       "      <td>2</td>\n",
       "      <td>male single</td>\n",
       "      <td>none</td>\n",
       "      <td>...</td>\n",
       "      <td>car</td>\n",
       "      <td>none</td>\n",
       "      <td>rent</td>\n",
       "      <td>1</td>\n",
       "      <td>high qualif/self emp/mgmt</td>\n",
       "      <td>1</td>\n",
       "      <td>yes</td>\n",
       "      <td>yes</td>\n",
       "      <td>good</td>\n",
       "      <td>Young_Adult</td>\n",
       "    </tr>\n",
       "    <tr>\n",
       "      <th>8</th>\n",
       "      <td>no checking</td>\n",
       "      <td>12</td>\n",
       "      <td>existing paid</td>\n",
       "      <td>radio/tv</td>\n",
       "      <td>3059</td>\n",
       "      <td>&gt;=1000</td>\n",
       "      <td>4&lt;=X&lt;7</td>\n",
       "      <td>2</td>\n",
       "      <td>male div/sep</td>\n",
       "      <td>none</td>\n",
       "      <td>...</td>\n",
       "      <td>real estate</td>\n",
       "      <td>none</td>\n",
       "      <td>own</td>\n",
       "      <td>1</td>\n",
       "      <td>unskilled resident</td>\n",
       "      <td>1</td>\n",
       "      <td>none</td>\n",
       "      <td>yes</td>\n",
       "      <td>good</td>\n",
       "      <td>Senior</td>\n",
       "    </tr>\n",
       "    <tr>\n",
       "      <th>9</th>\n",
       "      <td>0&lt;=X&lt;200</td>\n",
       "      <td>30</td>\n",
       "      <td>critical/other existing credit</td>\n",
       "      <td>new car</td>\n",
       "      <td>5234</td>\n",
       "      <td>&lt;100</td>\n",
       "      <td>unemployed</td>\n",
       "      <td>4</td>\n",
       "      <td>male mar/wid</td>\n",
       "      <td>none</td>\n",
       "      <td>...</td>\n",
       "      <td>car</td>\n",
       "      <td>none</td>\n",
       "      <td>own</td>\n",
       "      <td>2</td>\n",
       "      <td>high qualif/self emp/mgmt</td>\n",
       "      <td>1</td>\n",
       "      <td>none</td>\n",
       "      <td>yes</td>\n",
       "      <td>bad</td>\n",
       "      <td>Young_Adult</td>\n",
       "    </tr>\n",
       "  </tbody>\n",
       "</table>\n",
       "<p>10 rows × 21 columns</p>\n",
       "</div>"
      ],
      "text/plain": [
       "  checking_status  duration                  credit_history  \\\n",
       "0              <0         6  critical/other existing credit   \n",
       "1        0<=X<200        48                   existing paid   \n",
       "2     no checking        12  critical/other existing credit   \n",
       "3              <0        42                   existing paid   \n",
       "4              <0        24              delayed previously   \n",
       "5     no checking        36                   existing paid   \n",
       "6     no checking        24                   existing paid   \n",
       "7        0<=X<200        36                   existing paid   \n",
       "8     no checking        12                   existing paid   \n",
       "9        0<=X<200        30  critical/other existing credit   \n",
       "\n",
       "               purpose  credit_amount    savings_status  employment  \\\n",
       "0             radio/tv           1169  no known savings         >=7   \n",
       "1             radio/tv           5951              <100      1<=X<4   \n",
       "2            education           2096              <100      4<=X<7   \n",
       "3  furniture/equipment           7882              <100      4<=X<7   \n",
       "4              new car           4870              <100      1<=X<4   \n",
       "5            education           9055  no known savings      1<=X<4   \n",
       "6  furniture/equipment           2835       500<=X<1000         >=7   \n",
       "7             used car           6948              <100      1<=X<4   \n",
       "8             radio/tv           3059            >=1000      4<=X<7   \n",
       "9              new car           5234              <100  unemployed   \n",
       "\n",
       "   installment_commitment     personal_status other_parties  ...  \\\n",
       "0                       4         male single          none  ...   \n",
       "1                       2  female div/dep/mar          none  ...   \n",
       "2                       2         male single          none  ...   \n",
       "3                       2         male single     guarantor  ...   \n",
       "4                       3         male single          none  ...   \n",
       "5                       2         male single          none  ...   \n",
       "6                       3         male single          none  ...   \n",
       "7                       2         male single          none  ...   \n",
       "8                       2        male div/sep          none  ...   \n",
       "9                       4        male mar/wid          none  ...   \n",
       "\n",
       "   property_magnitude other_payment_plans   housing existing_credits  \\\n",
       "0         real estate                none       own                2   \n",
       "1         real estate                none       own                1   \n",
       "2         real estate                none       own                1   \n",
       "3      life insurance                none  for free                1   \n",
       "4   no known property                none  for free                2   \n",
       "5   no known property                none  for free                1   \n",
       "6      life insurance                none       own                1   \n",
       "7                 car                none      rent                1   \n",
       "8         real estate                none       own                1   \n",
       "9                 car                none       own                2   \n",
       "\n",
       "                         job num_dependents  own_telephone foreign_worker  \\\n",
       "0                    skilled              1            yes            yes   \n",
       "1                    skilled              1           none            yes   \n",
       "2         unskilled resident              2           none            yes   \n",
       "3                    skilled              2           none            yes   \n",
       "4                    skilled              2           none            yes   \n",
       "5         unskilled resident              2            yes            yes   \n",
       "6                    skilled              1           none            yes   \n",
       "7  high qualif/self emp/mgmt              1            yes            yes   \n",
       "8         unskilled resident              1           none            yes   \n",
       "9  high qualif/self emp/mgmt              1           none            yes   \n",
       "\n",
       "  class      age_cat  \n",
       "0  good       Senior  \n",
       "1   bad      Student  \n",
       "2  good        Adult  \n",
       "3  good        Adult  \n",
       "4   bad        Adult  \n",
       "5  good  Young_Adult  \n",
       "6  good        Adult  \n",
       "7  good  Young_Adult  \n",
       "8  good       Senior  \n",
       "9   bad  Young_Adult  \n",
       "\n",
       "[10 rows x 21 columns]"
      ]
     },
     "execution_count": 27,
     "metadata": {},
     "output_type": "execute_result"
    }
   ],
   "source": [
    "feat_age.head(10)"
   ]
  },
  {
   "cell_type": "code",
   "execution_count": 28,
   "id": "add27d08",
   "metadata": {},
   "outputs": [
    {
     "data": {
      "text/plain": [
       "<AxesSubplot:xlabel='housing', ylabel='Count'>"
      ]
     },
     "execution_count": 28,
     "metadata": {},
     "output_type": "execute_result"
    },
    {
     "data": {
      "image/png": "[encoded data removed]",
      "text/plain": [
       "<Figure size 432x288 with 1 Axes>"
      ]
     },
     "metadata": {
      "needs_background": "light"
     },
     "output_type": "display_data"
    }
   ],
   "source": [
    "sns.histplot(data = feat_age, x = \"housing\", hue = \"class\", multiple = \"dodge\")"
   ]
  },
  {
   "cell_type": "markdown",
   "id": "4d769394",
   "metadata": {},
   "source": [
    "On peut voir qu'il semble il y avoir une correlation positive entre le fait de posseder sa maison et le fait d'avoir un bon score de risque credit"
   ]
  },
  {
   "cell_type": "markdown",
   "id": "e87088dc",
   "metadata": {},
   "source": [
    "<div class=\"alert alert-block alert-info\"><b>Tip: </b> On peut voir qu'il semble il y avoir une correlation positive entre le fait de posseder sa maison et le fait d'avoir un bon score de risque credit </div>"
   ]
  },
  {
   "cell_type": "code",
   "execution_count": 29,
   "id": "d3345190",
   "metadata": {},
   "outputs": [
    {
     "data": {
      "text/plain": [
       "<AxesSubplot:xlabel='duration', ylabel='age_cat'>"
      ]
     },
     "execution_count": 29,
     "metadata": {},
     "output_type": "execute_result"
    },
    {
     "data": {
      "image/png": "[encoded data removed]",
      "text/plain": [
       "<Figure size 432x288 with 1 Axes>"
      ]
     },
     "metadata": {
      "needs_background": "light"
     },
     "output_type": "display_data"
    }
   ],
   "source": [
    "sns.boxplot(data = feat_age, x = \"duration\", y = \"age_cat\", hue = \"class\")"
   ]
  },
  {
   "cell_type": "markdown",
   "id": "d0e532bf",
   "metadata": {},
   "source": [
    "\n",
    "\n",
    "<div class=\"alert alert-block alert-info\"><b>Tip: </b>Il semble il y avoir une correlation positive entre le fait d'avoir un credit qui dure depuis longtemps et le fait d'avoir un mauvais score de risque credit</div>"
   ]
  },
  {
   "cell_type": "code",
   "execution_count": 30,
   "id": "b36cc719",
   "metadata": {},
   "outputs": [
    {
     "data": {
      "text/plain": [
       "<AxesSubplot:xlabel='credit_amount', ylabel='checking_status'>"
      ]
     },
     "execution_count": 30,
     "metadata": {},
     "output_type": "execute_result"
    },
    {
     "data": {
      "image/png": "[encoded data removed]",
      "text/plain": [
       "<Figure size 432x288 with 1 Axes>"
      ]
     },
     "metadata": {
      "needs_background": "light"
     },
     "output_type": "display_data"
    }
   ],
   "source": [
    "sns.boxplot(data = feat_age, x = \"credit_amount\", y = \"checking_status\", hue = \"class\")"
   ]
  },
  {
   "cell_type": "code",
   "execution_count": 31,
   "id": "55ad0823",
   "metadata": {},
   "outputs": [
    {
     "data": {
      "text/plain": [
       "<AxesSubplot:xlabel='credit_amount', ylabel='purpose'>"
      ]
     },
     "execution_count": 31,
     "metadata": {},
     "output_type": "execute_result"
    },
    {
     "data": {
      "image/png": "[encoded data removed]",
      "text/plain": [
       "<Figure size 432x288 with 1 Axes>"
      ]
     },
     "metadata": {
      "needs_background": "light"
     },
     "output_type": "display_data"
    }
   ],
   "source": [
    "sns.boxplot(data = feat_age, x = \"credit_amount\", y = \"purpose\", hue = \"class\")"
   ]
  },
  {
   "cell_type": "code",
   "execution_count": 32,
   "id": "ab557064",
   "metadata": {},
   "outputs": [
    {
     "data": {
      "text/plain": [
       "<AxesSubplot:xlabel='duration', ylabel='age_cat'>"
      ]
     },
     "execution_count": 32,
     "metadata": {},
     "output_type": "execute_result"
    },
    {
     "data": {
      "image/png": "[encoded data removed]",
      "text/plain": [
       "<Figure size 432x288 with 1 Axes>"
      ]
     },
     "metadata": {
      "needs_background": "light"
     },
     "output_type": "display_data"
    }
   ],
   "source": [
    "sns.violinplot(data = feat_age, x = \"duration\", y = \"age_cat\", hue = \"class\")"
   ]
  },
  {
   "cell_type": "markdown",
   "id": "7883cbd5",
   "metadata": {},
   "source": [
    "### Preprocessing\n",
    "#### Encoding et Scaling\n"
   ]
  },
  {
   "cell_type": "markdown",
   "id": "d3060fb2",
   "metadata": {},
   "source": [
    "#### Encoding"
   ]
  },
  {
   "cell_type": "code",
   "execution_count": 33,
   "id": "46727407",
   "metadata": {},
   "outputs": [],
   "source": [
    "lb = LabelBinarizer()\n",
    "le = LabelEncoder()\n",
    "\n",
    "binary_cols = [\"own_telephone\",  \"foreign_worker\", \"class\"]\n",
    "category_cols = [\"checking_status\", \"credit_history\", \"purpose\", \"savings_status\", \"employment\", \"personal_status\", \"other_parties\", \"property_magnitude\", \"other_payment_plans\", \"housing\", \"job\", \"age_cat\"]\n",
    "\n",
    "encode_feat = feat_age.copy()\n",
    "\n",
    "for col in binary_cols:\n",
    "    encode_feat[col] = lb.fit_transform(encode_feat[col])\n",
    "\n",
    "for col in category_cols:\n",
    "    encode_feat[col] = le.fit_transform(encode_feat[col])\n",
    "    \n",
    "encode_feat.to_csv(\"data/encoded_raw.csv\")"
   ]
  },
  {
   "cell_type": "markdown",
   "id": "195f0343",
   "metadata": {},
   "source": [
    "# Train Test Split\n",
    "#### Noter l'utilisation de Adasyn"
   ]
  },
  {
   "cell_type": "code",
   "execution_count": 34,
   "id": "979f0dcb",
   "metadata": {},
   "outputs": [],
   "source": [
    "X = encode_feat.drop(\"class\", axis = 1)\n",
    "y = encode_feat[\"class\"]\n",
    "\n",
    "X_resampled, y_resampled = ADASYN().fit_resample(X, y)"
   ]
  },
  {
   "cell_type": "code",
   "execution_count": 35,
   "id": "ff218467",
   "metadata": {},
   "outputs": [],
   "source": [
    "X_train, X_test, y_train, y_test = train_test_split(X, y, test_size=0.333, random_state = seed)\n",
    "\n",
    "Ada_X_train, Ada_X_test, Ada_y_train, Ada_y_test = train_test_split(X_resampled, y_resampled, test_size=0.333, random_state = seed)\n",
    "\n",
    "\n",
    "X_cat = feat_age.drop(\"class\", axis = 1)\n",
    "y_cat = feat_age[\"class\"]\n",
    "cat_X_train, cat_X_test, cat_y_train, cat_y_test = train_test_split(X_cat, y_cat, test_size=0.333, random_state = seed)"
   ]
  },
  {
   "cell_type": "code",
   "execution_count": 36,
   "id": "54d6e193",
   "metadata": {
    "scrolled": true
   },
   "outputs": [
    {
     "name": "stdout",
     "output_type": "stream",
     "text": [
      "<class 'pandas.core.frame.DataFrame'>\n",
      "RangeIndex: 1419 entries, 0 to 1418\n",
      "Data columns (total 20 columns):\n",
      " #   Column                  Non-Null Count  Dtype\n",
      "---  ------                  --------------  -----\n",
      " 0   checking_status         1419 non-null   int32\n",
      " 1   duration                1419 non-null   int64\n",
      " 2   credit_history          1419 non-null   int32\n",
      " 3   purpose                 1419 non-null   int32\n",
      " 4   credit_amount           1419 non-null   int64\n",
      " 5   savings_status          1419 non-null   int32\n",
      " 6   employment              1419 non-null   int32\n",
      " 7   installment_commitment  1419 non-null   int64\n",
      " 8   personal_status         1419 non-null   int32\n",
      " 9   other_parties           1419 non-null   int32\n",
      " 10  residence_since         1419 non-null   int64\n",
      " 11  property_magnitude      1419 non-null   int32\n",
      " 12  other_payment_plans     1419 non-null   int32\n",
      " 13  housing                 1419 non-null   int32\n",
      " 14  existing_credits        1419 non-null   int64\n",
      " 15  job                     1419 non-null   int32\n",
      " 16  num_dependents          1419 non-null   int64\n",
      " 17  own_telephone           1419 non-null   int32\n",
      " 18  foreign_worker          1419 non-null   int32\n",
      " 19  age_cat                 1419 non-null   int32\n",
      "dtypes: int32(14), int64(6)\n",
      "memory usage: 144.2 KB\n"
     ]
    },
    {
     "data": {
      "text/plain": [
       "<AxesSubplot:xlabel='class', ylabel='Count'>"
      ]
     },
     "execution_count": 36,
     "metadata": {},
     "output_type": "execute_result"
    },
    {
     "data": {
      "image/png": "[encoded data removed]",
      "text/plain": [
       "<Figure size 432x288 with 1 Axes>"
      ]
     },
     "metadata": {
      "needs_background": "light"
     },
     "output_type": "display_data"
    }
   ],
   "source": [
    "X_resampled.info()\n",
    "\n",
    "sns.histplot(data = y_resampled)"
   ]
  },
  {
   "cell_type": "markdown",
   "id": "db69eaab",
   "metadata": {},
   "source": [
    "### Correlation Matrix"
   ]
  },
  {
   "cell_type": "code",
   "execution_count": 37,
   "id": "e0cff994",
   "metadata": {},
   "outputs": [
    {
     "data": {
      "text/plain": [
       "<AxesSubplot:>"
      ]
     },
     "execution_count": 37,
     "metadata": {},
     "output_type": "execute_result"
    },
    {
     "data": {
      "image/png": "[encoded data removed]",
      "text/plain": [
       "<Figure size 792x648 with 2 Axes>"
      ]
     },
     "metadata": {
      "needs_background": "light"
     },
     "output_type": "display_data"
    }
   ],
   "source": [
    "corr_matrix = encode_feat.corr(method = \"spearman\")\n",
    "mask = np.triu(np.ones_like(corr_matrix, dtype=bool))\n",
    "f, ax = plt.subplots(figsize=(11, 9))\n",
    "cmap = sns.diverging_palette(230, 20, as_cmap=True)\n",
    "sns.heatmap(corr_matrix, mask=mask, cmap=cmap, vmax=.3, center=0,\n",
    "            square=True, linewidths=.5, cbar_kws={\"shrink\": .5})"
   ]
  },
  {
   "cell_type": "markdown",
   "id": "136d2fc5",
   "metadata": {},
   "source": [
    "# Scaling\n"
   ]
  },
  {
   "cell_type": "markdown",
   "id": "ff1fed25",
   "metadata": {},
   "source": [
    "### Nous n'avons probablement pas besoin du scaling compte tenu de notre dataset et des modeles que nous allons utilisés, je crée donc un jeu de données scaling a part entiere"
   ]
  },
  {
   "cell_type": "code",
   "execution_count": 50,
   "id": "bb0b8ea0",
   "metadata": {},
   "outputs": [],
   "source": [
    "X_train_scaled = X_train.copy()\n",
    "X_test_scaled = X_test.copy()\n",
    "\n",
    "standard_scaler = StandardScaler()\n",
    "\n",
    "features_to_scale_norm = X_train_scaled.columns\n",
    "\n",
    "X_train_scaled[features_to_scale_norm] = standard_scaler.fit_transform(X_train[features_to_scale_norm])\n",
    "X_test_scaled[features_to_scale_norm] = standard_scaler.transform(X_test[features_to_scale_norm])"
   ]
  },
  {
   "cell_type": "code",
   "execution_count": 51,
   "id": "3ae962dc",
   "metadata": {
    "scrolled": true
   },
   "outputs": [
    {
     "data": {
      "text/html": [
       "<div>\n",
       "<style scoped>\n",
       "    .dataframe tbody tr th:only-of-type {\n",
       "        vertical-align: middle;\n",
       "    }\n",
       "\n",
       "    .dataframe tbody tr th {\n",
       "        vertical-align: top;\n",
       "    }\n",
       "\n",
       "    .dataframe thead th {\n",
       "        text-align: right;\n",
       "    }\n",
       "</style>\n",
       "<table border=\"1\" class=\"dataframe\">\n",
       "  <thead>\n",
       "    <tr style=\"text-align: right;\">\n",
       "      <th></th>\n",
       "      <th>checking_status</th>\n",
       "      <th>duration</th>\n",
       "      <th>credit_history</th>\n",
       "      <th>purpose</th>\n",
       "      <th>credit_amount</th>\n",
       "      <th>savings_status</th>\n",
       "      <th>employment</th>\n",
       "      <th>installment_commitment</th>\n",
       "      <th>personal_status</th>\n",
       "      <th>other_parties</th>\n",
       "      <th>residence_since</th>\n",
       "      <th>property_magnitude</th>\n",
       "      <th>other_payment_plans</th>\n",
       "      <th>housing</th>\n",
       "      <th>existing_credits</th>\n",
       "      <th>job</th>\n",
       "      <th>num_dependents</th>\n",
       "      <th>own_telephone</th>\n",
       "      <th>foreign_worker</th>\n",
       "      <th>age_cat</th>\n",
       "    </tr>\n",
       "  </thead>\n",
       "  <tbody>\n",
       "    <tr>\n",
       "      <th>629</th>\n",
       "      <td>1.129415</td>\n",
       "      <td>-1.022878</td>\n",
       "      <td>0.743265</td>\n",
       "      <td>-1.068361</td>\n",
       "      <td>0.132753</td>\n",
       "      <td>1.653413</td>\n",
       "      <td>1.102454</td>\n",
       "      <td>-1.756095</td>\n",
       "      <td>0.83752</td>\n",
       "      <td>0.316653</td>\n",
       "      <td>1.057576</td>\n",
       "      <td>1.336314</td>\n",
       "      <td>0.260024</td>\n",
       "      <td>-0.124553</td>\n",
       "      <td>-0.714976</td>\n",
       "      <td>1.882557</td>\n",
       "      <td>-0.397475</td>\n",
       "      <td>-0.863755</td>\n",
       "      <td>0.205396</td>\n",
       "      <td>-0.513272</td>\n",
       "    </tr>\n",
       "    <tr>\n",
       "      <th>0</th>\n",
       "      <td>-0.453190</td>\n",
       "      <td>-1.273616</td>\n",
       "      <td>-1.131055</td>\n",
       "      <td>0.593673</td>\n",
       "      <td>-0.748226</td>\n",
       "      <td>1.653413</td>\n",
       "      <td>1.102454</td>\n",
       "      <td>0.918141</td>\n",
       "      <td>0.83752</td>\n",
       "      <td>0.316653</td>\n",
       "      <td>1.057576</td>\n",
       "      <td>1.336314</td>\n",
       "      <td>0.260024</td>\n",
       "      <td>-0.124553</td>\n",
       "      <td>0.994303</td>\n",
       "      <td>-0.251114</td>\n",
       "      <td>-0.397475</td>\n",
       "      <td>1.157735</td>\n",
       "      <td>0.205396</td>\n",
       "      <td>-0.513272</td>\n",
       "    </tr>\n",
       "    <tr>\n",
       "      <th>316</th>\n",
       "      <td>-0.453190</td>\n",
       "      <td>-0.772139</td>\n",
       "      <td>0.743265</td>\n",
       "      <td>-0.652853</td>\n",
       "      <td>-0.900735</td>\n",
       "      <td>-0.136890</td>\n",
       "      <td>-1.128092</td>\n",
       "      <td>-0.864683</td>\n",
       "      <td>0.83752</td>\n",
       "      <td>-1.838528</td>\n",
       "      <td>0.148551</td>\n",
       "      <td>-0.314281</td>\n",
       "      <td>0.260024</td>\n",
       "      <td>-0.124553</td>\n",
       "      <td>-0.714976</td>\n",
       "      <td>1.882557</td>\n",
       "      <td>2.515884</td>\n",
       "      <td>-0.863755</td>\n",
       "      <td>0.205396</td>\n",
       "      <td>-1.274055</td>\n",
       "    </tr>\n",
       "    <tr>\n",
       "      <th>706</th>\n",
       "      <td>-1.244492</td>\n",
       "      <td>2.236722</td>\n",
       "      <td>0.743265</td>\n",
       "      <td>-0.237344</td>\n",
       "      <td>1.035235</td>\n",
       "      <td>-1.927192</td>\n",
       "      <td>-0.384577</td>\n",
       "      <td>0.026729</td>\n",
       "      <td>0.83752</td>\n",
       "      <td>0.316653</td>\n",
       "      <td>-0.760474</td>\n",
       "      <td>-0.314281</td>\n",
       "      <td>0.260024</td>\n",
       "      <td>-0.124553</td>\n",
       "      <td>-0.714976</td>\n",
       "      <td>-0.251114</td>\n",
       "      <td>-0.397475</td>\n",
       "      <td>-0.863755</td>\n",
       "      <td>0.205396</td>\n",
       "      <td>0.247511</td>\n",
       "    </tr>\n",
       "    <tr>\n",
       "      <th>547</th>\n",
       "      <td>1.129415</td>\n",
       "      <td>0.230815</td>\n",
       "      <td>0.743265</td>\n",
       "      <td>0.593673</td>\n",
       "      <td>-0.621521</td>\n",
       "      <td>-0.136890</td>\n",
       "      <td>-0.384577</td>\n",
       "      <td>0.026729</td>\n",
       "      <td>0.83752</td>\n",
       "      <td>0.316653</td>\n",
       "      <td>-1.669498</td>\n",
       "      <td>-1.139579</td>\n",
       "      <td>-2.217631</td>\n",
       "      <td>-0.124553</td>\n",
       "      <td>-0.714976</td>\n",
       "      <td>-0.251114</td>\n",
       "      <td>2.515884</td>\n",
       "      <td>-0.863755</td>\n",
       "      <td>0.205396</td>\n",
       "      <td>1.008294</td>\n",
       "    </tr>\n",
       "  </tbody>\n",
       "</table>\n",
       "</div>"
      ],
      "text/plain": [
       "     checking_status  duration  credit_history   purpose  credit_amount  \\\n",
       "629         1.129415 -1.022878        0.743265 -1.068361       0.132753   \n",
       "0          -0.453190 -1.273616       -1.131055  0.593673      -0.748226   \n",
       "316        -0.453190 -0.772139        0.743265 -0.652853      -0.900735   \n",
       "706        -1.244492  2.236722        0.743265 -0.237344       1.035235   \n",
       "547         1.129415  0.230815        0.743265  0.593673      -0.621521   \n",
       "\n",
       "     savings_status  employment  installment_commitment  personal_status  \\\n",
       "629        1.653413    1.102454               -1.756095          0.83752   \n",
       "0          1.653413    1.102454                0.918141          0.83752   \n",
       "316       -0.136890   -1.128092               -0.864683          0.83752   \n",
       "706       -1.927192   -0.384577                0.026729          0.83752   \n",
       "547       -0.136890   -0.384577                0.026729          0.83752   \n",
       "\n",
       "     other_parties  residence_since  property_magnitude  other_payment_plans  \\\n",
       "629       0.316653         1.057576            1.336314             0.260024   \n",
       "0         0.316653         1.057576            1.336314             0.260024   \n",
       "316      -1.838528         0.148551           -0.314281             0.260024   \n",
       "706       0.316653        -0.760474           -0.314281             0.260024   \n",
       "547       0.316653        -1.669498           -1.139579            -2.217631   \n",
       "\n",
       "      housing  existing_credits       job  num_dependents  own_telephone  \\\n",
       "629 -0.124553         -0.714976  1.882557       -0.397475      -0.863755   \n",
       "0   -0.124553          0.994303 -0.251114       -0.397475       1.157735   \n",
       "316 -0.124553         -0.714976  1.882557        2.515884      -0.863755   \n",
       "706 -0.124553         -0.714976 -0.251114       -0.397475      -0.863755   \n",
       "547 -0.124553         -0.714976 -0.251114        2.515884      -0.863755   \n",
       "\n",
       "     foreign_worker   age_cat  \n",
       "629        0.205396 -0.513272  \n",
       "0          0.205396 -0.513272  \n",
       "316        0.205396 -1.274055  \n",
       "706        0.205396  0.247511  \n",
       "547        0.205396  1.008294  "
      ]
     },
     "execution_count": 51,
     "metadata": {},
     "output_type": "execute_result"
    }
   ],
   "source": [
    "X_train_scaled.head()"
   ]
  },
  {
   "cell_type": "code",
   "execution_count": 52,
   "id": "430817e4",
   "metadata": {},
   "outputs": [
    {
     "data": {
      "text/plain": [
       "checking_status    0.302406\n",
       "duration           0.214927\n",
       "purpose            0.138152\n",
       "credit_amount      0.154739\n",
       "savings_status     0.103133\n",
       "Name: class, dtype: float64"
      ]
     },
     "execution_count": 52,
     "metadata": {},
     "output_type": "execute_result"
    }
   ],
   "source": [
    "cor = encode_feat.corr()\n",
    "cor_target = abs(cor[\"class\"])#Selecting highly correlated features\n",
    "relevant_features = cor_target[cor_target>0.1]\n",
    "\n",
    "del relevant_features[\"class\"]\n",
    "\n",
    "relevant_features"
   ]
  },
  {
   "cell_type": "code",
   "execution_count": 38,
   "id": "9c16d9fb",
   "metadata": {
    "scrolled": false
   },
   "outputs": [
    {
     "data": {
      "text/html": [
       "<div>\n",
       "<style scoped>\n",
       "    .dataframe tbody tr th:only-of-type {\n",
       "        vertical-align: middle;\n",
       "    }\n",
       "\n",
       "    .dataframe tbody tr th {\n",
       "        vertical-align: top;\n",
       "    }\n",
       "\n",
       "    .dataframe thead th {\n",
       "        text-align: right;\n",
       "    }\n",
       "</style>\n",
       "<table border=\"1\" class=\"dataframe\">\n",
       "  <thead>\n",
       "    <tr style=\"text-align: right;\">\n",
       "      <th></th>\n",
       "      <th>checking_status</th>\n",
       "      <th>duration</th>\n",
       "      <th>credit_history</th>\n",
       "      <th>purpose</th>\n",
       "      <th>credit_amount</th>\n",
       "      <th>savings_status</th>\n",
       "      <th>employment</th>\n",
       "      <th>installment_commitment</th>\n",
       "      <th>personal_status</th>\n",
       "      <th>other_parties</th>\n",
       "      <th>...</th>\n",
       "      <th>property_magnitude</th>\n",
       "      <th>other_payment_plans</th>\n",
       "      <th>housing</th>\n",
       "      <th>existing_credits</th>\n",
       "      <th>job</th>\n",
       "      <th>num_dependents</th>\n",
       "      <th>own_telephone</th>\n",
       "      <th>foreign_worker</th>\n",
       "      <th>class</th>\n",
       "      <th>age_cat</th>\n",
       "    </tr>\n",
       "  </thead>\n",
       "  <tbody>\n",
       "    <tr>\n",
       "      <th>0</th>\n",
       "      <td>1</td>\n",
       "      <td>6</td>\n",
       "      <td>1</td>\n",
       "      <td>6</td>\n",
       "      <td>1169</td>\n",
       "      <td>4</td>\n",
       "      <td>3</td>\n",
       "      <td>4</td>\n",
       "      <td>3</td>\n",
       "      <td>2</td>\n",
       "      <td>...</td>\n",
       "      <td>3</td>\n",
       "      <td>1</td>\n",
       "      <td>1</td>\n",
       "      <td>2</td>\n",
       "      <td>1</td>\n",
       "      <td>1</td>\n",
       "      <td>1</td>\n",
       "      <td>1</td>\n",
       "      <td>1</td>\n",
       "      <td>1</td>\n",
       "    </tr>\n",
       "    <tr>\n",
       "      <th>1</th>\n",
       "      <td>0</td>\n",
       "      <td>48</td>\n",
       "      <td>3</td>\n",
       "      <td>6</td>\n",
       "      <td>5951</td>\n",
       "      <td>2</td>\n",
       "      <td>0</td>\n",
       "      <td>2</td>\n",
       "      <td>0</td>\n",
       "      <td>2</td>\n",
       "      <td>...</td>\n",
       "      <td>3</td>\n",
       "      <td>1</td>\n",
       "      <td>1</td>\n",
       "      <td>1</td>\n",
       "      <td>1</td>\n",
       "      <td>1</td>\n",
       "      <td>0</td>\n",
       "      <td>1</td>\n",
       "      <td>0</td>\n",
       "      <td>2</td>\n",
       "    </tr>\n",
       "    <tr>\n",
       "      <th>2</th>\n",
       "      <td>3</td>\n",
       "      <td>12</td>\n",
       "      <td>1</td>\n",
       "      <td>2</td>\n",
       "      <td>2096</td>\n",
       "      <td>2</td>\n",
       "      <td>1</td>\n",
       "      <td>2</td>\n",
       "      <td>3</td>\n",
       "      <td>2</td>\n",
       "      <td>...</td>\n",
       "      <td>3</td>\n",
       "      <td>1</td>\n",
       "      <td>1</td>\n",
       "      <td>1</td>\n",
       "      <td>3</td>\n",
       "      <td>2</td>\n",
       "      <td>0</td>\n",
       "      <td>1</td>\n",
       "      <td>1</td>\n",
       "      <td>0</td>\n",
       "    </tr>\n",
       "    <tr>\n",
       "      <th>3</th>\n",
       "      <td>1</td>\n",
       "      <td>42</td>\n",
       "      <td>3</td>\n",
       "      <td>3</td>\n",
       "      <td>7882</td>\n",
       "      <td>2</td>\n",
       "      <td>1</td>\n",
       "      <td>2</td>\n",
       "      <td>3</td>\n",
       "      <td>1</td>\n",
       "      <td>...</td>\n",
       "      <td>1</td>\n",
       "      <td>1</td>\n",
       "      <td>0</td>\n",
       "      <td>1</td>\n",
       "      <td>1</td>\n",
       "      <td>2</td>\n",
       "      <td>0</td>\n",
       "      <td>1</td>\n",
       "      <td>1</td>\n",
       "      <td>0</td>\n",
       "    </tr>\n",
       "    <tr>\n",
       "      <th>4</th>\n",
       "      <td>1</td>\n",
       "      <td>24</td>\n",
       "      <td>2</td>\n",
       "      <td>4</td>\n",
       "      <td>4870</td>\n",
       "      <td>2</td>\n",
       "      <td>0</td>\n",
       "      <td>3</td>\n",
       "      <td>3</td>\n",
       "      <td>2</td>\n",
       "      <td>...</td>\n",
       "      <td>2</td>\n",
       "      <td>1</td>\n",
       "      <td>0</td>\n",
       "      <td>2</td>\n",
       "      <td>1</td>\n",
       "      <td>2</td>\n",
       "      <td>0</td>\n",
       "      <td>1</td>\n",
       "      <td>0</td>\n",
       "      <td>0</td>\n",
       "    </tr>\n",
       "  </tbody>\n",
       "</table>\n",
       "<p>5 rows × 21 columns</p>\n",
       "</div>"
      ],
      "text/plain": [
       "   checking_status  duration  credit_history  purpose  credit_amount  \\\n",
       "0                1         6               1        6           1169   \n",
       "1                0        48               3        6           5951   \n",
       "2                3        12               1        2           2096   \n",
       "3                1        42               3        3           7882   \n",
       "4                1        24               2        4           4870   \n",
       "\n",
       "   savings_status  employment  installment_commitment  personal_status  \\\n",
       "0               4           3                       4                3   \n",
       "1               2           0                       2                0   \n",
       "2               2           1                       2                3   \n",
       "3               2           1                       2                3   \n",
       "4               2           0                       3                3   \n",
       "\n",
       "   other_parties  ...  property_magnitude  other_payment_plans  housing  \\\n",
       "0              2  ...                   3                    1        1   \n",
       "1              2  ...                   3                    1        1   \n",
       "2              2  ...                   3                    1        1   \n",
       "3              1  ...                   1                    1        0   \n",
       "4              2  ...                   2                    1        0   \n",
       "\n",
       "   existing_credits  job  num_dependents  own_telephone  foreign_worker  \\\n",
       "0                 2    1               1              1               1   \n",
       "1                 1    1               1              0               1   \n",
       "2                 1    3               2              0               1   \n",
       "3                 1    1               2              0               1   \n",
       "4                 2    1               2              0               1   \n",
       "\n",
       "   class  age_cat  \n",
       "0      1        1  \n",
       "1      0        2  \n",
       "2      1        0  \n",
       "3      1        0  \n",
       "4      0        0  \n",
       "\n",
       "[5 rows x 21 columns]"
      ]
     },
     "execution_count": 38,
     "metadata": {},
     "output_type": "execute_result"
    }
   ],
   "source": [
    "encode_feat.head()"
   ]
  },
  {
   "cell_type": "markdown",
   "id": "b7362041",
   "metadata": {},
   "source": [
    "### T-SNE"
   ]
  },
  {
   "cell_type": "markdown",
   "id": "b89d2a75",
   "metadata": {},
   "source": [
    "### Nous n'avons pas besoin d'utiliser de techniques de T-SNE car notre jeu de données n'est pas de grande dimension. Je le fait par curiosité"
   ]
  },
  {
   "cell_type": "code",
   "execution_count": 39,
   "id": "185bdb6a",
   "metadata": {},
   "outputs": [],
   "source": [
    "feat_tsne = encode_feat.loc[:, encode_feat.columns != 'class'].copy()\n",
    "y = encode_feat[\"class\"]\n",
    "\n",
    "c_feat_tsne = encode_feat.loc[:, encode_feat.dtypes == np.int64].copy()\n",
    "c_y = encode_feat[\"class\"]\n",
    "\n",
    "tsne = TSNE(n_components = 2, learning_rate = 0.05, n_iter = 2500, init = \"random\", perplexity = 30, random_state = seed)\n",
    "z = tsne.fit_transform(c_feat_tsne)"
   ]
  },
  {
   "cell_type": "code",
   "execution_count": 40,
   "id": "babe2551",
   "metadata": {},
   "outputs": [],
   "source": [
    "df = pd.DataFrame()\n",
    "df[\"y\"] = c_y\n",
    "df[\"comp-1\"] = z[:,0]\n",
    "df[\"comp-2\"] = z[:,1]"
   ]
  },
  {
   "cell_type": "code",
   "execution_count": 41,
   "id": "13453d96",
   "metadata": {
    "scrolled": true
   },
   "outputs": [
    {
     "data": {
      "text/plain": [
       "[Text(0.5, 1.0, 'Credit rating data T-SNE projection')]"
      ]
     },
     "execution_count": 41,
     "metadata": {},
     "output_type": "execute_result"
    },
    {
     "data": {
      "image/png": "[encoded data removed]",
      "text/plain": [
       "<Figure size 432x288 with 1 Axes>"
      ]
     },
     "metadata": {
      "needs_background": "light"
     },
     "output_type": "display_data"
    }
   ],
   "source": [
    "sns.scatterplot(x=\"comp-1\", y=\"comp-2\", hue=df.y.tolist(),\n",
    "                palette=sns.color_palette(\"hls\", 2                                    \n",
    "                                         ),\n",
    "                data=df).set(title=\"Credit rating data T-SNE projection\") "
   ]
  },
  {
   "cell_type": "markdown",
   "id": "6042881a",
   "metadata": {},
   "source": [
    "\n",
    "<div class=\"alert alert-block alert-info\"><b>Tip: </b> Le Dataset n'est pas en grande dimension, nous n'apprenons donc rien de plus grace au TSNE </div>"
   ]
  },
  {
   "cell_type": "markdown",
   "id": "8f643e06",
   "metadata": {},
   "source": [
    "# Modeling"
   ]
  },
  {
   "cell_type": "markdown",
   "id": "ea40a2aa",
   "metadata": {},
   "source": [
    "### Logistic Regression"
   ]
  },
  {
   "cell_type": "code",
   "execution_count": null,
   "id": "a039b2ee",
   "metadata": {},
   "outputs": [],
   "source": [
    "##to do"
   ]
  },
  {
   "cell_type": "markdown",
   "id": "ddc169be",
   "metadata": {},
   "source": [
    "## Random Forest"
   ]
  },
  {
   "cell_type": "markdown",
   "id": "56e71468",
   "metadata": {},
   "source": [
    "### Sans Adasyn"
   ]
  },
  {
   "cell_type": "code",
   "execution_count": 64,
   "id": "ed84c696",
   "metadata": {},
   "outputs": [
    {
     "name": "stdout",
     "output_type": "stream",
     "text": [
      "mean accuracy 0.7417417417417418\n"
     ]
    }
   ],
   "source": [
    "RF_model = RandomForestClassifier(max_features = \"sqrt\", max_depth = 8, n_estimators = 1000, random_state = seed)\n",
    "RF_model.fit(X_train, y_train)\n",
    "print(\"mean accuracy \" + str(RF_model.score(X_test,y_test)))"
   ]
  },
  {
   "cell_type": "markdown",
   "id": "26385c59",
   "metadata": {},
   "source": [
    "Si nous faisiong face a une veritable problematique metier, nous aurions probablement du enregistrer notre modele, afin de continuer de l'appliquer sur les données futures. Voici comment j'ai enregistré ce modele"
   ]
  },
  {
   "cell_type": "code",
   "execution_count": 62,
   "id": "d5c160a8",
   "metadata": {},
   "outputs": [
    {
     "data": {
      "text/plain": [
       "['my_random_forest_model.joblib']"
      ]
     },
     "execution_count": 62,
     "metadata": {},
     "output_type": "execute_result"
    }
   ],
   "source": [
    "dump(RF_model, \"my_random_forest_model.joblib\")"
   ]
  },
  {
   "cell_type": "markdown",
   "id": "0168c0ca",
   "metadata": {},
   "source": [
    "### Avec Adasyn"
   ]
  },
  {
   "cell_type": "code",
   "execution_count": 65,
   "id": "315cf77a",
   "metadata": {},
   "outputs": [
    {
     "name": "stdout",
     "output_type": "stream",
     "text": [
      "mean accuracy 0.8160676532769556\n"
     ]
    }
   ],
   "source": [
    "Ada_RF_model = RandomForestClassifier(max_features = \"sqrt\", max_depth = 8, n_estimators = 1000, random_state = seed)\n",
    "Ada_RF_model.fit(Ada_X_train, Ada_y_train)\n",
    "print(\"mean accuracy \" + str(Ada_RF_model.score(Ada_X_test,Ada_y_test)))"
   ]
  },
  {
   "cell_type": "markdown",
   "id": "a8c80c8f",
   "metadata": {},
   "source": [
    "# XGBoost (to do GridSearchCv)"
   ]
  },
  {
   "cell_type": "code",
   "execution_count": 66,
   "id": "a1975cea",
   "metadata": {
    "scrolled": true
   },
   "outputs": [
    {
     "name": "stdout",
     "output_type": "stream",
     "text": [
      "[0]\ttest-auc:0.81587\n",
      "[500]\ttest-auc:0.87918\n",
      "[1000]\ttest-auc:0.88421\n",
      "[1500]\ttest-auc:0.89125\n",
      "[2000]\ttest-auc:0.89638\n",
      "[2500]\ttest-auc:0.90032\n",
      "[3000]\ttest-auc:0.90400\n",
      "[3500]\ttest-auc:0.90642\n",
      "[4000]\ttest-auc:0.90857\n",
      "[4500]\ttest-auc:0.90993\n",
      "[5000]\ttest-auc:0.91118\n",
      "[5500]\ttest-auc:0.91220\n",
      "[6000]\ttest-auc:0.91305\n",
      "[6500]\ttest-auc:0.91358\n",
      "[7000]\ttest-auc:0.91441\n",
      "[7500]\ttest-auc:0.91502\n",
      "[7816]\ttest-auc:0.91541\n"
     ]
    }
   ],
   "source": [
    "params = {\n",
    "    \"eta\": 0.001,\n",
    "    \"objective\": \"binary:logistic\",\n",
    "    \"subsample\": 0.5,\n",
    "    \"eval_metric\": \"auc\",\n",
    "    \"random_state\": seed\n",
    "}\n",
    "\n",
    "\n",
    "\n",
    "\n",
    "d_train = xgb.DMatrix(Ada_X_train, label = Ada_y_train)\n",
    "d_test = xgb.DMatrix(Ada_X_test, label = Ada_y_test)\n",
    "\n",
    "XGB_model = xgb.train(params, d_train, 50000, evals = [(d_test, \"test\")], verbose_eval=500, early_stopping_rounds=150)\n"
   ]
  },
  {
   "cell_type": "markdown",
   "id": "cfc757c4",
   "metadata": {},
   "source": [
    "# Catboost"
   ]
  },
  {
   "cell_type": "markdown",
   "id": "3a84cb3a",
   "metadata": {},
   "source": [
    "#### Sans Adasyn"
   ]
  },
  {
   "cell_type": "code",
   "execution_count": 67,
   "id": "2f8c3f7a",
   "metadata": {},
   "outputs": [
    {
     "data": {
      "text/plain": [
       "<catboost.core.CatBoostClassifier at 0x1f049193be0>"
      ]
     },
     "execution_count": 67,
     "metadata": {},
     "output_type": "execute_result"
    }
   ],
   "source": [
    "cat_model = CatBoostClassifier(iterations=800,\n",
    "                              learning_rate=0.03,\n",
    "                              random_seed = seed)\n",
    "\n",
    "\n",
    "\n",
    "categorical_features_indices = np.where(cat_X_train.dtypes != np.int64)[0]\n",
    "\n",
    "train_data = Pool(data = cat_X_train, label = cat_y_train, cat_features = categorical_features_indices)\n",
    "eval_data = Pool(data = cat_X_test, label = cat_y_test, cat_features = categorical_features_indices)\n",
    "\n",
    "cat_model.fit(train_data, eval_set = eval_data, verbose = False)\n"
   ]
  },
  {
   "cell_type": "markdown",
   "id": "7f589c98",
   "metadata": {},
   "source": [
    "#### Avec Adasyn"
   ]
  },
  {
   "cell_type": "code",
   "execution_count": 68,
   "id": "037a7212",
   "metadata": {},
   "outputs": [
    {
     "data": {
      "text/plain": [
       "<catboost.core.CatBoostClassifier at 0x1f032eadb20>"
      ]
     },
     "execution_count": 68,
     "metadata": {},
     "output_type": "execute_result"
    }
   ],
   "source": [
    "Ada_cat_model = CatBoostClassifier(iterations=800,\n",
    "                          learning_rate=0.03,\n",
    "                              random_seed = seed)\n",
    "\n",
    "\n",
    "\n",
    "categorical_features_indices = np.where(Ada_X_train.dtypes != np.int64)[0]\n",
    "\n",
    "ada_train_data = Pool(data = Ada_X_train, label = Ada_y_train, cat_features = categorical_features_indices)\n",
    "ada_eval_data = Pool(data = Ada_X_test, label = Ada_y_test, cat_features = categorical_features_indices)\n",
    "\n",
    "Ada_cat_model.fit(train_data, eval_set = eval_data, verbose = False)\n"
   ]
  },
  {
   "cell_type": "code",
   "execution_count": 147,
   "id": "38f97dcd",
   "metadata": {},
   "outputs": [
    {
     "name": "stdout",
     "output_type": "stream",
     "text": [
      "<class 'pandas.core.frame.DataFrame'>\n",
      "Int64Index: 667 entries, 629 to 102\n",
      "Data columns (total 20 columns):\n",
      " #   Column                  Non-Null Count  Dtype\n",
      "---  ------                  --------------  -----\n",
      " 0   checking_status         667 non-null    int32\n",
      " 1   duration                667 non-null    int64\n",
      " 2   credit_history          667 non-null    int32\n",
      " 3   purpose                 667 non-null    int32\n",
      " 4   credit_amount           667 non-null    int64\n",
      " 5   savings_status          667 non-null    int32\n",
      " 6   employment              667 non-null    int32\n",
      " 7   installment_commitment  667 non-null    int64\n",
      " 8   personal_status         667 non-null    int32\n",
      " 9   other_parties           667 non-null    int32\n",
      " 10  residence_since         667 non-null    int64\n",
      " 11  property_magnitude      667 non-null    int32\n",
      " 12  other_payment_plans     667 non-null    int32\n",
      " 13  housing                 667 non-null    int32\n",
      " 14  existing_credits        667 non-null    int64\n",
      " 15  job                     667 non-null    int32\n",
      " 16  num_dependents          667 non-null    int64\n",
      " 17  own_telephone           667 non-null    int32\n",
      " 18  foreign_worker          667 non-null    int32\n",
      " 19  age_cat                 667 non-null    int32\n",
      "dtypes: int32(14), int64(6)\n",
      "memory usage: 73.0 KB\n"
     ]
    }
   ],
   "source": [
    "X_train.info()"
   ]
  },
  {
   "cell_type": "code",
   "execution_count": 69,
   "id": "0453765b",
   "metadata": {},
   "outputs": [],
   "source": [
    "cat_model.get_best_score()\n",
    "preds_class = cat_model.predict(eval_data)"
   ]
  },
  {
   "cell_type": "code",
   "execution_count": 71,
   "id": "1a68e9ba",
   "metadata": {
    "scrolled": true
   },
   "outputs": [
    {
     "data": {
      "application/vnd.jupyter.widget-view+json": {
       "model_id": "4d1476695eeb4fbaa9bfdfe1a7af0c34",
       "version_major": 2,
       "version_minor": 0
      },
      "text/plain": [
       "MetricVisualizer(layout=Layout(align_self='stretch', height='500px'))"
      ]
     },
     "metadata": {},
     "output_type": "display_data"
    },
    {
     "name": "stdout",
     "output_type": "stream",
     "text": [
      "Training on fold [0/10]\n",
      "\n",
      "bestTest = 0.5483278727\n",
      "bestIteration = 45\n",
      "\n",
      "Training on fold [1/10]\n",
      "\n",
      "bestTest = 0.5549097647\n",
      "bestIteration = 143\n",
      "\n",
      "Training on fold [2/10]\n",
      "\n",
      "bestTest = 0.5742265044\n",
      "bestIteration = 40\n",
      "\n",
      "Training on fold [3/10]\n",
      "\n",
      "bestTest = 0.5377598805\n",
      "bestIteration = 99\n",
      "\n",
      "Training on fold [4/10]\n",
      "\n",
      "bestTest = 0.5722248609\n",
      "bestIteration = 159\n",
      "\n",
      "Training on fold [5/10]\n",
      "\n",
      "bestTest = 0.4536053263\n",
      "bestIteration = 286\n",
      "\n",
      "Training on fold [6/10]\n",
      "\n",
      "bestTest = 0.4888759112\n",
      "bestIteration = 165\n",
      "\n",
      "Training on fold [7/10]\n",
      "\n",
      "bestTest = 0.5098046152\n",
      "bestIteration = 78\n",
      "\n",
      "Training on fold [8/10]\n",
      "\n",
      "bestTest = 0.4666072811\n",
      "bestIteration = 143\n",
      "\n",
      "Training on fold [9/10]\n",
      "\n",
      "bestTest = 0.39533479\n",
      "bestIteration = 375\n",
      "\n"
     ]
    }
   ],
   "source": [
    "params = {\"iterations\": 1000,\n",
    "          \"depth\": 6,\n",
    "          \"loss_function\": \"Logloss\",\n",
    "          \"learning_rate\" : 0.05,\n",
    "          \"verbose\": False,\n",
    "         \"use_best_model\": True}\n",
    "\n",
    "scores = cv(train_data,\n",
    "            params,\n",
    "            fold_count=10,\n",
    "            plot=\"True\",\n",
    "            early_stopping_rounds = 100,\n",
    "           partition_random_seed=42\n",
    "           )"
   ]
  },
  {
   "cell_type": "markdown",
   "id": "dd14d585",
   "metadata": {},
   "source": [
    "# Model Comparison"
   ]
  },
  {
   "cell_type": "code",
   "execution_count": 88,
   "id": "db37983f",
   "metadata": {},
   "outputs": [],
   "source": [
    "Models_CV = {\n",
    "    \n",
    "    \"RandomForest\": RandomForestClassifier(random_state = seed),\n",
    "    \"XGB\" : xgb.XGBClassifier(seed = seed),\n",
    "    \"CatBoost\" : CatBoostClassifier(random_state = seed)\n",
    "    \n",
    "}"
   ]
  },
  {
   "cell_type": "code",
   "execution_count": 89,
   "id": "c5ffab7e",
   "metadata": {},
   "outputs": [],
   "source": [
    "cv_results = pd.DataFrame(columns=['model', 'train_score', 'test_score'])"
   ]
  },
  {
   "cell_type": "code",
   "execution_count": 91,
   "id": "631b2c70",
   "metadata": {},
   "outputs": [
    {
     "name": "stdout",
     "output_type": "stream",
     "text": [
      "CV for model: RandomForest done.\n",
      "CV for model: XGB done.\n",
      "CV for model: CatBoost done.\n"
     ]
    },
    {
     "data": {
      "text/html": [
       "<div>\n",
       "<style scoped>\n",
       "    .dataframe tbody tr th:only-of-type {\n",
       "        vertical-align: middle;\n",
       "    }\n",
       "\n",
       "    .dataframe tbody tr th {\n",
       "        vertical-align: top;\n",
       "    }\n",
       "\n",
       "    .dataframe thead th {\n",
       "        text-align: right;\n",
       "    }\n",
       "</style>\n",
       "<table border=\"1\" class=\"dataframe\">\n",
       "  <thead>\n",
       "    <tr style=\"text-align: right;\">\n",
       "      <th></th>\n",
       "      <th>model</th>\n",
       "      <th>train_score</th>\n",
       "      <th>test_score</th>\n",
       "      <th>test_std</th>\n",
       "      <th>fit_time</th>\n",
       "      <th>score_time</th>\n",
       "    </tr>\n",
       "  </thead>\n",
       "  <tbody>\n",
       "    <tr>\n",
       "      <th>0</th>\n",
       "      <td>RandomForest</td>\n",
       "      <td>1.000000</td>\n",
       "      <td>0.792800</td>\n",
       "      <td>0.032948</td>\n",
       "      <td>0.259898</td>\n",
       "      <td>0.015500</td>\n",
       "    </tr>\n",
       "    <tr>\n",
       "      <th>1</th>\n",
       "      <td>XGB</td>\n",
       "      <td>1.000000</td>\n",
       "      <td>0.803438</td>\n",
       "      <td>0.040017</td>\n",
       "      <td>0.466499</td>\n",
       "      <td>0.010402</td>\n",
       "    </tr>\n",
       "    <tr>\n",
       "      <th>2</th>\n",
       "      <td>CatBoost</td>\n",
       "      <td>0.981677</td>\n",
       "      <td>0.808712</td>\n",
       "      <td>0.023951</td>\n",
       "      <td>4.853698</td>\n",
       "      <td>0.005200</td>\n",
       "    </tr>\n",
       "  </tbody>\n",
       "</table>\n",
       "</div>"
      ],
      "text/plain": [
       "          model  train_score  test_score  test_std  fit_time  score_time\n",
       "0  RandomForest     1.000000    0.792800  0.032948  0.259898    0.015500\n",
       "1           XGB     1.000000    0.803438  0.040017  0.466499    0.010402\n",
       "2      CatBoost     0.981677    0.808712  0.023951  4.853698    0.005200"
      ]
     },
     "execution_count": 91,
     "metadata": {},
     "output_type": "execute_result"
    }
   ],
   "source": [
    "cv_results = pd.DataFrame(columns=['model', 'train_score', 'test_score', \"test_std\"])\n",
    "for key in Models_CV.keys():\n",
    "    cv_res = cross_validate(Models_CV[key], Ada_X_train, Ada_y_train, \n",
    "                                             return_train_score=True,\n",
    "                                             scoring=\"accuracy\",\n",
    "                                             cv=10, n_jobs=-1)\n",
    "    res = {\n",
    "        'model': key, \n",
    "        'train_score': cv_res[\"train_score\"].mean(), \n",
    "        'test_score': cv_res[\"test_score\"].mean(),\n",
    "        \"test_std\" : cv_res[\"test_score\"].std(),\n",
    "        'fit_time': cv_res[\"fit_time\"].mean(),\n",
    "        'score_time': cv_res[\"score_time\"].mean(),\n",
    "        }\n",
    "    cv_results = cv_results.append(res, ignore_index=True)\n",
    "    print(\"CV for model:\", key, \"done.\")\n",
    "\n",
    "cv_results"
   ]
  },
  {
   "cell_type": "code",
   "execution_count": 122,
   "id": "59d6bd29",
   "metadata": {},
   "outputs": [
    {
     "data": {
      "image/png": "[encoded data removed]",
      "text/plain": [
       "<Figure size 432x288 with 1 Axes>"
      ]
     },
     "metadata": {
      "needs_background": "light"
     },
     "output_type": "display_data"
    }
   ],
   "source": [
    "cv_results[\"plus_std\"] = cv_results[\"test_std\"] + 2* cv_results[\"test_std\"]\n",
    "cv_results[\"minus_std\"] = cv_results[\"test_std\"] - 2* cv_results[\"test_std\"]\n",
    "\n",
    "\n",
    "\n",
    "ax = sns.barplot(data=cv_results, x='model', y='test_score', hue = \"model\", dodge = False)\n",
    "ax.errorbar(data=cv_results, x='model', y='test_score', yerr='plus_std', ls='', lw=3, color='black')\n",
    "plt.show()"
   ]
  },
  {
   "cell_type": "markdown",
   "id": "bf3db6b3",
   "metadata": {},
   "source": [
    "# Model Explainability"
   ]
  },
  {
   "cell_type": "markdown",
   "id": "2524ef91",
   "metadata": {},
   "source": [
    "### In-design Tree Explainability\n"
   ]
  },
  {
   "cell_type": "code",
   "execution_count": 129,
   "id": "2221675c",
   "metadata": {},
   "outputs": [
    {
     "data": {
      "image/png": "[encoded data removed]",
      "text/plain": [
       "<Figure size 720x576 with 1 Axes>"
      ]
     },
     "metadata": {
      "needs_background": "light"
     },
     "output_type": "display_data"
    }
   ],
   "source": [
    "plot_feature_importance(RF_model.feature_importances_, X_train.columns, \"Random Forest\")"
   ]
  },
  {
   "cell_type": "markdown",
   "id": "6cbb12dc",
   "metadata": {},
   "source": [
    "### SHAP"
   ]
  },
  {
   "cell_type": "code",
   "execution_count": 133,
   "id": "27dc1587",
   "metadata": {
    "scrolled": true
   },
   "outputs": [
    {
     "data": {
      "image/png": "[encoded data removed]",
      "text/plain": [
       "<Figure size 576x684 with 2 Axes>"
      ]
     },
     "metadata": {
      "needs_background": "light"
     },
     "output_type": "display_data"
    }
   ],
   "source": [
    "explainer = shap.TreeExplainer(XGB_model)\n",
    "shap_values = explainer.shap_values(d_train)\n",
    "\n",
    "shap.summary_plot(shap_values, Ada_X_train)\n"
   ]
  },
  {
   "cell_type": "code",
   "execution_count": null,
   "id": "4052b75b",
   "metadata": {},
   "outputs": [],
   "source": []
  }
 ],
 "metadata": {
  "kernelspec": {
   "display_name": "Python 3 (ipykernel)",
   "language": "python",
   "name": "python3"
  },
  "language_info": {
   "codemirror_mode": {
    "name": "ipython",
    "version": 3
   },
   "file_extension": ".py",
   "mimetype": "text/x-python",
   "name": "python",
   "nbconvert_exporter": "python",
   "pygments_lexer": "ipython3",
   "version": "3.9.7"
  }
 },
 "nbformat": 4,
 "nbformat_minor": 5
}
