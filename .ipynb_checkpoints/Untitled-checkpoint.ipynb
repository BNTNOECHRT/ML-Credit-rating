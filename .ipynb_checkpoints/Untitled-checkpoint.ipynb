{
 "cells": [
  {
   "cell_type": "markdown",
   "id": "921bea9f",
   "metadata": {},
   "source": [
    "# ML Project : Credit Risk"
   ]
  },
  {
   "cell_type": "markdown",
   "id": "0056a7ff",
   "metadata": {},
   "source": [
    "### Table of contents :\n",
    "\n",
    "- Import data"
   ]
  },
  {
   "cell_type": "markdown",
   "id": "b00740de",
   "metadata": {},
   "source": [
    "Importation des librairies"
   ]
  },
  {
   "cell_type": "code",
   "execution_count": 159,
   "id": "625b8fd6",
   "metadata": {},
   "outputs": [],
   "source": [
    "# Utils\n",
    "## System\n",
    "\n",
    "# Data Manipulation\n",
    "import pandas as pd\n",
    "import numpy as np\n",
    "\n",
    "# EDA\n",
    "import seaborn as sns\n",
    "import matplotlib.pyplot as plt\n",
    "\n",
    "# Variable Encoding\n",
    "from sklearn.preprocessing import LabelEncoder, LabelBinarizer\n",
    "\n",
    "# Train Test Split\n",
    "from sklearn.model_selection import train_test_split\n",
    "\n",
    "# Models\n",
    "from catboost import CatBoostClassifier, Pool, cv\n",
    "from sklearn.ensemble import RandomForestClassifier\n",
    "from sklearn.linear_model import LogisticRegression\n",
    "import xgboost as xgb # le learning rate est utile pour empecher l'overfitting\n",
    "\n",
    "# Dim Reduc\n",
    "from sklearn.manifold import TSNE\n",
    "\n",
    "# Scaling\n",
    "from sklearn.preprocessing import StandardScaler\n",
    "\n",
    "# Metrics\n",
    "from sklearn.metrics import accuracy_score, auc, log_loss\n",
    "\n",
    "# Model selection\n",
    "from sklearn.model_selection import GridSearchCV\n",
    "\n",
    "\n",
    "\n",
    "# OS \n",
    "import os\n",
    "from joblib import dump, load\n",
    "import multiprocessing\n",
    "\n",
    "import shap\n",
    "from imblearn.over_sampling import SMOTE, ADASYN"
   ]
  },
  {
   "cell_type": "markdown",
   "id": "904e57e5",
   "metadata": {},
   "source": [
    "#### Navigation simplifiée entre les fichiers"
   ]
  },
  {
   "cell_type": "code",
   "execution_count": 4,
   "id": "0c3b2e0d",
   "metadata": {},
   "outputs": [],
   "source": [
    "code_path = os.path.dirname(os.path.abspath(\"__file__\"))\n",
    "data_path = code_path + \"\\\\data\""
   ]
  },
  {
   "cell_type": "markdown",
   "id": "670624d2",
   "metadata": {},
   "source": [
    "#### Importation des données"
   ]
  },
  {
   "cell_type": "code",
   "execution_count": 5,
   "id": "85e6f854",
   "metadata": {},
   "outputs": [],
   "source": [
    "raw_credit = pd.read_csv(\"data/raw.csv\")"
   ]
  },
  {
   "cell_type": "markdown",
   "id": "4bd891a9",
   "metadata": {},
   "source": [
    "#### Statistiques descriptives"
   ]
  },
  {
   "cell_type": "code",
   "execution_count": 6,
   "id": "655430ab",
   "metadata": {
    "scrolled": true
   },
   "outputs": [
    {
     "data": {
      "text/html": [
       "<div>\n",
       "<style scoped>\n",
       "    .dataframe tbody tr th:only-of-type {\n",
       "        vertical-align: middle;\n",
       "    }\n",
       "\n",
       "    .dataframe tbody tr th {\n",
       "        vertical-align: top;\n",
       "    }\n",
       "\n",
       "    .dataframe thead th {\n",
       "        text-align: right;\n",
       "    }\n",
       "</style>\n",
       "<table border=\"1\" class=\"dataframe\">\n",
       "  <thead>\n",
       "    <tr style=\"text-align: right;\">\n",
       "      <th></th>\n",
       "      <th>checking_status</th>\n",
       "      <th>duration</th>\n",
       "      <th>credit_history</th>\n",
       "      <th>purpose</th>\n",
       "      <th>credit_amount</th>\n",
       "      <th>savings_status</th>\n",
       "      <th>employment</th>\n",
       "      <th>installment_commitment</th>\n",
       "      <th>personal_status</th>\n",
       "      <th>other_parties</th>\n",
       "      <th>...</th>\n",
       "      <th>property_magnitude</th>\n",
       "      <th>age</th>\n",
       "      <th>other_payment_plans</th>\n",
       "      <th>housing</th>\n",
       "      <th>existing_credits</th>\n",
       "      <th>job</th>\n",
       "      <th>num_dependents</th>\n",
       "      <th>own_telephone</th>\n",
       "      <th>foreign_worker</th>\n",
       "      <th>class</th>\n",
       "    </tr>\n",
       "  </thead>\n",
       "  <tbody>\n",
       "    <tr>\n",
       "      <th>0</th>\n",
       "      <td>&lt;0</td>\n",
       "      <td>6</td>\n",
       "      <td>critical/other existing credit</td>\n",
       "      <td>radio/tv</td>\n",
       "      <td>1169</td>\n",
       "      <td>no known savings</td>\n",
       "      <td>&gt;=7</td>\n",
       "      <td>4</td>\n",
       "      <td>male single</td>\n",
       "      <td>none</td>\n",
       "      <td>...</td>\n",
       "      <td>real estate</td>\n",
       "      <td>67</td>\n",
       "      <td>none</td>\n",
       "      <td>own</td>\n",
       "      <td>2</td>\n",
       "      <td>skilled</td>\n",
       "      <td>1</td>\n",
       "      <td>yes</td>\n",
       "      <td>yes</td>\n",
       "      <td>good</td>\n",
       "    </tr>\n",
       "    <tr>\n",
       "      <th>1</th>\n",
       "      <td>0&lt;=X&lt;200</td>\n",
       "      <td>48</td>\n",
       "      <td>existing paid</td>\n",
       "      <td>radio/tv</td>\n",
       "      <td>5951</td>\n",
       "      <td>&lt;100</td>\n",
       "      <td>1&lt;=X&lt;4</td>\n",
       "      <td>2</td>\n",
       "      <td>female div/dep/mar</td>\n",
       "      <td>none</td>\n",
       "      <td>...</td>\n",
       "      <td>real estate</td>\n",
       "      <td>22</td>\n",
       "      <td>none</td>\n",
       "      <td>own</td>\n",
       "      <td>1</td>\n",
       "      <td>skilled</td>\n",
       "      <td>1</td>\n",
       "      <td>none</td>\n",
       "      <td>yes</td>\n",
       "      <td>bad</td>\n",
       "    </tr>\n",
       "    <tr>\n",
       "      <th>2</th>\n",
       "      <td>no checking</td>\n",
       "      <td>12</td>\n",
       "      <td>critical/other existing credit</td>\n",
       "      <td>education</td>\n",
       "      <td>2096</td>\n",
       "      <td>&lt;100</td>\n",
       "      <td>4&lt;=X&lt;7</td>\n",
       "      <td>2</td>\n",
       "      <td>male single</td>\n",
       "      <td>none</td>\n",
       "      <td>...</td>\n",
       "      <td>real estate</td>\n",
       "      <td>49</td>\n",
       "      <td>none</td>\n",
       "      <td>own</td>\n",
       "      <td>1</td>\n",
       "      <td>unskilled resident</td>\n",
       "      <td>2</td>\n",
       "      <td>none</td>\n",
       "      <td>yes</td>\n",
       "      <td>good</td>\n",
       "    </tr>\n",
       "    <tr>\n",
       "      <th>3</th>\n",
       "      <td>&lt;0</td>\n",
       "      <td>42</td>\n",
       "      <td>existing paid</td>\n",
       "      <td>furniture/equipment</td>\n",
       "      <td>7882</td>\n",
       "      <td>&lt;100</td>\n",
       "      <td>4&lt;=X&lt;7</td>\n",
       "      <td>2</td>\n",
       "      <td>male single</td>\n",
       "      <td>guarantor</td>\n",
       "      <td>...</td>\n",
       "      <td>life insurance</td>\n",
       "      <td>45</td>\n",
       "      <td>none</td>\n",
       "      <td>for free</td>\n",
       "      <td>1</td>\n",
       "      <td>skilled</td>\n",
       "      <td>2</td>\n",
       "      <td>none</td>\n",
       "      <td>yes</td>\n",
       "      <td>good</td>\n",
       "    </tr>\n",
       "    <tr>\n",
       "      <th>4</th>\n",
       "      <td>&lt;0</td>\n",
       "      <td>24</td>\n",
       "      <td>delayed previously</td>\n",
       "      <td>new car</td>\n",
       "      <td>4870</td>\n",
       "      <td>&lt;100</td>\n",
       "      <td>1&lt;=X&lt;4</td>\n",
       "      <td>3</td>\n",
       "      <td>male single</td>\n",
       "      <td>none</td>\n",
       "      <td>...</td>\n",
       "      <td>no known property</td>\n",
       "      <td>53</td>\n",
       "      <td>none</td>\n",
       "      <td>for free</td>\n",
       "      <td>2</td>\n",
       "      <td>skilled</td>\n",
       "      <td>2</td>\n",
       "      <td>none</td>\n",
       "      <td>yes</td>\n",
       "      <td>bad</td>\n",
       "    </tr>\n",
       "  </tbody>\n",
       "</table>\n",
       "<p>5 rows × 21 columns</p>\n",
       "</div>"
      ],
      "text/plain": [
       "  checking_status  duration                  credit_history  \\\n",
       "0              <0         6  critical/other existing credit   \n",
       "1        0<=X<200        48                   existing paid   \n",
       "2     no checking        12  critical/other existing credit   \n",
       "3              <0        42                   existing paid   \n",
       "4              <0        24              delayed previously   \n",
       "\n",
       "               purpose  credit_amount    savings_status employment  \\\n",
       "0             radio/tv           1169  no known savings        >=7   \n",
       "1             radio/tv           5951              <100     1<=X<4   \n",
       "2            education           2096              <100     4<=X<7   \n",
       "3  furniture/equipment           7882              <100     4<=X<7   \n",
       "4              new car           4870              <100     1<=X<4   \n",
       "\n",
       "   installment_commitment     personal_status other_parties  ...  \\\n",
       "0                       4         male single          none  ...   \n",
       "1                       2  female div/dep/mar          none  ...   \n",
       "2                       2         male single          none  ...   \n",
       "3                       2         male single     guarantor  ...   \n",
       "4                       3         male single          none  ...   \n",
       "\n",
       "   property_magnitude age  other_payment_plans   housing existing_credits  \\\n",
       "0         real estate  67                 none       own                2   \n",
       "1         real estate  22                 none       own                1   \n",
       "2         real estate  49                 none       own                1   \n",
       "3      life insurance  45                 none  for free                1   \n",
       "4   no known property  53                 none  for free                2   \n",
       "\n",
       "                  job num_dependents  own_telephone foreign_worker class  \n",
       "0             skilled              1            yes            yes  good  \n",
       "1             skilled              1           none            yes   bad  \n",
       "2  unskilled resident              2           none            yes  good  \n",
       "3             skilled              2           none            yes  good  \n",
       "4             skilled              2           none            yes   bad  \n",
       "\n",
       "[5 rows x 21 columns]"
      ]
     },
     "execution_count": 6,
     "metadata": {},
     "output_type": "execute_result"
    }
   ],
   "source": [
    "raw_credit.head()"
   ]
  },
  {
   "cell_type": "markdown",
   "id": "e935f381",
   "metadata": {},
   "source": []
  },
  {
   "cell_type": "code",
   "execution_count": 7,
   "id": "d8689c18",
   "metadata": {},
   "outputs": [
    {
     "data": {
      "text/plain": [
       "Index(['checking_status', 'duration', 'credit_history', 'purpose',\n",
       "       'credit_amount', 'savings_status', 'employment',\n",
       "       'installment_commitment', 'personal_status', 'other_parties',\n",
       "       'residence_since', 'property_magnitude', 'age', 'other_payment_plans',\n",
       "       'housing', 'existing_credits', 'job', 'num_dependents', 'own_telephone',\n",
       "       'foreign_worker', 'class'],\n",
       "      dtype='object')"
      ]
     },
     "execution_count": 7,
     "metadata": {},
     "output_type": "execute_result"
    }
   ],
   "source": [
    "raw_credit.columns"
   ]
  },
  {
   "cell_type": "code",
   "execution_count": 8,
   "id": "fa21bfb3",
   "metadata": {},
   "outputs": [
    {
     "name": "stdout",
     "output_type": "stream",
     "text": [
      "<class 'pandas.core.frame.DataFrame'>\n",
      "RangeIndex: 1000 entries, 0 to 999\n",
      "Data columns (total 21 columns):\n",
      " #   Column                  Non-Null Count  Dtype \n",
      "---  ------                  --------------  ----- \n",
      " 0   checking_status         1000 non-null   object\n",
      " 1   duration                1000 non-null   int64 \n",
      " 2   credit_history          1000 non-null   object\n",
      " 3   purpose                 1000 non-null   object\n",
      " 4   credit_amount           1000 non-null   int64 \n",
      " 5   savings_status          1000 non-null   object\n",
      " 6   employment              1000 non-null   object\n",
      " 7   installment_commitment  1000 non-null   int64 \n",
      " 8   personal_status         1000 non-null   object\n",
      " 9   other_parties           1000 non-null   object\n",
      " 10  residence_since         1000 non-null   int64 \n",
      " 11  property_magnitude      1000 non-null   object\n",
      " 12  age                     1000 non-null   int64 \n",
      " 13  other_payment_plans     1000 non-null   object\n",
      " 14  housing                 1000 non-null   object\n",
      " 15  existing_credits        1000 non-null   int64 \n",
      " 16  job                     1000 non-null   object\n",
      " 17  num_dependents          1000 non-null   int64 \n",
      " 18  own_telephone           1000 non-null   object\n",
      " 19  foreign_worker          1000 non-null   object\n",
      " 20  class                   1000 non-null   object\n",
      "dtypes: int64(7), object(14)\n",
      "memory usage: 164.2+ KB\n"
     ]
    }
   ],
   "source": [
    "raw_credit.info()"
   ]
  },
  {
   "cell_type": "markdown",
   "id": "939b8c77",
   "metadata": {},
   "source": [
    "<div class=\"alert alert-block alert-info\"><b>Tip: </b> On peut voir que nous n'avons aucun NA pour chacune de nos features \n",
    "Sinon, nous aurions du utiliser une méthode d'imputation car les seuls algorithmes qui sont capables de comprendre les NA sont de type boosting, et nous aimerions bien en essayer d'autres pour mieux comparer les performances et choisir le modeles</div> \n",
    "\n"
   ]
  },
  {
   "cell_type": "code",
   "execution_count": null,
   "id": "d6b7756f",
   "metadata": {},
   "outputs": [],
   "source": [
    "### expliquer les types de variables manquantes"
   ]
  },
  {
   "cell_type": "code",
   "execution_count": null,
   "id": "1a67f45f",
   "metadata": {},
   "outputs": [],
   "source": []
  },
  {
   "cell_type": "code",
   "execution_count": null,
   "id": "ecfcfbd9",
   "metadata": {},
   "outputs": [],
   "source": []
  },
  {
   "cell_type": "code",
   "execution_count": 9,
   "id": "088d8e47",
   "metadata": {},
   "outputs": [
    {
     "data": {
      "text/html": [
       "<div>\n",
       "<style scoped>\n",
       "    .dataframe tbody tr th:only-of-type {\n",
       "        vertical-align: middle;\n",
       "    }\n",
       "\n",
       "    .dataframe tbody tr th {\n",
       "        vertical-align: top;\n",
       "    }\n",
       "\n",
       "    .dataframe thead th {\n",
       "        text-align: right;\n",
       "    }\n",
       "</style>\n",
       "<table border=\"1\" class=\"dataframe\">\n",
       "  <thead>\n",
       "    <tr style=\"text-align: right;\">\n",
       "      <th></th>\n",
       "      <th>duration</th>\n",
       "      <th>credit_amount</th>\n",
       "      <th>installment_commitment</th>\n",
       "      <th>residence_since</th>\n",
       "      <th>age</th>\n",
       "      <th>existing_credits</th>\n",
       "      <th>num_dependents</th>\n",
       "    </tr>\n",
       "  </thead>\n",
       "  <tbody>\n",
       "    <tr>\n",
       "      <th>count</th>\n",
       "      <td>1000.000000</td>\n",
       "      <td>1000.000000</td>\n",
       "      <td>1000.000000</td>\n",
       "      <td>1000.000000</td>\n",
       "      <td>1000.000000</td>\n",
       "      <td>1000.000000</td>\n",
       "      <td>1000.000000</td>\n",
       "    </tr>\n",
       "    <tr>\n",
       "      <th>mean</th>\n",
       "      <td>20.903000</td>\n",
       "      <td>3271.258000</td>\n",
       "      <td>2.973000</td>\n",
       "      <td>2.845000</td>\n",
       "      <td>35.546000</td>\n",
       "      <td>1.407000</td>\n",
       "      <td>1.155000</td>\n",
       "    </tr>\n",
       "    <tr>\n",
       "      <th>std</th>\n",
       "      <td>12.058814</td>\n",
       "      <td>2822.736876</td>\n",
       "      <td>1.118715</td>\n",
       "      <td>1.103718</td>\n",
       "      <td>11.375469</td>\n",
       "      <td>0.577654</td>\n",
       "      <td>0.362086</td>\n",
       "    </tr>\n",
       "    <tr>\n",
       "      <th>min</th>\n",
       "      <td>4.000000</td>\n",
       "      <td>250.000000</td>\n",
       "      <td>1.000000</td>\n",
       "      <td>1.000000</td>\n",
       "      <td>19.000000</td>\n",
       "      <td>1.000000</td>\n",
       "      <td>1.000000</td>\n",
       "    </tr>\n",
       "    <tr>\n",
       "      <th>25%</th>\n",
       "      <td>12.000000</td>\n",
       "      <td>1365.500000</td>\n",
       "      <td>2.000000</td>\n",
       "      <td>2.000000</td>\n",
       "      <td>27.000000</td>\n",
       "      <td>1.000000</td>\n",
       "      <td>1.000000</td>\n",
       "    </tr>\n",
       "    <tr>\n",
       "      <th>50%</th>\n",
       "      <td>18.000000</td>\n",
       "      <td>2319.500000</td>\n",
       "      <td>3.000000</td>\n",
       "      <td>3.000000</td>\n",
       "      <td>33.000000</td>\n",
       "      <td>1.000000</td>\n",
       "      <td>1.000000</td>\n",
       "    </tr>\n",
       "    <tr>\n",
       "      <th>75%</th>\n",
       "      <td>24.000000</td>\n",
       "      <td>3972.250000</td>\n",
       "      <td>4.000000</td>\n",
       "      <td>4.000000</td>\n",
       "      <td>42.000000</td>\n",
       "      <td>2.000000</td>\n",
       "      <td>1.000000</td>\n",
       "    </tr>\n",
       "    <tr>\n",
       "      <th>max</th>\n",
       "      <td>72.000000</td>\n",
       "      <td>18424.000000</td>\n",
       "      <td>4.000000</td>\n",
       "      <td>4.000000</td>\n",
       "      <td>75.000000</td>\n",
       "      <td>4.000000</td>\n",
       "      <td>2.000000</td>\n",
       "    </tr>\n",
       "  </tbody>\n",
       "</table>\n",
       "</div>"
      ],
      "text/plain": [
       "          duration  credit_amount  installment_commitment  residence_since  \\\n",
       "count  1000.000000    1000.000000             1000.000000      1000.000000   \n",
       "mean     20.903000    3271.258000                2.973000         2.845000   \n",
       "std      12.058814    2822.736876                1.118715         1.103718   \n",
       "min       4.000000     250.000000                1.000000         1.000000   \n",
       "25%      12.000000    1365.500000                2.000000         2.000000   \n",
       "50%      18.000000    2319.500000                3.000000         3.000000   \n",
       "75%      24.000000    3972.250000                4.000000         4.000000   \n",
       "max      72.000000   18424.000000                4.000000         4.000000   \n",
       "\n",
       "               age  existing_credits  num_dependents  \n",
       "count  1000.000000       1000.000000     1000.000000  \n",
       "mean     35.546000          1.407000        1.155000  \n",
       "std      11.375469          0.577654        0.362086  \n",
       "min      19.000000          1.000000        1.000000  \n",
       "25%      27.000000          1.000000        1.000000  \n",
       "50%      33.000000          1.000000        1.000000  \n",
       "75%      42.000000          2.000000        1.000000  \n",
       "max      75.000000          4.000000        2.000000  "
      ]
     },
     "execution_count": 9,
     "metadata": {},
     "output_type": "execute_result"
    }
   ],
   "source": [
    "raw_credit.describe()"
   ]
  },
  {
   "cell_type": "markdown",
   "id": "593a02a7",
   "metadata": {},
   "source": [
    "Nos variables numériques ne semblent pas avoir de valeurs aberrantes"
   ]
  },
  {
   "cell_type": "markdown",
   "id": "6df1e06f",
   "metadata": {},
   "source": [
    "### Creation notre premier dataset avec du feature engineering. L'objectif est d'encoder nos variables catégorielles pour qu'elles puissent etre comprises par nos algorithmes de ML"
   ]
  },
  {
   "cell_type": "code",
   "execution_count": 9,
   "id": "9f65f7fa",
   "metadata": {},
   "outputs": [],
   "source": [
    "cat_raw_credit = raw_credit.copy()"
   ]
  },
  {
   "cell_type": "markdown",
   "id": "b3e72641",
   "metadata": {},
   "source": [
    "### on commence par transformer nos variables en categories"
   ]
  },
  {
   "cell_type": "code",
   "execution_count": 10,
   "id": "c8db7cae",
   "metadata": {
    "scrolled": true
   },
   "outputs": [],
   "source": [
    " cat_raw_credit[[\"checking_status\",\"credit_history\", \"purpose\", \"savings_status\", \"employment\", \"personal_status\", \"other_parties\", \"property_magnitude\", \"other_payment_plans\", \"housing\", \"job\", \"own_telephone\", \"foreign_worker\", \"class\"]] \\\n",
    "    = raw_credit[[\"checking_status\",\"credit_history\", \"purpose\", \"savings_status\", \"employment\", \"personal_status\", \"other_parties\", \"property_magnitude\", \"other_payment_plans\", \"housing\", \"job\", \"own_telephone\", \"foreign_worker\", \"class\"]].astype(\"category\")"
   ]
  },
  {
   "cell_type": "markdown",
   "id": "9ef1efd9",
   "metadata": {},
   "source": [
    "On enregistre nos données modifiées"
   ]
  },
  {
   "cell_type": "code",
   "execution_count": 14,
   "id": "6b47b2aa",
   "metadata": {},
   "outputs": [],
   "source": [
    "#cat_raw_credit.info()\n",
    "\n",
    "cat_raw_credit.to_csv(data_path + \"\\\\cat_raw.csv\")\n",
    "\n",
    "\n"
   ]
  },
  {
   "cell_type": "code",
   "execution_count": null,
   "id": "7068c4a3",
   "metadata": {},
   "outputs": [],
   "source": []
  },
  {
   "cell_type": "code",
   "execution_count": 15,
   "id": "5b3b9f0d",
   "metadata": {
    "scrolled": true
   },
   "outputs": [
    {
     "name": "stdout",
     "output_type": "stream",
     "text": [
      "<class 'pandas.core.frame.DataFrame'>\n",
      "RangeIndex: 1000 entries, 0 to 999\n",
      "Data columns (total 21 columns):\n",
      " #   Column                  Non-Null Count  Dtype   \n",
      "---  ------                  --------------  -----   \n",
      " 0   checking_status         1000 non-null   category\n",
      " 1   duration                1000 non-null   int64   \n",
      " 2   credit_history          1000 non-null   category\n",
      " 3   purpose                 1000 non-null   category\n",
      " 4   credit_amount           1000 non-null   int64   \n",
      " 5   savings_status          1000 non-null   category\n",
      " 6   employment              1000 non-null   category\n",
      " 7   installment_commitment  1000 non-null   int64   \n",
      " 8   personal_status         1000 non-null   category\n",
      " 9   other_parties           1000 non-null   category\n",
      " 10  residence_since         1000 non-null   int64   \n",
      " 11  property_magnitude      1000 non-null   category\n",
      " 12  age                     1000 non-null   int64   \n",
      " 13  other_payment_plans     1000 non-null   category\n",
      " 14  housing                 1000 non-null   category\n",
      " 15  existing_credits        1000 non-null   int64   \n",
      " 16  job                     1000 non-null   category\n",
      " 17  num_dependents          1000 non-null   int64   \n",
      " 18  own_telephone           1000 non-null   category\n",
      " 19  foreign_worker          1000 non-null   category\n",
      " 20  class                   1000 non-null   category\n",
      "dtypes: category(14), int64(7)\n",
      "memory usage: 71.0 KB\n"
     ]
    }
   ],
   "source": [
    "cat_raw_credit.info()"
   ]
  },
  {
   "cell_type": "code",
   "execution_count": null,
   "id": "9e57ebf7",
   "metadata": {},
   "outputs": [],
   "source": [
    "Un feature engineering simple a mettre en place et qui rapporte souvent de l'information est de biner la variable age"
   ]
  },
  {
   "cell_type": "code",
   "execution_count": null,
   "id": "9b118356",
   "metadata": {},
   "outputs": [],
   "source": [
    "## biner"
   ]
  },
  {
   "cell_type": "code",
   "execution_count": 26,
   "id": "45a9570e",
   "metadata": {},
   "outputs": [
    {
     "name": "stdout",
     "output_type": "stream",
     "text": [
      "<class 'pandas.core.frame.DataFrame'>\n",
      "RangeIndex: 1000 entries, 0 to 999\n",
      "Data columns (total 21 columns):\n",
      " #   Column                  Non-Null Count  Dtype   \n",
      "---  ------                  --------------  -----   \n",
      " 0   checking_status         1000 non-null   category\n",
      " 1   duration                1000 non-null   int64   \n",
      " 2   credit_history          1000 non-null   category\n",
      " 3   purpose                 1000 non-null   category\n",
      " 4   credit_amount           1000 non-null   int64   \n",
      " 5   savings_status          1000 non-null   category\n",
      " 6   employment              1000 non-null   category\n",
      " 7   installment_commitment  1000 non-null   int64   \n",
      " 8   personal_status         1000 non-null   category\n",
      " 9   other_parties           1000 non-null   category\n",
      " 10  residence_since         1000 non-null   int64   \n",
      " 11  property_magnitude      1000 non-null   category\n",
      " 12  other_payment_plans     1000 non-null   category\n",
      " 13  housing                 1000 non-null   category\n",
      " 14  existing_credits        1000 non-null   int64   \n",
      " 15  job                     1000 non-null   category\n",
      " 16  num_dependents          1000 non-null   int64   \n",
      " 17  own_telephone           1000 non-null   category\n",
      " 18  foreign_worker          1000 non-null   category\n",
      " 19  class                   1000 non-null   category\n",
      " 20  age_cat                 1000 non-null   category\n",
      "dtypes: category(15), int64(6)\n",
      "memory usage: 64.4 KB\n"
     ]
    }
   ],
   "source": [
    "inter = (18, 25, 35, 55, 75)\n",
    "\n",
    "age_cat = [\"Student\", \"Young_Adult\", \"Adult\", \"Senior\"]\n",
    "feat_age = cat_raw_credit.copy()\n",
    "feat_age[\"age_cat\"] = pd.cut(cat_raw_credit[\"age\"], inter, labels = age_cat).astype(\"category\")\n",
    "\n",
    "del feat_age[\"age\"]\n",
    "\n",
    "feat_age.info()"
   ]
  },
  {
   "cell_type": "markdown",
   "id": "68863759",
   "metadata": {},
   "source": [
    "## EDA"
   ]
  },
  {
   "cell_type": "code",
   "execution_count": 15,
   "id": "f8216a2c",
   "metadata": {},
   "outputs": [
    {
     "data": {
      "text/plain": [
       "<AxesSubplot:xlabel='class', ylabel='Count'>"
      ]
     },
     "execution_count": 15,
     "metadata": {},
     "output_type": "execute_result"
    },
    {
     "data": {
      "image/png": "[encoded data removed]",
      "text/plain": [
       "<Figure size 432x288 with 1 Axes>"
      ]
     },
     "metadata": {
      "needs_background": "light"
     },
     "output_type": "display_data"
    }
   ],
   "source": [
    "sns.histplot(data = raw_credit, x = \"class\", hue = \"class\")"
   ]
  },
  {
   "cell_type": "markdown",
   "id": "ab28dfc1",
   "metadata": {},
   "source": [
    "On peut voir que notre dataset a une repartition binaire 70-30. L'accuracy de nos modeles devra donc forcement etre au minimum supérieure 70%"
   ]
  },
  {
   "cell_type": "markdown",
   "id": "1575893b",
   "metadata": {},
   "source": [
    "<div class=\"alert alert-block alert-info\"><b>Tip: </b> On peut voir que notre dataset a une repartition binaire 70-30. L'accuracy de nos modeles devra donc forcement etre au minimum supérieure 70% </div> "
   ]
  },
  {
   "cell_type": "code",
   "execution_count": 16,
   "id": "c6cbffa6",
   "metadata": {},
   "outputs": [
    {
     "data": {
      "text/plain": [
       "<AxesSubplot:xlabel='age', ylabel='Percent'>"
      ]
     },
     "execution_count": 16,
     "metadata": {},
     "output_type": "execute_result"
    },
    {
     "data": {
      "image/png": "[encoded data removed]",
      "text/plain": [
       "<Figure size 432x288 with 1 Axes>"
      ]
     },
     "metadata": {
      "needs_background": "light"
     },
     "output_type": "display_data"
    }
   ],
   "source": [
    "sns.histplot(data = raw_credit, x = \"age\", hue = \"class\", stat = \"percent\", multiple = \"stack\" )"
   ]
  },
  {
   "cell_type": "code",
   "execution_count": 18,
   "id": "b40c6ec0",
   "metadata": {},
   "outputs": [
    {
     "data": {
      "text/plain": [
       "<AxesSubplot:xlabel='credit_amount', ylabel='age_cat'>"
      ]
     },
     "execution_count": 18,
     "metadata": {},
     "output_type": "execute_result"
    },
    {
     "data": {
      "image/png": "[encoded data removed]",
      "text/plain": [
       "<Figure size 432x288 with 1 Axes>"
      ]
     },
     "metadata": {
      "needs_background": "light"
     },
     "output_type": "display_data"
    }
   ],
   "source": [
    "sns.boxplot(data = feat_age, x = \"credit_amount\", y = \"age_cat\", hue = \"class\")"
   ]
  },
  {
   "cell_type": "markdown",
   "id": "a354dd48",
   "metadata": {},
   "source": [
    "On peut voir que les adultes et les seniors ont une distribution de credit plus eleves"
   ]
  },
  {
   "cell_type": "code",
   "execution_count": 19,
   "id": "c076e546",
   "metadata": {},
   "outputs": [
    {
     "data": {
      "text/html": [
       "<div>\n",
       "<style scoped>\n",
       "    .dataframe tbody tr th:only-of-type {\n",
       "        vertical-align: middle;\n",
       "    }\n",
       "\n",
       "    .dataframe tbody tr th {\n",
       "        vertical-align: top;\n",
       "    }\n",
       "\n",
       "    .dataframe thead th {\n",
       "        text-align: right;\n",
       "    }\n",
       "</style>\n",
       "<table border=\"1\" class=\"dataframe\">\n",
       "  <thead>\n",
       "    <tr style=\"text-align: right;\">\n",
       "      <th></th>\n",
       "      <th>checking_status</th>\n",
       "      <th>duration</th>\n",
       "      <th>credit_history</th>\n",
       "      <th>purpose</th>\n",
       "      <th>credit_amount</th>\n",
       "      <th>savings_status</th>\n",
       "      <th>employment</th>\n",
       "      <th>installment_commitment</th>\n",
       "      <th>personal_status</th>\n",
       "      <th>other_parties</th>\n",
       "      <th>...</th>\n",
       "      <th>age</th>\n",
       "      <th>other_payment_plans</th>\n",
       "      <th>housing</th>\n",
       "      <th>existing_credits</th>\n",
       "      <th>job</th>\n",
       "      <th>num_dependents</th>\n",
       "      <th>own_telephone</th>\n",
       "      <th>foreign_worker</th>\n",
       "      <th>class</th>\n",
       "      <th>age_cat</th>\n",
       "    </tr>\n",
       "  </thead>\n",
       "  <tbody>\n",
       "    <tr>\n",
       "      <th>0</th>\n",
       "      <td>&lt;0</td>\n",
       "      <td>6</td>\n",
       "      <td>critical/other existing credit</td>\n",
       "      <td>radio/tv</td>\n",
       "      <td>1169</td>\n",
       "      <td>no known savings</td>\n",
       "      <td>&gt;=7</td>\n",
       "      <td>4</td>\n",
       "      <td>male single</td>\n",
       "      <td>none</td>\n",
       "      <td>...</td>\n",
       "      <td>67</td>\n",
       "      <td>none</td>\n",
       "      <td>own</td>\n",
       "      <td>2</td>\n",
       "      <td>skilled</td>\n",
       "      <td>1</td>\n",
       "      <td>yes</td>\n",
       "      <td>yes</td>\n",
       "      <td>good</td>\n",
       "      <td>Senior</td>\n",
       "    </tr>\n",
       "    <tr>\n",
       "      <th>1</th>\n",
       "      <td>0&lt;=X&lt;200</td>\n",
       "      <td>48</td>\n",
       "      <td>existing paid</td>\n",
       "      <td>radio/tv</td>\n",
       "      <td>5951</td>\n",
       "      <td>&lt;100</td>\n",
       "      <td>1&lt;=X&lt;4</td>\n",
       "      <td>2</td>\n",
       "      <td>female div/dep/mar</td>\n",
       "      <td>none</td>\n",
       "      <td>...</td>\n",
       "      <td>22</td>\n",
       "      <td>none</td>\n",
       "      <td>own</td>\n",
       "      <td>1</td>\n",
       "      <td>skilled</td>\n",
       "      <td>1</td>\n",
       "      <td>none</td>\n",
       "      <td>yes</td>\n",
       "      <td>bad</td>\n",
       "      <td>Student</td>\n",
       "    </tr>\n",
       "    <tr>\n",
       "      <th>2</th>\n",
       "      <td>no checking</td>\n",
       "      <td>12</td>\n",
       "      <td>critical/other existing credit</td>\n",
       "      <td>education</td>\n",
       "      <td>2096</td>\n",
       "      <td>&lt;100</td>\n",
       "      <td>4&lt;=X&lt;7</td>\n",
       "      <td>2</td>\n",
       "      <td>male single</td>\n",
       "      <td>none</td>\n",
       "      <td>...</td>\n",
       "      <td>49</td>\n",
       "      <td>none</td>\n",
       "      <td>own</td>\n",
       "      <td>1</td>\n",
       "      <td>unskilled resident</td>\n",
       "      <td>2</td>\n",
       "      <td>none</td>\n",
       "      <td>yes</td>\n",
       "      <td>good</td>\n",
       "      <td>Adult</td>\n",
       "    </tr>\n",
       "    <tr>\n",
       "      <th>3</th>\n",
       "      <td>&lt;0</td>\n",
       "      <td>42</td>\n",
       "      <td>existing paid</td>\n",
       "      <td>furniture/equipment</td>\n",
       "      <td>7882</td>\n",
       "      <td>&lt;100</td>\n",
       "      <td>4&lt;=X&lt;7</td>\n",
       "      <td>2</td>\n",
       "      <td>male single</td>\n",
       "      <td>guarantor</td>\n",
       "      <td>...</td>\n",
       "      <td>45</td>\n",
       "      <td>none</td>\n",
       "      <td>for free</td>\n",
       "      <td>1</td>\n",
       "      <td>skilled</td>\n",
       "      <td>2</td>\n",
       "      <td>none</td>\n",
       "      <td>yes</td>\n",
       "      <td>good</td>\n",
       "      <td>Adult</td>\n",
       "    </tr>\n",
       "    <tr>\n",
       "      <th>4</th>\n",
       "      <td>&lt;0</td>\n",
       "      <td>24</td>\n",
       "      <td>delayed previously</td>\n",
       "      <td>new car</td>\n",
       "      <td>4870</td>\n",
       "      <td>&lt;100</td>\n",
       "      <td>1&lt;=X&lt;4</td>\n",
       "      <td>3</td>\n",
       "      <td>male single</td>\n",
       "      <td>none</td>\n",
       "      <td>...</td>\n",
       "      <td>53</td>\n",
       "      <td>none</td>\n",
       "      <td>for free</td>\n",
       "      <td>2</td>\n",
       "      <td>skilled</td>\n",
       "      <td>2</td>\n",
       "      <td>none</td>\n",
       "      <td>yes</td>\n",
       "      <td>bad</td>\n",
       "      <td>Adult</td>\n",
       "    </tr>\n",
       "    <tr>\n",
       "      <th>5</th>\n",
       "      <td>no checking</td>\n",
       "      <td>36</td>\n",
       "      <td>existing paid</td>\n",
       "      <td>education</td>\n",
       "      <td>9055</td>\n",
       "      <td>no known savings</td>\n",
       "      <td>1&lt;=X&lt;4</td>\n",
       "      <td>2</td>\n",
       "      <td>male single</td>\n",
       "      <td>none</td>\n",
       "      <td>...</td>\n",
       "      <td>35</td>\n",
       "      <td>none</td>\n",
       "      <td>for free</td>\n",
       "      <td>1</td>\n",
       "      <td>unskilled resident</td>\n",
       "      <td>2</td>\n",
       "      <td>yes</td>\n",
       "      <td>yes</td>\n",
       "      <td>good</td>\n",
       "      <td>Young_Adult</td>\n",
       "    </tr>\n",
       "    <tr>\n",
       "      <th>6</th>\n",
       "      <td>no checking</td>\n",
       "      <td>24</td>\n",
       "      <td>existing paid</td>\n",
       "      <td>furniture/equipment</td>\n",
       "      <td>2835</td>\n",
       "      <td>500&lt;=X&lt;1000</td>\n",
       "      <td>&gt;=7</td>\n",
       "      <td>3</td>\n",
       "      <td>male single</td>\n",
       "      <td>none</td>\n",
       "      <td>...</td>\n",
       "      <td>53</td>\n",
       "      <td>none</td>\n",
       "      <td>own</td>\n",
       "      <td>1</td>\n",
       "      <td>skilled</td>\n",
       "      <td>1</td>\n",
       "      <td>none</td>\n",
       "      <td>yes</td>\n",
       "      <td>good</td>\n",
       "      <td>Adult</td>\n",
       "    </tr>\n",
       "    <tr>\n",
       "      <th>7</th>\n",
       "      <td>0&lt;=X&lt;200</td>\n",
       "      <td>36</td>\n",
       "      <td>existing paid</td>\n",
       "      <td>used car</td>\n",
       "      <td>6948</td>\n",
       "      <td>&lt;100</td>\n",
       "      <td>1&lt;=X&lt;4</td>\n",
       "      <td>2</td>\n",
       "      <td>male single</td>\n",
       "      <td>none</td>\n",
       "      <td>...</td>\n",
       "      <td>35</td>\n",
       "      <td>none</td>\n",
       "      <td>rent</td>\n",
       "      <td>1</td>\n",
       "      <td>high qualif/self emp/mgmt</td>\n",
       "      <td>1</td>\n",
       "      <td>yes</td>\n",
       "      <td>yes</td>\n",
       "      <td>good</td>\n",
       "      <td>Young_Adult</td>\n",
       "    </tr>\n",
       "    <tr>\n",
       "      <th>8</th>\n",
       "      <td>no checking</td>\n",
       "      <td>12</td>\n",
       "      <td>existing paid</td>\n",
       "      <td>radio/tv</td>\n",
       "      <td>3059</td>\n",
       "      <td>&gt;=1000</td>\n",
       "      <td>4&lt;=X&lt;7</td>\n",
       "      <td>2</td>\n",
       "      <td>male div/sep</td>\n",
       "      <td>none</td>\n",
       "      <td>...</td>\n",
       "      <td>61</td>\n",
       "      <td>none</td>\n",
       "      <td>own</td>\n",
       "      <td>1</td>\n",
       "      <td>unskilled resident</td>\n",
       "      <td>1</td>\n",
       "      <td>none</td>\n",
       "      <td>yes</td>\n",
       "      <td>good</td>\n",
       "      <td>Senior</td>\n",
       "    </tr>\n",
       "    <tr>\n",
       "      <th>9</th>\n",
       "      <td>0&lt;=X&lt;200</td>\n",
       "      <td>30</td>\n",
       "      <td>critical/other existing credit</td>\n",
       "      <td>new car</td>\n",
       "      <td>5234</td>\n",
       "      <td>&lt;100</td>\n",
       "      <td>unemployed</td>\n",
       "      <td>4</td>\n",
       "      <td>male mar/wid</td>\n",
       "      <td>none</td>\n",
       "      <td>...</td>\n",
       "      <td>28</td>\n",
       "      <td>none</td>\n",
       "      <td>own</td>\n",
       "      <td>2</td>\n",
       "      <td>high qualif/self emp/mgmt</td>\n",
       "      <td>1</td>\n",
       "      <td>none</td>\n",
       "      <td>yes</td>\n",
       "      <td>bad</td>\n",
       "      <td>Young_Adult</td>\n",
       "    </tr>\n",
       "  </tbody>\n",
       "</table>\n",
       "<p>10 rows × 22 columns</p>\n",
       "</div>"
      ],
      "text/plain": [
       "  checking_status  duration                  credit_history  \\\n",
       "0              <0         6  critical/other existing credit   \n",
       "1        0<=X<200        48                   existing paid   \n",
       "2     no checking        12  critical/other existing credit   \n",
       "3              <0        42                   existing paid   \n",
       "4              <0        24              delayed previously   \n",
       "5     no checking        36                   existing paid   \n",
       "6     no checking        24                   existing paid   \n",
       "7        0<=X<200        36                   existing paid   \n",
       "8     no checking        12                   existing paid   \n",
       "9        0<=X<200        30  critical/other existing credit   \n",
       "\n",
       "               purpose  credit_amount    savings_status  employment  \\\n",
       "0             radio/tv           1169  no known savings         >=7   \n",
       "1             radio/tv           5951              <100      1<=X<4   \n",
       "2            education           2096              <100      4<=X<7   \n",
       "3  furniture/equipment           7882              <100      4<=X<7   \n",
       "4              new car           4870              <100      1<=X<4   \n",
       "5            education           9055  no known savings      1<=X<4   \n",
       "6  furniture/equipment           2835       500<=X<1000         >=7   \n",
       "7             used car           6948              <100      1<=X<4   \n",
       "8             radio/tv           3059            >=1000      4<=X<7   \n",
       "9              new car           5234              <100  unemployed   \n",
       "\n",
       "   installment_commitment     personal_status other_parties  ...  age  \\\n",
       "0                       4         male single          none  ...   67   \n",
       "1                       2  female div/dep/mar          none  ...   22   \n",
       "2                       2         male single          none  ...   49   \n",
       "3                       2         male single     guarantor  ...   45   \n",
       "4                       3         male single          none  ...   53   \n",
       "5                       2         male single          none  ...   35   \n",
       "6                       3         male single          none  ...   53   \n",
       "7                       2         male single          none  ...   35   \n",
       "8                       2        male div/sep          none  ...   61   \n",
       "9                       4        male mar/wid          none  ...   28   \n",
       "\n",
       "  other_payment_plans   housing existing_credits                        job  \\\n",
       "0                none       own                2                    skilled   \n",
       "1                none       own                1                    skilled   \n",
       "2                none       own                1         unskilled resident   \n",
       "3                none  for free                1                    skilled   \n",
       "4                none  for free                2                    skilled   \n",
       "5                none  for free                1         unskilled resident   \n",
       "6                none       own                1                    skilled   \n",
       "7                none      rent                1  high qualif/self emp/mgmt   \n",
       "8                none       own                1         unskilled resident   \n",
       "9                none       own                2  high qualif/self emp/mgmt   \n",
       "\n",
       "   num_dependents own_telephone  foreign_worker class      age_cat  \n",
       "0               1           yes             yes  good       Senior  \n",
       "1               1          none             yes   bad      Student  \n",
       "2               2          none             yes  good        Adult  \n",
       "3               2          none             yes  good        Adult  \n",
       "4               2          none             yes   bad        Adult  \n",
       "5               2           yes             yes  good  Young_Adult  \n",
       "6               1          none             yes  good        Adult  \n",
       "7               1           yes             yes  good  Young_Adult  \n",
       "8               1          none             yes  good       Senior  \n",
       "9               1          none             yes   bad  Young_Adult  \n",
       "\n",
       "[10 rows x 22 columns]"
      ]
     },
     "execution_count": 19,
     "metadata": {},
     "output_type": "execute_result"
    }
   ],
   "source": [
    "feat_age.head(10)"
   ]
  },
  {
   "cell_type": "code",
   "execution_count": 20,
   "id": "add27d08",
   "metadata": {},
   "outputs": [
    {
     "data": {
      "text/plain": [
       "<AxesSubplot:xlabel='housing', ylabel='Count'>"
      ]
     },
     "execution_count": 20,
     "metadata": {},
     "output_type": "execute_result"
    },
    {
     "data": {
      "image/png": "[encoded data removed]",
      "text/plain": [
       "<Figure size 432x288 with 1 Axes>"
      ]
     },
     "metadata": {
      "needs_background": "light"
     },
     "output_type": "display_data"
    }
   ],
   "source": [
    "sns.histplot(data = feat_age, x = \"housing\", hue = \"class\", multiple = \"dodge\")"
   ]
  },
  {
   "cell_type": "markdown",
   "id": "4d769394",
   "metadata": {},
   "source": [
    "On peut voir qu'il semble il y avoir une correlation positive entre le fait de posseder sa maison et le fait d'avoir un bon score de risque credit"
   ]
  },
  {
   "cell_type": "markdown",
   "id": "e87088dc",
   "metadata": {},
   "source": [
    "<div class=\"alert alert-block alert-info\"><b>Tip: </b> On peut voir qu'il semble il y avoir une correlation positive entre le fait de posseder sa maison et le fait d'avoir un bon score de risque credit </div>"
   ]
  },
  {
   "cell_type": "code",
   "execution_count": 21,
   "id": "d3345190",
   "metadata": {},
   "outputs": [
    {
     "data": {
      "text/plain": [
       "<AxesSubplot:xlabel='duration', ylabel='age_cat'>"
      ]
     },
     "execution_count": 21,
     "metadata": {},
     "output_type": "execute_result"
    },
    {
     "data": {
      "image/png": "[encoded data removed]",
      "text/plain": [
       "<Figure size 432x288 with 1 Axes>"
      ]
     },
     "metadata": {
      "needs_background": "light"
     },
     "output_type": "display_data"
    }
   ],
   "source": [
    "sns.boxplot(data = feat_age, x = \"duration\", y = \"age_cat\", hue = \"class\")"
   ]
  },
  {
   "cell_type": "markdown",
   "id": "d0e532bf",
   "metadata": {},
   "source": [
    "Il semble il y avoir une correlation positive entre le fait d'avoir un credit qui dure depuis longtemps et le fait d'avoir un mauvais score de risque credit"
   ]
  },
  {
   "cell_type": "code",
   "execution_count": 22,
   "id": "b36cc719",
   "metadata": {},
   "outputs": [
    {
     "data": {
      "text/plain": [
       "<AxesSubplot:xlabel='credit_amount', ylabel='checking_status'>"
      ]
     },
     "execution_count": 22,
     "metadata": {},
     "output_type": "execute_result"
    },
    {
     "data": {
      "image/png": "[encoded data removed]",
      "text/plain": [
       "<Figure size 432x288 with 1 Axes>"
      ]
     },
     "metadata": {
      "needs_background": "light"
     },
     "output_type": "display_data"
    }
   ],
   "source": [
    "sns.boxplot(data = feat_age, x = \"credit_amount\", y = \"checking_status\", hue = \"class\")"
   ]
  },
  {
   "cell_type": "code",
   "execution_count": 23,
   "id": "55ad0823",
   "metadata": {},
   "outputs": [
    {
     "data": {
      "text/plain": [
       "<AxesSubplot:xlabel='credit_amount', ylabel='purpose'>"
      ]
     },
     "execution_count": 23,
     "metadata": {},
     "output_type": "execute_result"
    },
    {
     "data": {
      "image/png": "[encoded data removed]",
      "text/plain": [
       "<Figure size 432x288 with 1 Axes>"
      ]
     },
     "metadata": {
      "needs_background": "light"
     },
     "output_type": "display_data"
    }
   ],
   "source": [
    "sns.boxplot(data = feat_age, x = \"credit_amount\", y = \"purpose\", hue = \"class\")"
   ]
  },
  {
   "cell_type": "code",
   "execution_count": 24,
   "id": "ab557064",
   "metadata": {},
   "outputs": [
    {
     "data": {
      "text/plain": [
       "<AxesSubplot:xlabel='duration', ylabel='age_cat'>"
      ]
     },
     "execution_count": 24,
     "metadata": {},
     "output_type": "execute_result"
    },
    {
     "data": {
      "image/png": "[encoded data removed]",
      "text/plain": [
       "<Figure size 432x288 with 1 Axes>"
      ]
     },
     "metadata": {
      "needs_background": "light"
     },
     "output_type": "display_data"
    }
   ],
   "source": [
    "sns.violinplot(data = feat_age, x = \"duration\", y = \"age_cat\", hue = \"class\")"
   ]
  },
  {
   "cell_type": "code",
   "execution_count": null,
   "id": "24349904",
   "metadata": {},
   "outputs": [],
   "source": []
  },
  {
   "cell_type": "markdown",
   "id": "7883cbd5",
   "metadata": {},
   "source": [
    "### Preprocessing\n",
    "#### Encoding et Scaling\n"
   ]
  },
  {
   "cell_type": "markdown",
   "id": "d3060fb2",
   "metadata": {},
   "source": [
    "#### Encoding"
   ]
  },
  {
   "cell_type": "code",
   "execution_count": 104,
   "id": "46727407",
   "metadata": {},
   "outputs": [],
   "source": [
    "lb = LabelBinarizer()\n",
    "le = LabelEncoder()\n",
    "\n",
    "binary_cols = [\"own_telephone\",  \"foreign_worker\", \"class\"]\n",
    "category_cols = [\"checking_status\", \"credit_history\", \"purpose\", \"savings_status\", \"employment\", \"personal_status\", \"other_parties\", \"property_magnitude\", \"other_payment_plans\", \"housing\", \"job\", \"age_cat\"]\n",
    "\n",
    "encode_feat = feat_age.copy()\n",
    "\n",
    "for col in binary_cols:\n",
    "    encode_feat[col] = lb.fit_transform(encode_feat[col])\n",
    "\n",
    "for col in category_cols:\n",
    "    encode_feat[col] = le.fit_transform(encode_feat[col])\n"
   ]
  },
  {
   "cell_type": "code",
   "execution_count": null,
   "id": "bc56ebc1",
   "metadata": {},
   "outputs": [],
   "source": []
  },
  {
   "cell_type": "code",
   "execution_count": 162,
   "id": "ff218467",
   "metadata": {},
   "outputs": [],
   "source": [
    "X = encode_feat.drop(\"class\", axis = 1)\n",
    "y = encode_feat[\"class\"]\n",
    "\n",
    "X_resampled, y_resampled = ADASYN().fit_resample(X, y)\n",
    "\n",
    "\n",
    "X_train, X_test, y_train, y_test = train_test_split(X, y, test_size=0.333, random_state=42)\n",
    "\n",
    "Ada_X_train, Ada_X_test, Ada_y_train, Ada_y_test = train_test_split(X_resampled, y_resampled, test_size=0.333, random_state=42)\n",
    "\n",
    "X_cat = feat_age.drop(\"class\", axis = 1)\n",
    "y_cat = feat_age[\"class\"]\n",
    "\n",
    "cat_X_resampled, cat_y_resampled = ADASYN().fit_resample(X_cat, y_cat)\n",
    "\n",
    "\n",
    "Adacat_X_train, Adacat_X_test, Adacat_y_train, Adacat_y_test = train_test_split(X_cat, y_cat, test_size=0.333, random_state=42)\n",
    "\n",
    "\n",
    "\n"
   ]
  },
  {
   "cell_type": "code",
   "execution_count": 36,
   "id": "e0cff994",
   "metadata": {},
   "outputs": [
    {
     "data": {
      "text/plain": [
       "<AxesSubplot:>"
      ]
     },
     "execution_count": 36,
     "metadata": {},
     "output_type": "execute_result"
    },
    {
     "data": {
      "image/png": "[encoded data removed]",
      "text/plain": [
       "<Figure size 792x648 with 2 Axes>"
      ]
     },
     "metadata": {
      "needs_background": "light"
     },
     "output_type": "display_data"
    }
   ],
   "source": [
    "corr_matrix = encode_feat.corr(method = \"spearman\")\n",
    "mask = np.triu(np.ones_like(corr_matrix, dtype=bool))\n",
    "f, ax = plt.subplots(figsize=(11, 9))\n",
    "cmap = sns.diverging_palette(230, 20, as_cmap=True)\n",
    "sns.heatmap(corr_matrix, mask=mask, cmap=cmap, vmax=.3, center=0,\n",
    "            square=True, linewidths=.5, cbar_kws={\"shrink\": .5})"
   ]
  },
  {
   "cell_type": "markdown",
   "id": "be088458",
   "metadata": {},
   "source": [
    "### supprimer la variable age, retirer credit history\n",
    "#### essayer avec seulement les variables les plus correles a class"
   ]
  },
  {
   "cell_type": "code",
   "execution_count": 126,
   "id": "bb0b8ea0",
   "metadata": {},
   "outputs": [],
   "source": [
    "X_train_scaled = X_train.copy()\n",
    "X_test_scaled = X_test.copy()\n",
    "\n",
    "standard_scaler = StandardScaler()\n",
    "\n",
    "#features_to_scale_minmax = []\n",
    "features_to_scale_norm = X_train_scaled.columns\n",
    "\n",
    "#X_train_scaled[features_to_scale_minmax] = minmax_scaler.fit_transform(X_train[features_to_scale_minmax])\n",
    "#X_test_scaled[features_to_scale_minmax] = minmax_scaler.transform(X_test[features_to_scale_minmax])\n",
    "X_train_scaled[features_to_scale_norm] = standard_scaler.fit_transform(X_train[features_to_scale_norm])\n",
    "X_test_scaled[features_to_scale_norm] = standard_scaler.transform(X_test[features_to_scale_norm])\n",
    "\n"
   ]
  },
  {
   "cell_type": "code",
   "execution_count": 51,
   "id": "3ae962dc",
   "metadata": {
    "scrolled": true
   },
   "outputs": [
    {
     "data": {
      "text/html": [
       "<div>\n",
       "<style scoped>\n",
       "    .dataframe tbody tr th:only-of-type {\n",
       "        vertical-align: middle;\n",
       "    }\n",
       "\n",
       "    .dataframe tbody tr th {\n",
       "        vertical-align: top;\n",
       "    }\n",
       "\n",
       "    .dataframe thead th {\n",
       "        text-align: right;\n",
       "    }\n",
       "</style>\n",
       "<table border=\"1\" class=\"dataframe\">\n",
       "  <thead>\n",
       "    <tr style=\"text-align: right;\">\n",
       "      <th></th>\n",
       "      <th>checking_status</th>\n",
       "      <th>duration</th>\n",
       "      <th>credit_history</th>\n",
       "      <th>purpose</th>\n",
       "      <th>credit_amount</th>\n",
       "      <th>savings_status</th>\n",
       "      <th>employment</th>\n",
       "      <th>installment_commitment</th>\n",
       "      <th>personal_status</th>\n",
       "      <th>other_parties</th>\n",
       "      <th>...</th>\n",
       "      <th>property_magnitude</th>\n",
       "      <th>other_payment_plans</th>\n",
       "      <th>housing</th>\n",
       "      <th>existing_credits</th>\n",
       "      <th>job</th>\n",
       "      <th>num_dependents</th>\n",
       "      <th>own_telephone</th>\n",
       "      <th>foreign_worker</th>\n",
       "      <th>class</th>\n",
       "      <th>age_cat</th>\n",
       "    </tr>\n",
       "  </thead>\n",
       "  <tbody>\n",
       "    <tr>\n",
       "      <th>629</th>\n",
       "      <td>1.129415</td>\n",
       "      <td>-1.022878</td>\n",
       "      <td>0.743265</td>\n",
       "      <td>-1.068361</td>\n",
       "      <td>0.132753</td>\n",
       "      <td>1.653413</td>\n",
       "      <td>1.102454</td>\n",
       "      <td>-1.756095</td>\n",
       "      <td>0.83752</td>\n",
       "      <td>0.316653</td>\n",
       "      <td>...</td>\n",
       "      <td>1.336314</td>\n",
       "      <td>0.260024</td>\n",
       "      <td>-0.124553</td>\n",
       "      <td>-0.714976</td>\n",
       "      <td>1.882557</td>\n",
       "      <td>-0.397475</td>\n",
       "      <td>-0.863755</td>\n",
       "      <td>0.205396</td>\n",
       "      <td>0.649750</td>\n",
       "      <td>-0.513272</td>\n",
       "    </tr>\n",
       "    <tr>\n",
       "      <th>0</th>\n",
       "      <td>-0.453190</td>\n",
       "      <td>-1.273616</td>\n",
       "      <td>-1.131055</td>\n",
       "      <td>0.593673</td>\n",
       "      <td>-0.748226</td>\n",
       "      <td>1.653413</td>\n",
       "      <td>1.102454</td>\n",
       "      <td>0.918141</td>\n",
       "      <td>0.83752</td>\n",
       "      <td>0.316653</td>\n",
       "      <td>...</td>\n",
       "      <td>1.336314</td>\n",
       "      <td>0.260024</td>\n",
       "      <td>-0.124553</td>\n",
       "      <td>0.994303</td>\n",
       "      <td>-0.251114</td>\n",
       "      <td>-0.397475</td>\n",
       "      <td>1.157735</td>\n",
       "      <td>0.205396</td>\n",
       "      <td>0.649750</td>\n",
       "      <td>-0.513272</td>\n",
       "    </tr>\n",
       "    <tr>\n",
       "      <th>316</th>\n",
       "      <td>-0.453190</td>\n",
       "      <td>-0.772139</td>\n",
       "      <td>0.743265</td>\n",
       "      <td>-0.652853</td>\n",
       "      <td>-0.900735</td>\n",
       "      <td>-0.136890</td>\n",
       "      <td>-1.128092</td>\n",
       "      <td>-0.864683</td>\n",
       "      <td>0.83752</td>\n",
       "      <td>-1.838528</td>\n",
       "      <td>...</td>\n",
       "      <td>-0.314281</td>\n",
       "      <td>0.260024</td>\n",
       "      <td>-0.124553</td>\n",
       "      <td>-0.714976</td>\n",
       "      <td>1.882557</td>\n",
       "      <td>2.515884</td>\n",
       "      <td>-0.863755</td>\n",
       "      <td>0.205396</td>\n",
       "      <td>0.649750</td>\n",
       "      <td>-1.274055</td>\n",
       "    </tr>\n",
       "    <tr>\n",
       "      <th>706</th>\n",
       "      <td>-1.244492</td>\n",
       "      <td>2.236722</td>\n",
       "      <td>0.743265</td>\n",
       "      <td>-0.237344</td>\n",
       "      <td>1.035235</td>\n",
       "      <td>-1.927192</td>\n",
       "      <td>-0.384577</td>\n",
       "      <td>0.026729</td>\n",
       "      <td>0.83752</td>\n",
       "      <td>0.316653</td>\n",
       "      <td>...</td>\n",
       "      <td>-0.314281</td>\n",
       "      <td>0.260024</td>\n",
       "      <td>-0.124553</td>\n",
       "      <td>-0.714976</td>\n",
       "      <td>-0.251114</td>\n",
       "      <td>-0.397475</td>\n",
       "      <td>-0.863755</td>\n",
       "      <td>0.205396</td>\n",
       "      <td>-1.539054</td>\n",
       "      <td>0.247511</td>\n",
       "    </tr>\n",
       "    <tr>\n",
       "      <th>547</th>\n",
       "      <td>1.129415</td>\n",
       "      <td>0.230815</td>\n",
       "      <td>0.743265</td>\n",
       "      <td>0.593673</td>\n",
       "      <td>-0.621521</td>\n",
       "      <td>-0.136890</td>\n",
       "      <td>-0.384577</td>\n",
       "      <td>0.026729</td>\n",
       "      <td>0.83752</td>\n",
       "      <td>0.316653</td>\n",
       "      <td>...</td>\n",
       "      <td>-1.139579</td>\n",
       "      <td>-2.217631</td>\n",
       "      <td>-0.124553</td>\n",
       "      <td>-0.714976</td>\n",
       "      <td>-0.251114</td>\n",
       "      <td>2.515884</td>\n",
       "      <td>-0.863755</td>\n",
       "      <td>0.205396</td>\n",
       "      <td>0.649750</td>\n",
       "      <td>1.008294</td>\n",
       "    </tr>\n",
       "  </tbody>\n",
       "</table>\n",
       "<p>5 rows × 21 columns</p>\n",
       "</div>"
      ],
      "text/plain": [
       "     checking_status  duration  credit_history   purpose  credit_amount  \\\n",
       "629         1.129415 -1.022878        0.743265 -1.068361       0.132753   \n",
       "0          -0.453190 -1.273616       -1.131055  0.593673      -0.748226   \n",
       "316        -0.453190 -0.772139        0.743265 -0.652853      -0.900735   \n",
       "706        -1.244492  2.236722        0.743265 -0.237344       1.035235   \n",
       "547         1.129415  0.230815        0.743265  0.593673      -0.621521   \n",
       "\n",
       "     savings_status  employment  installment_commitment  personal_status  \\\n",
       "629        1.653413    1.102454               -1.756095          0.83752   \n",
       "0          1.653413    1.102454                0.918141          0.83752   \n",
       "316       -0.136890   -1.128092               -0.864683          0.83752   \n",
       "706       -1.927192   -0.384577                0.026729          0.83752   \n",
       "547       -0.136890   -0.384577                0.026729          0.83752   \n",
       "\n",
       "     other_parties  ...  property_magnitude  other_payment_plans   housing  \\\n",
       "629       0.316653  ...            1.336314             0.260024 -0.124553   \n",
       "0         0.316653  ...            1.336314             0.260024 -0.124553   \n",
       "316      -1.838528  ...           -0.314281             0.260024 -0.124553   \n",
       "706       0.316653  ...           -0.314281             0.260024 -0.124553   \n",
       "547       0.316653  ...           -1.139579            -2.217631 -0.124553   \n",
       "\n",
       "     existing_credits       job  num_dependents  own_telephone  \\\n",
       "629         -0.714976  1.882557       -0.397475      -0.863755   \n",
       "0            0.994303 -0.251114       -0.397475       1.157735   \n",
       "316         -0.714976  1.882557        2.515884      -0.863755   \n",
       "706         -0.714976 -0.251114       -0.397475      -0.863755   \n",
       "547         -0.714976 -0.251114        2.515884      -0.863755   \n",
       "\n",
       "     foreign_worker     class   age_cat  \n",
       "629        0.205396  0.649750 -0.513272  \n",
       "0          0.205396  0.649750 -0.513272  \n",
       "316        0.205396  0.649750 -1.274055  \n",
       "706        0.205396 -1.539054  0.247511  \n",
       "547        0.205396  0.649750  1.008294  \n",
       "\n",
       "[5 rows x 21 columns]"
      ]
     },
     "execution_count": 51,
     "metadata": {},
     "output_type": "execute_result"
    }
   ],
   "source": [
    "X_train_scaled.head()"
   ]
  },
  {
   "cell_type": "code",
   "execution_count": 71,
   "id": "430817e4",
   "metadata": {},
   "outputs": [
    {
     "data": {
      "text/plain": [
       "checking_status    0.302406\n",
       "duration           0.214927\n",
       "purpose            0.138152\n",
       "credit_amount      0.154739\n",
       "savings_status     0.103133\n",
       "Name: class, dtype: float64"
      ]
     },
     "execution_count": 71,
     "metadata": {},
     "output_type": "execute_result"
    }
   ],
   "source": [
    "cor = encode_feat.corr()\n",
    "cor_target = abs(cor[\"class\"])#Selecting highly correlated features\n",
    "relevant_features = cor_target[0.1<cor_target]\n",
    "\n",
    "del relevant_features[\"class\"]\n",
    "\n",
    "relevant_features"
   ]
  },
  {
   "cell_type": "code",
   "execution_count": 28,
   "id": "9c16d9fb",
   "metadata": {
    "scrolled": true
   },
   "outputs": [
    {
     "data": {
      "text/html": [
       "<div>\n",
       "<style scoped>\n",
       "    .dataframe tbody tr th:only-of-type {\n",
       "        vertical-align: middle;\n",
       "    }\n",
       "\n",
       "    .dataframe tbody tr th {\n",
       "        vertical-align: top;\n",
       "    }\n",
       "\n",
       "    .dataframe thead th {\n",
       "        text-align: right;\n",
       "    }\n",
       "</style>\n",
       "<table border=\"1\" class=\"dataframe\">\n",
       "  <thead>\n",
       "    <tr style=\"text-align: right;\">\n",
       "      <th></th>\n",
       "      <th>checking_status</th>\n",
       "      <th>duration</th>\n",
       "      <th>credit_history</th>\n",
       "      <th>purpose</th>\n",
       "      <th>credit_amount</th>\n",
       "      <th>savings_status</th>\n",
       "      <th>employment</th>\n",
       "      <th>installment_commitment</th>\n",
       "      <th>personal_status</th>\n",
       "      <th>other_parties</th>\n",
       "      <th>...</th>\n",
       "      <th>age</th>\n",
       "      <th>other_payment_plans</th>\n",
       "      <th>housing</th>\n",
       "      <th>existing_credits</th>\n",
       "      <th>job</th>\n",
       "      <th>num_dependents</th>\n",
       "      <th>own_telephone</th>\n",
       "      <th>foreign_worker</th>\n",
       "      <th>class</th>\n",
       "      <th>age_cat</th>\n",
       "    </tr>\n",
       "  </thead>\n",
       "  <tbody>\n",
       "    <tr>\n",
       "      <th>0</th>\n",
       "      <td>1</td>\n",
       "      <td>6</td>\n",
       "      <td>1</td>\n",
       "      <td>6</td>\n",
       "      <td>1169</td>\n",
       "      <td>4</td>\n",
       "      <td>3</td>\n",
       "      <td>4</td>\n",
       "      <td>3</td>\n",
       "      <td>2</td>\n",
       "      <td>...</td>\n",
       "      <td>67</td>\n",
       "      <td>1</td>\n",
       "      <td>1</td>\n",
       "      <td>2</td>\n",
       "      <td>1</td>\n",
       "      <td>1</td>\n",
       "      <td>1</td>\n",
       "      <td>1</td>\n",
       "      <td>1</td>\n",
       "      <td>1</td>\n",
       "    </tr>\n",
       "    <tr>\n",
       "      <th>1</th>\n",
       "      <td>0</td>\n",
       "      <td>48</td>\n",
       "      <td>3</td>\n",
       "      <td>6</td>\n",
       "      <td>5951</td>\n",
       "      <td>2</td>\n",
       "      <td>0</td>\n",
       "      <td>2</td>\n",
       "      <td>0</td>\n",
       "      <td>2</td>\n",
       "      <td>...</td>\n",
       "      <td>22</td>\n",
       "      <td>1</td>\n",
       "      <td>1</td>\n",
       "      <td>1</td>\n",
       "      <td>1</td>\n",
       "      <td>1</td>\n",
       "      <td>0</td>\n",
       "      <td>1</td>\n",
       "      <td>0</td>\n",
       "      <td>2</td>\n",
       "    </tr>\n",
       "    <tr>\n",
       "      <th>2</th>\n",
       "      <td>3</td>\n",
       "      <td>12</td>\n",
       "      <td>1</td>\n",
       "      <td>2</td>\n",
       "      <td>2096</td>\n",
       "      <td>2</td>\n",
       "      <td>1</td>\n",
       "      <td>2</td>\n",
       "      <td>3</td>\n",
       "      <td>2</td>\n",
       "      <td>...</td>\n",
       "      <td>49</td>\n",
       "      <td>1</td>\n",
       "      <td>1</td>\n",
       "      <td>1</td>\n",
       "      <td>3</td>\n",
       "      <td>2</td>\n",
       "      <td>0</td>\n",
       "      <td>1</td>\n",
       "      <td>1</td>\n",
       "      <td>0</td>\n",
       "    </tr>\n",
       "    <tr>\n",
       "      <th>3</th>\n",
       "      <td>1</td>\n",
       "      <td>42</td>\n",
       "      <td>3</td>\n",
       "      <td>3</td>\n",
       "      <td>7882</td>\n",
       "      <td>2</td>\n",
       "      <td>1</td>\n",
       "      <td>2</td>\n",
       "      <td>3</td>\n",
       "      <td>1</td>\n",
       "      <td>...</td>\n",
       "      <td>45</td>\n",
       "      <td>1</td>\n",
       "      <td>0</td>\n",
       "      <td>1</td>\n",
       "      <td>1</td>\n",
       "      <td>2</td>\n",
       "      <td>0</td>\n",
       "      <td>1</td>\n",
       "      <td>1</td>\n",
       "      <td>0</td>\n",
       "    </tr>\n",
       "    <tr>\n",
       "      <th>4</th>\n",
       "      <td>1</td>\n",
       "      <td>24</td>\n",
       "      <td>2</td>\n",
       "      <td>4</td>\n",
       "      <td>4870</td>\n",
       "      <td>2</td>\n",
       "      <td>0</td>\n",
       "      <td>3</td>\n",
       "      <td>3</td>\n",
       "      <td>2</td>\n",
       "      <td>...</td>\n",
       "      <td>53</td>\n",
       "      <td>1</td>\n",
       "      <td>0</td>\n",
       "      <td>2</td>\n",
       "      <td>1</td>\n",
       "      <td>2</td>\n",
       "      <td>0</td>\n",
       "      <td>1</td>\n",
       "      <td>0</td>\n",
       "      <td>0</td>\n",
       "    </tr>\n",
       "  </tbody>\n",
       "</table>\n",
       "<p>5 rows × 22 columns</p>\n",
       "</div>"
      ],
      "text/plain": [
       "   checking_status  duration  credit_history  purpose  credit_amount  \\\n",
       "0                1         6               1        6           1169   \n",
       "1                0        48               3        6           5951   \n",
       "2                3        12               1        2           2096   \n",
       "3                1        42               3        3           7882   \n",
       "4                1        24               2        4           4870   \n",
       "\n",
       "   savings_status  employment  installment_commitment  personal_status  \\\n",
       "0               4           3                       4                3   \n",
       "1               2           0                       2                0   \n",
       "2               2           1                       2                3   \n",
       "3               2           1                       2                3   \n",
       "4               2           0                       3                3   \n",
       "\n",
       "   other_parties  ...  age  other_payment_plans  housing  existing_credits  \\\n",
       "0              2  ...   67                    1        1                 2   \n",
       "1              2  ...   22                    1        1                 1   \n",
       "2              2  ...   49                    1        1                 1   \n",
       "3              1  ...   45                    1        0                 1   \n",
       "4              2  ...   53                    1        0                 2   \n",
       "\n",
       "   job  num_dependents  own_telephone  foreign_worker  class  age_cat  \n",
       "0    1               1              1               1      1        1  \n",
       "1    1               1              0               1      0        2  \n",
       "2    3               2              0               1      1        0  \n",
       "3    1               2              0               1      1        0  \n",
       "4    1               2              0               1      0        0  \n",
       "\n",
       "[5 rows x 22 columns]"
      ]
     },
     "execution_count": 28,
     "metadata": {},
     "output_type": "execute_result"
    }
   ],
   "source": [
    "feat_test.head()"
   ]
  },
  {
   "cell_type": "code",
   "execution_count": 74,
   "id": "185bdb6a",
   "metadata": {},
   "outputs": [],
   "source": [
    "feat_tsne = feat_test.loc[:, feat_test.columns != 'class'].copy()\n",
    "y = feat_test[\"class\"]\n",
    "\n",
    "c_feat_tsne = feat_test.loc[:, feat_test.dtypes == np.int64].copy()\n",
    "c_y = feat_test[\"class\"]\n",
    "\n",
    "tsne = TSNE(n_components = 2, learning_rate = 0.05, n_iter = 2500, init = \"random\", perplexity = 30)\n",
    "z = tsne.fit_transform(c_feat_tsne)\n",
    "\n"
   ]
  },
  {
   "cell_type": "code",
   "execution_count": 75,
   "id": "babe2551",
   "metadata": {},
   "outputs": [],
   "source": [
    "df = pd.DataFrame()\n",
    "df[\"y\"] = c_y\n",
    "df[\"comp-1\"] = z[:,0]\n",
    "df[\"comp-2\"] = z[:,1]"
   ]
  },
  {
   "cell_type": "code",
   "execution_count": 431,
   "id": "13453d96",
   "metadata": {},
   "outputs": [
    {
     "data": {
      "text/plain": [
       "[Text(0.5, 1.0, 'Iris data T-SNE projection')]"
      ]
     },
     "execution_count": 431,
     "metadata": {},
     "output_type": "execute_result"
    },
    {
     "data": {
      "image/png": "[encoded data removed]",
      "text/plain": [
       "<Figure size 432x288 with 1 Axes>"
      ]
     },
     "metadata": {
      "needs_background": "light"
     },
     "output_type": "display_data"
    }
   ],
   "source": [
    "sns.scatterplot(x=\"comp-1\", y=\"comp-2\", hue=df.y.tolist(),\n",
    "                palette=sns.color_palette(\"hls\", 2                                    \n",
    "                                         ),\n",
    "                data=df).set(title=\"Iris data T-SNE projection\") "
   ]
  },
  {
   "cell_type": "code",
   "execution_count": 205,
   "id": "315cf77a",
   "metadata": {},
   "outputs": [
    {
     "name": "stdout",
     "output_type": "stream",
     "text": [
      "0.8202959830866807\n",
      "6.206829548111854\n"
     ]
    }
   ],
   "source": [
    "model = RandomForestClassifier(max_features = \"sqrt\", max_depth = 8, n_estimators = 1000, random_state = 42)\n",
    "model.fit(Ada_X_train, Ada_y_train)\n",
    "print(model.score(Ada_X_test,Ada_y_test))\n",
    "\n",
    "dump(model, \"my_random_forest_model.joblib\")\n",
    "\n",
    "y_preds = model.predict(Ada_X_test)\n",
    "logloss = log_loss(Ada_y_test, y_preds)\n",
    "\n",
    "print(logloss)\n"
   ]
  },
  {
   "cell_type": "markdown",
   "id": "b87c4fa4",
   "metadata": {},
   "source": [
    "model = RandomForestClassifier(random_state = 42)\n",
    "grid = dict()\n",
    "grid[\"n_estimators\"] = list(np.arange(1,1000,50))\n",
    "grid[\"max_features\"] = list(np.arange(1,20,1))\n",
    "grid[\"max_depth\"] = list(np.arange(1,10,1))\n",
    "\n",
    "search = GridSearchCV(model, grid, scoring = \"accuracy\", cv = 10, refit = True)\n",
    "result = search.fit(X_train, y_train)"
   ]
  },
  {
   "cell_type": "code",
   "execution_count": 74,
   "id": "6bf8c132",
   "metadata": {},
   "outputs": [
    {
     "name": "stdout",
     "output_type": "stream",
     "text": [
      "9.992007221626413e-16\n"
     ]
    }
   ],
   "source": [
    "estimator = load(\"my_random_forest_model.joblib\")\n",
    "\n",
    "y_preds = estimator.predict(X_test)\n",
    "logloss = log_loss(y_test, y_preds)\n",
    "\n",
    "print(logloss)"
   ]
  },
  {
   "cell_type": "code",
   "execution_count": 207,
   "id": "6185d6b5",
   "metadata": {},
   "outputs": [
    {
     "name": "stdout",
     "output_type": "stream",
     "text": [
      "Fitting 2 folds for each of 48 candidates, totalling 96 fits\n",
      "[22:09:18] WARNING: C:\\Windows\\Temp\\abs_557yfx631l\\croots\\recipe\\xgboost-split_1659548953302\\work\\src\\learner.cc:576: \n",
      "Parameters: { \"max_features\" } might not be used.\n",
      "\n",
      "  This could be a false alarm, with some parameters getting used by language bindings but\n",
      "  then being mistakenly passed down to XGBoost core, or some parameter actually being used\n",
      "  but getting flagged wrongly here. Please open an issue if you find any such cases.\n",
      "\n",
      "\n",
      "[22:09:18] WARNING: C:\\Windows\\Temp\\abs_557yfx631l\\croots\\recipe\\xgboost-split_1659548953302\\work\\src\\learner.cc:1115: Starting in XGBoost 1.3.0, the default evaluation metric used with the objective 'binary:logistic' was changed from 'error' to 'logloss'. Explicitly set eval_metric if you'd like to restore the old behavior.\n"
     ]
    },
    {
     "name": "stderr",
     "output_type": "stream",
     "text": [
      "The use of label encoder in XGBClassifier is deprecated and will be removed in a future release. To remove this warning, do the following: 1) Pass option use_label_encoder=False when constructing XGBClassifier object; and 2) Encode your labels (y) as integers starting with 0, i.e. 0, 1, 2, ..., [num_class - 1].\n"
     ]
    }
   ],
   "source": [
    "grid = dict()\n",
    "grid[\"n_estimators\"] = list(np.arange(1,1000,300))\n",
    "grid[\"max_features\"] = list(np.arange(1,20,5))\n",
    "grid[\"max_depth\"] = list(np.arange(1,10,3))\n",
    "\n",
    "xgb_cla = xgb.XGBClassifier(n_jobs = multiprocessing.cpu_count() // 2)\n",
    "clf = GridSearchCV(xgb_cla, grid, verbose = 1, cv =2, n_jobs = 5)\n",
    "\n",
    "model = clf.fit(Ada_X_train,Ada_y_train)"
   ]
  },
  {
   "cell_type": "code",
   "execution_count": 209,
   "id": "06253008",
   "metadata": {},
   "outputs": [
    {
     "name": "stdout",
     "output_type": "stream",
     "text": [
      "0.7938689217758985\n",
      "{'max_depth': 1, 'max_features': 1, 'n_estimators': 301}\n"
     ]
    },
    {
     "ename": "AttributeError",
     "evalue": "'GridSearchCV' object has no attribute 'plot_importance'",
     "output_type": "error",
     "traceback": [
      "\u001b[1;31m---------------------------------------------------------------------------\u001b[0m",
      "\u001b[1;31mAttributeError\u001b[0m                            Traceback (most recent call last)",
      "\u001b[1;32m~\\AppData\\Local\\Temp/ipykernel_23232/1411187402.py\u001b[0m in \u001b[0;36m<module>\u001b[1;34m\u001b[0m\n\u001b[0;32m      2\u001b[0m \u001b[0mprint\u001b[0m\u001b[1;33m(\u001b[0m\u001b[0mclf\u001b[0m\u001b[1;33m.\u001b[0m\u001b[0mbest_params_\u001b[0m\u001b[1;33m)\u001b[0m\u001b[1;33m\u001b[0m\u001b[1;33m\u001b[0m\u001b[0m\n\u001b[0;32m      3\u001b[0m \u001b[1;33m\u001b[0m\u001b[0m\n\u001b[1;32m----> 4\u001b[1;33m \u001b[0mmodel\u001b[0m\u001b[1;33m.\u001b[0m\u001b[0mplot_importance\u001b[0m\u001b[1;33m(\u001b[0m\u001b[0mxgb_cla\u001b[0m\u001b[1;33m)\u001b[0m\u001b[1;33m\u001b[0m\u001b[1;33m\u001b[0m\u001b[0m\n\u001b[0m\u001b[0;32m      5\u001b[0m \u001b[1;33m\u001b[0m\u001b[0m\n",
      "\u001b[1;31mAttributeError\u001b[0m: 'GridSearchCV' object has no attribute 'plot_importance'"
     ]
    }
   ],
   "source": [
    "print(clf.best_score_)\n",
    "print(clf.best_params_)\n",
    "\n",
    "model.plot_importance(xgb_cla)\n",
    "\n"
   ]
  },
  {
   "cell_type": "code",
   "execution_count": 81,
   "id": "76b241b0",
   "metadata": {
    "scrolled": true
   },
   "outputs": [
    {
     "name": "stdout",
     "output_type": "stream",
     "text": [
      "Fitting 2 folds for each of 48 candidates, totalling 96 fits\n",
      "[20:52:14] WARNING: C:\\Windows\\Temp\\abs_557yfx631l\\croots\\recipe\\xgboost-split_1659548953302\\work\\src\\learner.cc:576: \n",
      "Parameters: { \"max_features\" } might not be used.\n",
      "\n",
      "  This could be a false alarm, with some parameters getting used by language bindings but\n",
      "  then being mistakenly passed down to XGBoost core, or some parameter actually being used\n",
      "  but getting flagged wrongly here. Please open an issue if you find any such cases.\n",
      "\n",
      "\n",
      "[20:52:14] WARNING: C:\\Windows\\Temp\\abs_557yfx631l\\croots\\recipe\\xgboost-split_1659548953302\\work\\src\\learner.cc:1115: Starting in XGBoost 1.3.0, the default evaluation metric used with the objective 'binary:logistic' was changed from 'error' to 'logloss'. Explicitly set eval_metric if you'd like to restore the old behavior.\n"
     ]
    },
    {
     "name": "stderr",
     "output_type": "stream",
     "text": [
      "The use of label encoder in XGBClassifier is deprecated and will be removed in a future release. To remove this warning, do the following: 1) Pass option use_label_encoder=False when constructing XGBClassifier object; and 2) Encode your labels (y) as integers starting with 0, i.e. 0, 1, 2, ..., [num_class - 1].\n"
     ]
    },
    {
     "data": {
      "text/plain": [
       "GridSearchCV(cv=2,\n",
       "             estimator=XGBClassifier(base_score=None, booster=None,\n",
       "                                     colsample_bylevel=None,\n",
       "                                     colsample_bynode=None,\n",
       "                                     colsample_bytree=None,\n",
       "                                     enable_categorical=False, gamma=None,\n",
       "                                     gpu_id=None, importance_type=None,\n",
       "                                     interaction_constraints=None,\n",
       "                                     learning_rate=None, max_delta_step=None,\n",
       "                                     max_depth=None, min_child_weight=None,\n",
       "                                     missing=nan, monotone_constraints=None,\n",
       "                                     n_estimators=100, n_jobs=8,\n",
       "                                     num_parallel_tree=None, predictor=None,\n",
       "                                     random_state=None, reg_alpha=None,\n",
       "                                     reg_lambda=None, scale_pos_weight=None,\n",
       "                                     subsample=None, tree_method=None,\n",
       "                                     validate_parameters=None, verbosity=None),\n",
       "             n_jobs=5,\n",
       "             param_grid={'max_depth': [1, 4, 7], 'max_features': [1, 6, 11, 16],\n",
       "                         'n_estimators': [1, 301, 601, 901]},\n",
       "             verbose=1)"
      ]
     },
     "execution_count": 81,
     "metadata": {},
     "output_type": "execute_result"
    }
   ],
   "source": [
    "grid = dict()\n",
    "grid[\"n_estimators\"] = list(np.arange(1,1000,300))\n",
    "grid[\"max_features\"] = list(np.arange(1,20,5))\n",
    "grid[\"max_depth\"] = list(np.arange(1,10,3))\n",
    "\n",
    "xgb_cla = xgb.XGBClassifier(n_jobs = multiprocessing.cpu_count() // 2)\n",
    "clf = GridSearchCV(xgb_cla, grid, verbose = 1, cv =2, n_jobs = 5)\n",
    "\n",
    "clf.fit(X_train_scaled,y_train)"
   ]
  },
  {
   "cell_type": "code",
   "execution_count": null,
   "id": "96e2d889",
   "metadata": {},
   "outputs": [],
   "source": []
  },
  {
   "cell_type": "code",
   "execution_count": null,
   "id": "5c5ca322",
   "metadata": {},
   "outputs": [],
   "source": []
  },
  {
   "cell_type": "code",
   "execution_count": null,
   "id": "074547b2",
   "metadata": {},
   "outputs": [],
   "source": []
  },
  {
   "cell_type": "code",
   "execution_count": 166,
   "id": "c236573a",
   "metadata": {},
   "outputs": [
    {
     "data": {
      "text/plain": [
       "Int64Index([629,   0, 316, 706, 547, 872, 532, 477, 404, 172,\n",
       "            ...\n",
       "            121, 614,  20, 700,  71, 106, 270, 860, 435, 102],\n",
       "           dtype='int64', length=667)"
      ]
     },
     "execution_count": 166,
     "metadata": {},
     "output_type": "execute_result"
    }
   ],
   "source": [
    "X_train.index"
   ]
  },
  {
   "cell_type": "code",
   "execution_count": 164,
   "id": "57fd794f",
   "metadata": {},
   "outputs": [
    {
     "data": {
      "text/plain": [
       "Index(['checking_status', 'duration', 'credit_history', 'purpose',\n",
       "       'credit_amount', 'savings_status', 'employment',\n",
       "       'installment_commitment', 'personal_status', 'other_parties',\n",
       "       'residence_since', 'property_magnitude', 'other_payment_plans',\n",
       "       'housing', 'existing_credits', 'job', 'num_dependents', 'own_telephone',\n",
       "       'foreign_worker', 'age_cat'],\n",
       "      dtype='object')"
      ]
     },
     "execution_count": 164,
     "metadata": {},
     "output_type": "execute_result"
    }
   ],
   "source": [
    "X_train.columns\n"
   ]
  },
  {
   "cell_type": "code",
   "execution_count": 186,
   "id": "a1975cea",
   "metadata": {
    "scrolled": true
   },
   "outputs": [
    {
     "name": "stdout",
     "output_type": "stream",
     "text": [
      "[0]\ttest-logloss:0.69280\n",
      "[100]\ttest-logloss:0.66104\n",
      "[200]\ttest-logloss:0.63370\n",
      "[300]\ttest-logloss:0.61005\n",
      "[400]\ttest-logloss:0.58983\n",
      "[500]\ttest-logloss:0.57196\n",
      "[600]\ttest-logloss:0.55612\n",
      "[700]\ttest-logloss:0.54213\n",
      "[800]\ttest-logloss:0.52971\n",
      "[900]\ttest-logloss:0.51858\n",
      "[1000]\ttest-logloss:0.50889\n",
      "[1100]\ttest-logloss:0.50010\n",
      "[1200]\ttest-logloss:0.49200\n",
      "[1300]\ttest-logloss:0.48447\n",
      "[1400]\ttest-logloss:0.47759\n",
      "[1500]\ttest-logloss:0.47150\n",
      "[1600]\ttest-logloss:0.46571\n",
      "[1700]\ttest-logloss:0.46035\n",
      "[1800]\ttest-logloss:0.45539\n",
      "[1900]\ttest-logloss:0.45096\n",
      "[2000]\ttest-logloss:0.44650\n",
      "[2100]\ttest-logloss:0.44266\n",
      "[2200]\ttest-logloss:0.43900\n",
      "[2300]\ttest-logloss:0.43558\n",
      "[2400]\ttest-logloss:0.43262\n",
      "[2500]\ttest-logloss:0.42938\n",
      "[2600]\ttest-logloss:0.42646\n",
      "[2700]\ttest-logloss:0.42381\n",
      "[2800]\ttest-logloss:0.42118\n",
      "[2900]\ttest-logloss:0.41901\n",
      "[3000]\ttest-logloss:0.41679\n",
      "[3100]\ttest-logloss:0.41465\n",
      "[3200]\ttest-logloss:0.41265\n",
      "[3300]\ttest-logloss:0.41082\n",
      "[3400]\ttest-logloss:0.40901\n",
      "[3500]\ttest-logloss:0.40755\n",
      "[3600]\ttest-logloss:0.40609\n",
      "[3700]\ttest-logloss:0.40464\n",
      "[3800]\ttest-logloss:0.40335\n",
      "[3900]\ttest-logloss:0.40195\n",
      "[4000]\ttest-logloss:0.40085\n",
      "[4100]\ttest-logloss:0.39961\n",
      "[4200]\ttest-logloss:0.39830\n",
      "[4300]\ttest-logloss:0.39736\n",
      "[4400]\ttest-logloss:0.39644\n",
      "[4500]\ttest-logloss:0.39549\n",
      "[4600]\ttest-logloss:0.39463\n",
      "[4700]\ttest-logloss:0.39385\n",
      "[4800]\ttest-logloss:0.39296\n",
      "[4900]\ttest-logloss:0.39212\n",
      "[5000]\ttest-logloss:0.39131\n",
      "[5100]\ttest-logloss:0.39075\n",
      "[5200]\ttest-logloss:0.39000\n",
      "[5300]\ttest-logloss:0.38952\n",
      "[5400]\ttest-logloss:0.38902\n",
      "[5500]\ttest-logloss:0.38832\n",
      "[5600]\ttest-logloss:0.38776\n",
      "[5700]\ttest-logloss:0.38722\n",
      "[5800]\ttest-logloss:0.38658\n",
      "[5900]\ttest-logloss:0.38606\n",
      "[6000]\ttest-logloss:0.38551\n",
      "[6100]\ttest-logloss:0.38521\n",
      "[6200]\ttest-logloss:0.38475\n",
      "[6300]\ttest-logloss:0.38441\n",
      "[6400]\ttest-logloss:0.38409\n",
      "[6500]\ttest-logloss:0.38362\n",
      "[6600]\ttest-logloss:0.38324\n",
      "[6700]\ttest-logloss:0.38295\n",
      "[6800]\ttest-logloss:0.38266\n",
      "[6900]\ttest-logloss:0.38216\n",
      "[7000]\ttest-logloss:0.38186\n",
      "[7100]\ttest-logloss:0.38165\n",
      "[7200]\ttest-logloss:0.38138\n",
      "[7300]\ttest-logloss:0.38120\n",
      "[7400]\ttest-logloss:0.38102\n",
      "[7500]\ttest-logloss:0.38066\n",
      "[7600]\ttest-logloss:0.38036\n",
      "[7700]\ttest-logloss:0.38010\n",
      "[7800]\ttest-logloss:0.37989\n",
      "[7900]\ttest-logloss:0.37966\n",
      "[8000]\ttest-logloss:0.37946\n",
      "[8100]\ttest-logloss:0.37933\n",
      "[8200]\ttest-logloss:0.37903\n",
      "[8300]\ttest-logloss:0.37877\n",
      "[8400]\ttest-logloss:0.37856\n",
      "[8500]\ttest-logloss:0.37834\n",
      "[8600]\ttest-logloss:0.37818\n",
      "[8700]\ttest-logloss:0.37794\n",
      "[8800]\ttest-logloss:0.37776\n",
      "[8900]\ttest-logloss:0.37766\n",
      "[9000]\ttest-logloss:0.37750\n",
      "[9100]\ttest-logloss:0.37739\n",
      "[9200]\ttest-logloss:0.37713\n",
      "[9300]\ttest-logloss:0.37714\n",
      "[9400]\ttest-logloss:0.37712\n",
      "[9500]\ttest-logloss:0.37720\n",
      "[9559]\ttest-logloss:0.37719\n"
     ]
    }
   ],
   "source": [
    "params = {\n",
    "    \"eta\": 0.001,\n",
    "    \"objective\": \"binary:logistic\",\n",
    "    \"subsample\": 0.5,\n",
    "    \"eval_metric\": \"logloss\"\n",
    "}\n",
    "\n",
    "\n",
    "\n",
    "\n",
    "d_train = xgb.DMatrix(Ada_X_train, label = Ada_y_train)\n",
    "d_test = xgb.DMatrix(Ada_X_test, label = Ada_y_test)\n",
    "\n",
    "model = xgb.train(params, d_train, 50000, evals = [(d_test, \"test\")], verbose_eval=100, early_stopping_rounds=200)\n"
   ]
  },
  {
   "cell_type": "code",
   "execution_count": 192,
   "id": "5453724d",
   "metadata": {},
   "outputs": [
    {
     "name": "stdout",
     "output_type": "stream",
     "text": [
      "[0]\ttest-logloss:0.69047\n",
      "[100]\ttest-logloss:0.54676\n",
      "[200]\ttest-logloss:0.51182\n",
      "[300]\ttest-logloss:0.50399\n",
      "[400]\ttest-logloss:0.50374\n",
      "[500]\ttest-logloss:0.50757\n",
      "[528]\ttest-logloss:0.50795\n"
     ]
    }
   ],
   "source": [
    "params = {\n",
    "    \"eta\": 0.01,\n",
    "    \"objective\": \"binary:logistic\",\n",
    "    \"subsample\": 0.5,\n",
    "    \"eval_metric\": \"logloss\"\n",
    "}\n",
    "\n",
    "\n",
    "\n",
    "\n",
    "d_train = xgb.DMatrix(X_train, label = y_train)\n",
    "d_test = xgb.DMatrix(X_test, label = y_test)\n",
    "\n",
    "model = xgb.train(params, d_train, 50000, evals = [(d_test, \"test\")], verbose_eval=100, early_stopping_rounds=200)\n"
   ]
  },
  {
   "cell_type": "code",
   "execution_count": 202,
   "id": "4286d03f",
   "metadata": {},
   "outputs": [
    {
     "name": "stdout",
     "output_type": "stream",
     "text": [
      "0.507954363904155\n"
     ]
    }
   ],
   "source": [
    "#xgb.plot_importance(model)\n",
    "\n",
    "y_pred = model.predict(d_test)\n",
    "\n",
    "accuracy = log_loss(y_test, y_pred)\n",
    "print(accuracy)"
   ]
  },
  {
   "cell_type": "code",
   "execution_count": null,
   "id": "0d8df8bb",
   "metadata": {},
   "outputs": [],
   "source": []
  },
  {
   "cell_type": "code",
   "execution_count": null,
   "id": "cb817a71",
   "metadata": {},
   "outputs": [],
   "source": []
  },
  {
   "cell_type": "code",
   "execution_count": null,
   "id": "54c27527",
   "metadata": {},
   "outputs": [],
   "source": []
  },
  {
   "cell_type": "code",
   "execution_count": null,
   "id": "b5a92a72",
   "metadata": {},
   "outputs": [],
   "source": []
  },
  {
   "cell_type": "code",
   "execution_count": null,
   "id": "b4bc9aa3",
   "metadata": {},
   "outputs": [],
   "source": []
  },
  {
   "cell_type": "code",
   "execution_count": null,
   "id": "0fc4c140",
   "metadata": {},
   "outputs": [],
   "source": []
  },
  {
   "cell_type": "code",
   "execution_count": null,
   "id": "1214aa83",
   "metadata": {},
   "outputs": [],
   "source": []
  },
  {
   "cell_type": "code",
   "execution_count": null,
   "id": "35d503f3",
   "metadata": {},
   "outputs": [],
   "source": []
  },
  {
   "cell_type": "code",
   "execution_count": null,
   "id": "e61670c8",
   "metadata": {},
   "outputs": [],
   "source": []
  },
  {
   "cell_type": "code",
   "execution_count": 146,
   "id": "2f8c3f7a",
   "metadata": {},
   "outputs": [
    {
     "data": {
      "text/plain": [
       "<catboost.core.CatBoostClassifier at 0x185585a7280>"
      ]
     },
     "execution_count": 146,
     "metadata": {},
     "output_type": "execute_result"
    }
   ],
   "source": [
    "cat_model = CatBoostClassifier(iterations=800,\n",
    "                          learning_rate=0.03)\n",
    "\n",
    "\n",
    "\n",
    "categorical_features_indices = np.where(cat_X_train.dtypes != np.int64)[0]\n",
    "\n",
    "train_data = Pool(data = cat_X_train, label = cat_y_train, cat_features = categorical_features_indices)\n",
    "eval_data = Pool(data = cat_X_test, label = cat_y_test, cat_features = categorical_features_indices)\n",
    "\n",
    "cat_model.fit(train_data, eval_set = eval_data, verbose = False)\n"
   ]
  },
  {
   "cell_type": "code",
   "execution_count": null,
   "id": "4f028048",
   "metadata": {},
   "outputs": [],
   "source": []
  },
  {
   "cell_type": "code",
   "execution_count": null,
   "id": "8c3d77e4",
   "metadata": {},
   "outputs": [],
   "source": []
  },
  {
   "cell_type": "code",
   "execution_count": null,
   "id": "7622faaa",
   "metadata": {},
   "outputs": [],
   "source": []
  },
  {
   "cell_type": "code",
   "execution_count": 189,
   "id": "037a7212",
   "metadata": {},
   "outputs": [
    {
     "data": {
      "text/plain": [
       "<catboost.core.CatBoostClassifier at 0x185586b6df0>"
      ]
     },
     "execution_count": 189,
     "metadata": {},
     "output_type": "execute_result"
    }
   ],
   "source": [
    "cat_model = CatBoostClassifier(iterations=800,\n",
    "                          learning_rate=0.03)\n",
    "\n",
    "\n",
    "\n",
    "categorical_features_indices = np.where(Ada_X_train.dtypes != np.int64)[0]\n",
    "\n",
    "train_data = Pool(data = Ada_X_train, label = Ada_y_train, cat_features = categorical_features_indices)\n",
    "eval_data = Pool(data = Ada_X_test, label = Ada_y_test, cat_features = categorical_features_indices)\n",
    "\n",
    "cat_model.fit(train_data, eval_set = eval_data, verbose = False)\n"
   ]
  },
  {
   "cell_type": "code",
   "execution_count": null,
   "id": "4b2e4ffd",
   "metadata": {},
   "outputs": [],
   "source": []
  },
  {
   "cell_type": "code",
   "execution_count": null,
   "id": "66d1f2c8",
   "metadata": {},
   "outputs": [],
   "source": []
  },
  {
   "cell_type": "code",
   "execution_count": 147,
   "id": "38f97dcd",
   "metadata": {},
   "outputs": [
    {
     "name": "stdout",
     "output_type": "stream",
     "text": [
      "<class 'pandas.core.frame.DataFrame'>\n",
      "Int64Index: 667 entries, 629 to 102\n",
      "Data columns (total 20 columns):\n",
      " #   Column                  Non-Null Count  Dtype\n",
      "---  ------                  --------------  -----\n",
      " 0   checking_status         667 non-null    int32\n",
      " 1   duration                667 non-null    int64\n",
      " 2   credit_history          667 non-null    int32\n",
      " 3   purpose                 667 non-null    int32\n",
      " 4   credit_amount           667 non-null    int64\n",
      " 5   savings_status          667 non-null    int32\n",
      " 6   employment              667 non-null    int32\n",
      " 7   installment_commitment  667 non-null    int64\n",
      " 8   personal_status         667 non-null    int32\n",
      " 9   other_parties           667 non-null    int32\n",
      " 10  residence_since         667 non-null    int64\n",
      " 11  property_magnitude      667 non-null    int32\n",
      " 12  other_payment_plans     667 non-null    int32\n",
      " 13  housing                 667 non-null    int32\n",
      " 14  existing_credits        667 non-null    int64\n",
      " 15  job                     667 non-null    int32\n",
      " 16  num_dependents          667 non-null    int64\n",
      " 17  own_telephone           667 non-null    int32\n",
      " 18  foreign_worker          667 non-null    int32\n",
      " 19  age_cat                 667 non-null    int32\n",
      "dtypes: int32(14), int64(6)\n",
      "memory usage: 73.0 KB\n"
     ]
    }
   ],
   "source": [
    "X_train.info()"
   ]
  },
  {
   "cell_type": "code",
   "execution_count": 190,
   "id": "0453765b",
   "metadata": {},
   "outputs": [],
   "source": [
    "cat_model.get_best_score()\n",
    "preds_class = cat_model.predict(eval_data)\n",
    "\n"
   ]
  },
  {
   "cell_type": "code",
   "execution_count": null,
   "id": "7557e954",
   "metadata": {},
   "outputs": [],
   "source": []
  },
  {
   "cell_type": "code",
   "execution_count": null,
   "id": "64ebf76a",
   "metadata": {},
   "outputs": [],
   "source": []
  },
  {
   "cell_type": "code",
   "execution_count": 191,
   "id": "1a68e9ba",
   "metadata": {},
   "outputs": [
    {
     "data": {
      "application/vnd.jupyter.widget-view+json": {
       "model_id": "9f1076b6705f48f48cf1aae51ac6e1f0",
       "version_major": 2,
       "version_minor": 0
      },
      "text/plain": [
       "MetricVisualizer(layout=Layout(align_self='stretch', height='500px'))"
      ]
     },
     "metadata": {},
     "output_type": "display_data"
    },
    {
     "name": "stdout",
     "output_type": "stream",
     "text": [
      "Training on fold [0/10]\n",
      "\n",
      "bestTest = 0.3817084665\n",
      "bestIteration = 309\n",
      "\n",
      "Training on fold [1/10]\n",
      "\n",
      "bestTest = 0.3660102572\n",
      "bestIteration = 951\n",
      "\n",
      "Training on fold [2/10]\n",
      "\n",
      "bestTest = 0.4640345598\n",
      "bestIteration = 178\n",
      "\n",
      "Training on fold [3/10]\n",
      "\n",
      "bestTest = 0.4128607906\n",
      "bestIteration = 443\n",
      "\n",
      "Training on fold [4/10]\n",
      "\n",
      "bestTest = 0.4403477485\n",
      "bestIteration = 457\n",
      "\n",
      "Training on fold [5/10]\n",
      "\n",
      "bestTest = 0.3179204065\n",
      "bestIteration = 671\n",
      "\n",
      "Training on fold [6/10]\n",
      "\n",
      "bestTest = 0.3196679858\n",
      "bestIteration = 842\n",
      "\n",
      "Training on fold [7/10]\n"
     ]
    },
    {
     "ename": "KeyboardInterrupt",
     "evalue": "",
     "output_type": "error",
     "traceback": [
      "\u001b[1;31m---------------------------------------------------------------------------\u001b[0m",
      "\u001b[1;31mKeyboardInterrupt\u001b[0m                         Traceback (most recent call last)",
      "\u001b[1;32m~\\AppData\\Local\\Temp/ipykernel_23232/3790939006.py\u001b[0m in \u001b[0;36m<module>\u001b[1;34m\u001b[0m\n\u001b[0;32m      5\u001b[0m           \"verbose\": False}\n\u001b[0;32m      6\u001b[0m \u001b[1;33m\u001b[0m\u001b[0m\n\u001b[1;32m----> 7\u001b[1;33m scores = cv(train_data,\n\u001b[0m\u001b[0;32m      8\u001b[0m             \u001b[0mparams\u001b[0m\u001b[1;33m,\u001b[0m\u001b[1;33m\u001b[0m\u001b[1;33m\u001b[0m\u001b[0m\n\u001b[0;32m      9\u001b[0m             \u001b[0mfold_count\u001b[0m\u001b[1;33m=\u001b[0m\u001b[1;36m10\u001b[0m\u001b[1;33m,\u001b[0m\u001b[1;33m\u001b[0m\u001b[1;33m\u001b[0m\u001b[0m\n",
      "\u001b[1;32m~\\anaconda3\\lib\\site-packages\\catboost\\core.py\u001b[0m in \u001b[0;36mcv\u001b[1;34m(pool, params, dtrain, iterations, num_boost_round, fold_count, nfold, inverted, partition_random_seed, seed, shuffle, logging_level, stratified, as_pandas, metric_period, verbose, verbose_eval, plot, plot_file, early_stopping_rounds, save_snapshot, snapshot_file, snapshot_interval, metric_update_interval, folds, type, return_models, log_cout, log_cerr)\u001b[0m\n\u001b[0;32m   6648\u001b[0m     \u001b[1;32mwith\u001b[0m \u001b[0mlog_fixup\u001b[0m\u001b[1;33m(\u001b[0m\u001b[0mlog_cout\u001b[0m\u001b[1;33m,\u001b[0m \u001b[0mlog_cerr\u001b[0m\u001b[1;33m)\u001b[0m\u001b[1;33m,\u001b[0m \u001b[0mplot_wrapper\u001b[0m\u001b[1;33m(\u001b[0m\u001b[0mplot\u001b[0m\u001b[1;33m,\u001b[0m \u001b[0mplot_file\u001b[0m\u001b[1;33m=\u001b[0m\u001b[0mplot_file\u001b[0m\u001b[1;33m,\u001b[0m \u001b[0mplot_title\u001b[0m\u001b[1;33m=\u001b[0m\u001b[1;34m'Cross-validation plot'\u001b[0m\u001b[1;33m,\u001b[0m \u001b[0mtrain_dirs\u001b[0m\u001b[1;33m=\u001b[0m\u001b[0mplot_dirs\u001b[0m\u001b[1;33m)\u001b[0m\u001b[1;33m:\u001b[0m\u001b[1;33m\u001b[0m\u001b[1;33m\u001b[0m\u001b[0m\n\u001b[0;32m   6649\u001b[0m         \u001b[1;32mif\u001b[0m \u001b[1;32mnot\u001b[0m \u001b[0mreturn_models\u001b[0m\u001b[1;33m:\u001b[0m\u001b[1;33m\u001b[0m\u001b[1;33m\u001b[0m\u001b[0m\n\u001b[1;32m-> 6650\u001b[1;33m             return _cv(params, pool, fold_count, inverted, partition_random_seed, shuffle, stratified,\n\u001b[0m\u001b[0;32m   6651\u001b[0m                     metric_update_interval, as_pandas, folds, type, return_models)\n\u001b[0;32m   6652\u001b[0m         \u001b[1;32melse\u001b[0m\u001b[1;33m:\u001b[0m\u001b[1;33m\u001b[0m\u001b[1;33m\u001b[0m\u001b[0m\n",
      "\u001b[1;32m_catboost.pyx\u001b[0m in \u001b[0;36m_catboost._cv\u001b[1;34m()\u001b[0m\n",
      "\u001b[1;32m_catboost.pyx\u001b[0m in \u001b[0;36m_catboost._cv\u001b[1;34m()\u001b[0m\n",
      "\u001b[1;31mKeyboardInterrupt\u001b[0m: "
     ]
    }
   ],
   "source": [
    "params = {\"iterations\": 1000,\n",
    "          \"depth\": 6,\n",
    "          \"loss_function\": \"Logloss\",\n",
    "          \"learning_rate\" : 0.05,\n",
    "          \"verbose\": False}\n",
    "\n",
    "scores = cv(train_data,\n",
    "            params,\n",
    "            fold_count=10,\n",
    "            plot=\"True\",\n",
    "           partition_random_seed=42)"
   ]
  },
  {
   "cell_type": "code",
   "execution_count": 183,
   "id": "9bccea31",
   "metadata": {},
   "outputs": [
    {
     "data": {
      "text/html": [
       "<div>\n",
       "<style scoped>\n",
       "    .dataframe tbody tr th:only-of-type {\n",
       "        vertical-align: middle;\n",
       "    }\n",
       "\n",
       "    .dataframe tbody tr th {\n",
       "        vertical-align: top;\n",
       "    }\n",
       "\n",
       "    .dataframe thead th {\n",
       "        text-align: right;\n",
       "    }\n",
       "</style>\n",
       "<table border=\"1\" class=\"dataframe\">\n",
       "  <thead>\n",
       "    <tr style=\"text-align: right;\">\n",
       "      <th></th>\n",
       "      <th>iterations</th>\n",
       "      <th>test-Logloss-mean</th>\n",
       "      <th>test-Logloss-std</th>\n",
       "      <th>train-Logloss-mean</th>\n",
       "      <th>train-Logloss-std</th>\n",
       "    </tr>\n",
       "  </thead>\n",
       "  <tbody>\n",
       "    <tr>\n",
       "      <th>0</th>\n",
       "      <td>0</td>\n",
       "      <td>0.158320</td>\n",
       "      <td>0.004000</td>\n",
       "      <td>0.157812</td>\n",
       "      <td>0.001540</td>\n",
       "    </tr>\n",
       "    <tr>\n",
       "      <th>1</th>\n",
       "      <td>1</td>\n",
       "      <td>0.047600</td>\n",
       "      <td>0.001665</td>\n",
       "      <td>0.047458</td>\n",
       "      <td>0.000854</td>\n",
       "    </tr>\n",
       "    <tr>\n",
       "      <th>2</th>\n",
       "      <td>2</td>\n",
       "      <td>0.016600</td>\n",
       "      <td>0.001083</td>\n",
       "      <td>0.016779</td>\n",
       "      <td>0.000996</td>\n",
       "    </tr>\n",
       "    <tr>\n",
       "      <th>3</th>\n",
       "      <td>3</td>\n",
       "      <td>0.007647</td>\n",
       "      <td>0.000725</td>\n",
       "      <td>0.007908</td>\n",
       "      <td>0.000709</td>\n",
       "    </tr>\n",
       "    <tr>\n",
       "      <th>4</th>\n",
       "      <td>4</td>\n",
       "      <td>0.004787</td>\n",
       "      <td>0.000379</td>\n",
       "      <td>0.004924</td>\n",
       "      <td>0.000372</td>\n",
       "    </tr>\n",
       "    <tr>\n",
       "      <th>...</th>\n",
       "      <td>...</td>\n",
       "      <td>...</td>\n",
       "      <td>...</td>\n",
       "      <td>...</td>\n",
       "      <td>...</td>\n",
       "    </tr>\n",
       "    <tr>\n",
       "      <th>495</th>\n",
       "      <td>495</td>\n",
       "      <td>0.000722</td>\n",
       "      <td>0.000096</td>\n",
       "      <td>0.000792</td>\n",
       "      <td>0.000076</td>\n",
       "    </tr>\n",
       "    <tr>\n",
       "      <th>496</th>\n",
       "      <td>496</td>\n",
       "      <td>0.000722</td>\n",
       "      <td>0.000096</td>\n",
       "      <td>0.000792</td>\n",
       "      <td>0.000076</td>\n",
       "    </tr>\n",
       "    <tr>\n",
       "      <th>497</th>\n",
       "      <td>497</td>\n",
       "      <td>0.000722</td>\n",
       "      <td>0.000096</td>\n",
       "      <td>0.000792</td>\n",
       "      <td>0.000076</td>\n",
       "    </tr>\n",
       "    <tr>\n",
       "      <th>498</th>\n",
       "      <td>498</td>\n",
       "      <td>0.000722</td>\n",
       "      <td>0.000096</td>\n",
       "      <td>0.000792</td>\n",
       "      <td>0.000076</td>\n",
       "    </tr>\n",
       "    <tr>\n",
       "      <th>499</th>\n",
       "      <td>499</td>\n",
       "      <td>0.000722</td>\n",
       "      <td>0.000096</td>\n",
       "      <td>0.000792</td>\n",
       "      <td>0.000076</td>\n",
       "    </tr>\n",
       "  </tbody>\n",
       "</table>\n",
       "<p>500 rows × 5 columns</p>\n",
       "</div>"
      ],
      "text/plain": [
       "     iterations  test-Logloss-mean  test-Logloss-std  train-Logloss-mean  \\\n",
       "0             0           0.158320          0.004000            0.157812   \n",
       "1             1           0.047600          0.001665            0.047458   \n",
       "2             2           0.016600          0.001083            0.016779   \n",
       "3             3           0.007647          0.000725            0.007908   \n",
       "4             4           0.004787          0.000379            0.004924   \n",
       "..          ...                ...               ...                 ...   \n",
       "495         495           0.000722          0.000096            0.000792   \n",
       "496         496           0.000722          0.000096            0.000792   \n",
       "497         497           0.000722          0.000096            0.000792   \n",
       "498         498           0.000722          0.000096            0.000792   \n",
       "499         499           0.000722          0.000096            0.000792   \n",
       "\n",
       "     train-Logloss-std  \n",
       "0             0.001540  \n",
       "1             0.000854  \n",
       "2             0.000996  \n",
       "3             0.000709  \n",
       "4             0.000372  \n",
       "..                 ...  \n",
       "495           0.000076  \n",
       "496           0.000076  \n",
       "497           0.000076  \n",
       "498           0.000076  \n",
       "499           0.000076  \n",
       "\n",
       "[500 rows x 5 columns]"
      ]
     },
     "execution_count": 183,
     "metadata": {},
     "output_type": "execute_result"
    }
   ],
   "source": [
    "scores"
   ]
  },
  {
   "cell_type": "code",
   "execution_count": 201,
   "id": "325b0c57",
   "metadata": {},
   "outputs": [
    {
     "data": {
      "text/plain": [
       "<Figure size 864x432 with 0 Axes>"
      ]
     },
     "metadata": {},
     "output_type": "display_data"
    }
   ],
   "source": [
    "ftt = model.feature_importances_\n",
    "sorted_idx = np.argsort(ftt)\n",
    "\n",
    "fig = plt.figure(figsize = (12,6))\n",
    "pltt.barh(range(len(sortted_idx)))\n"
   ]
  },
  {
   "cell_type": "code",
   "execution_count": null,
   "id": "0fa7fc32",
   "metadata": {},
   "outputs": [],
   "source": []
  },
  {
   "cell_type": "code",
   "execution_count": null,
   "id": "e79089f3",
   "metadata": {},
   "outputs": [],
   "source": []
  },
  {
   "cell_type": "code",
   "execution_count": null,
   "id": "a6a85bdb",
   "metadata": {},
   "outputs": [],
   "source": []
  }
 ],
 "metadata": {
  "kernelspec": {
   "display_name": "Python 3 (ipykernel)",
   "language": "python",
   "name": "python3"
  },
  "language_info": {
   "codemirror_mode": {
    "name": "ipython",
    "version": 3
   },
   "file_extension": ".py",
   "mimetype": "text/x-python",
   "name": "python",
   "nbconvert_exporter": "python",
   "pygments_lexer": "ipython3",
   "version": "3.9.7"
  }
 },
 "nbformat": 4,
 "nbformat_minor": 5
}
